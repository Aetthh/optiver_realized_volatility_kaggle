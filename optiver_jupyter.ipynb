{
 "cells": [
  {
   "cell_type": "code",
   "execution_count": 1,
   "id": "6dbd7718",
   "metadata": {},
   "outputs": [],
   "source": [
    "import pandas as pd\n",
    "import numpy as np\n",
    "import os\n",
    "import glob"
   ]
  },
  {
   "cell_type": "markdown",
   "id": "02b78b67",
   "metadata": {},
   "source": [
    "Load both trade and book datasets"
   ]
  },
  {
   "cell_type": "code",
   "execution_count": 2,
   "id": "47a29962",
   "metadata": {},
   "outputs": [],
   "source": [
    "book_path = glob.glob('book_train.parquet/*')"
   ]
  },
  {
   "cell_type": "code",
   "execution_count": 3,
   "id": "6a39b55d",
   "metadata": {},
   "outputs": [],
   "source": [
    "trade_path = glob.glob('trade_train.parquet/*')"
   ]
  },
  {
   "cell_type": "markdown",
   "id": "e47b7328",
   "metadata": {},
   "source": [
    "Extract both book and trade dataframes for stock id = 0 and run my code on it to test"
   ]
  },
  {
   "cell_type": "code",
   "execution_count": 4,
   "id": "9ee0821c",
   "metadata": {},
   "outputs": [],
   "source": [
    "book_train = pd.read_parquet(book_path[0])"
   ]
  },
  {
   "cell_type": "code",
   "execution_count": 5,
   "id": "3cb3130f",
   "metadata": {},
   "outputs": [],
   "source": [
    "trade_train = pd.read_parquet('trade_train.parquet')"
   ]
  },
  {
   "cell_type": "code",
   "execution_count": 6,
   "id": "fa11a79a",
   "metadata": {},
   "outputs": [
    {
     "data": {
      "text/html": [
       "<div>\n",
       "<style scoped>\n",
       "    .dataframe tbody tr th:only-of-type {\n",
       "        vertical-align: middle;\n",
       "    }\n",
       "\n",
       "    .dataframe tbody tr th {\n",
       "        vertical-align: top;\n",
       "    }\n",
       "\n",
       "    .dataframe thead th {\n",
       "        text-align: right;\n",
       "    }\n",
       "</style>\n",
       "<table border=\"1\" class=\"dataframe\">\n",
       "  <thead>\n",
       "    <tr style=\"text-align: right;\">\n",
       "      <th></th>\n",
       "      <th>time_id</th>\n",
       "      <th>seconds_in_bucket</th>\n",
       "      <th>bid_price1</th>\n",
       "      <th>ask_price1</th>\n",
       "      <th>bid_price2</th>\n",
       "      <th>ask_price2</th>\n",
       "      <th>bid_size1</th>\n",
       "      <th>ask_size1</th>\n",
       "      <th>bid_size2</th>\n",
       "      <th>ask_size2</th>\n",
       "    </tr>\n",
       "  </thead>\n",
       "  <tbody>\n",
       "    <tr>\n",
       "      <th>0</th>\n",
       "      <td>5</td>\n",
       "      <td>0</td>\n",
       "      <td>1.001422</td>\n",
       "      <td>1.002301</td>\n",
       "      <td>1.001370</td>\n",
       "      <td>1.002353</td>\n",
       "      <td>3</td>\n",
       "      <td>226</td>\n",
       "      <td>2</td>\n",
       "      <td>100</td>\n",
       "    </tr>\n",
       "    <tr>\n",
       "      <th>1</th>\n",
       "      <td>5</td>\n",
       "      <td>1</td>\n",
       "      <td>1.001422</td>\n",
       "      <td>1.002301</td>\n",
       "      <td>1.001370</td>\n",
       "      <td>1.002353</td>\n",
       "      <td>3</td>\n",
       "      <td>100</td>\n",
       "      <td>2</td>\n",
       "      <td>100</td>\n",
       "    </tr>\n",
       "    <tr>\n",
       "      <th>2</th>\n",
       "      <td>5</td>\n",
       "      <td>5</td>\n",
       "      <td>1.001422</td>\n",
       "      <td>1.002301</td>\n",
       "      <td>1.001370</td>\n",
       "      <td>1.002405</td>\n",
       "      <td>3</td>\n",
       "      <td>100</td>\n",
       "      <td>2</td>\n",
       "      <td>100</td>\n",
       "    </tr>\n",
       "    <tr>\n",
       "      <th>3</th>\n",
       "      <td>5</td>\n",
       "      <td>6</td>\n",
       "      <td>1.001422</td>\n",
       "      <td>1.002301</td>\n",
       "      <td>1.001370</td>\n",
       "      <td>1.002405</td>\n",
       "      <td>3</td>\n",
       "      <td>126</td>\n",
       "      <td>2</td>\n",
       "      <td>100</td>\n",
       "    </tr>\n",
       "    <tr>\n",
       "      <th>4</th>\n",
       "      <td>5</td>\n",
       "      <td>7</td>\n",
       "      <td>1.001422</td>\n",
       "      <td>1.002301</td>\n",
       "      <td>1.001370</td>\n",
       "      <td>1.002405</td>\n",
       "      <td>3</td>\n",
       "      <td>126</td>\n",
       "      <td>2</td>\n",
       "      <td>100</td>\n",
       "    </tr>\n",
       "    <tr>\n",
       "      <th>...</th>\n",
       "      <td>...</td>\n",
       "      <td>...</td>\n",
       "      <td>...</td>\n",
       "      <td>...</td>\n",
       "      <td>...</td>\n",
       "      <td>...</td>\n",
       "      <td>...</td>\n",
       "      <td>...</td>\n",
       "      <td>...</td>\n",
       "      <td>...</td>\n",
       "    </tr>\n",
       "    <tr>\n",
       "      <th>917548</th>\n",
       "      <td>32767</td>\n",
       "      <td>568</td>\n",
       "      <td>0.998275</td>\n",
       "      <td>0.998754</td>\n",
       "      <td>0.997796</td>\n",
       "      <td>0.998946</td>\n",
       "      <td>90</td>\n",
       "      <td>90</td>\n",
       "      <td>48</td>\n",
       "      <td>28</td>\n",
       "    </tr>\n",
       "    <tr>\n",
       "      <th>917549</th>\n",
       "      <td>32767</td>\n",
       "      <td>569</td>\n",
       "      <td>0.998275</td>\n",
       "      <td>0.998754</td>\n",
       "      <td>0.997892</td>\n",
       "      <td>0.998946</td>\n",
       "      <td>91</td>\n",
       "      <td>90</td>\n",
       "      <td>200</td>\n",
       "      <td>28</td>\n",
       "    </tr>\n",
       "    <tr>\n",
       "      <th>917550</th>\n",
       "      <td>32767</td>\n",
       "      <td>571</td>\n",
       "      <td>0.998275</td>\n",
       "      <td>0.998754</td>\n",
       "      <td>0.997892</td>\n",
       "      <td>0.998946</td>\n",
       "      <td>91</td>\n",
       "      <td>90</td>\n",
       "      <td>100</td>\n",
       "      <td>28</td>\n",
       "    </tr>\n",
       "    <tr>\n",
       "      <th>917551</th>\n",
       "      <td>32767</td>\n",
       "      <td>572</td>\n",
       "      <td>0.998275</td>\n",
       "      <td>0.998754</td>\n",
       "      <td>0.997892</td>\n",
       "      <td>0.998946</td>\n",
       "      <td>92</td>\n",
       "      <td>90</td>\n",
       "      <td>100</td>\n",
       "      <td>28</td>\n",
       "    </tr>\n",
       "    <tr>\n",
       "      <th>917552</th>\n",
       "      <td>32767</td>\n",
       "      <td>582</td>\n",
       "      <td>0.998275</td>\n",
       "      <td>0.998754</td>\n",
       "      <td>0.998179</td>\n",
       "      <td>0.998946</td>\n",
       "      <td>92</td>\n",
       "      <td>90</td>\n",
       "      <td>26</td>\n",
       "      <td>28</td>\n",
       "    </tr>\n",
       "  </tbody>\n",
       "</table>\n",
       "<p>917553 rows × 10 columns</p>\n",
       "</div>"
      ],
      "text/plain": [
       "        time_id  seconds_in_bucket  bid_price1  ask_price1  bid_price2  \\\n",
       "0             5                  0    1.001422    1.002301    1.001370   \n",
       "1             5                  1    1.001422    1.002301    1.001370   \n",
       "2             5                  5    1.001422    1.002301    1.001370   \n",
       "3             5                  6    1.001422    1.002301    1.001370   \n",
       "4             5                  7    1.001422    1.002301    1.001370   \n",
       "...         ...                ...         ...         ...         ...   \n",
       "917548    32767                568    0.998275    0.998754    0.997796   \n",
       "917549    32767                569    0.998275    0.998754    0.997892   \n",
       "917550    32767                571    0.998275    0.998754    0.997892   \n",
       "917551    32767                572    0.998275    0.998754    0.997892   \n",
       "917552    32767                582    0.998275    0.998754    0.998179   \n",
       "\n",
       "        ask_price2  bid_size1  ask_size1  bid_size2  ask_size2  \n",
       "0         1.002353          3        226          2        100  \n",
       "1         1.002353          3        100          2        100  \n",
       "2         1.002405          3        100          2        100  \n",
       "3         1.002405          3        126          2        100  \n",
       "4         1.002405          3        126          2        100  \n",
       "...            ...        ...        ...        ...        ...  \n",
       "917548    0.998946         90         90         48         28  \n",
       "917549    0.998946         91         90        200         28  \n",
       "917550    0.998946         91         90        100         28  \n",
       "917551    0.998946         92         90        100         28  \n",
       "917552    0.998946         92         90         26         28  \n",
       "\n",
       "[917553 rows x 10 columns]"
      ]
     },
     "execution_count": 6,
     "metadata": {},
     "output_type": "execute_result"
    }
   ],
   "source": [
    "book_train"
   ]
  },
  {
   "cell_type": "code",
   "execution_count": 7,
   "id": "f8861419",
   "metadata": {},
   "outputs": [],
   "source": [
    "trade_example = pd.read_parquet(trade_path[0])"
   ]
  },
  {
   "cell_type": "code",
   "execution_count": 8,
   "id": "3a96504f",
   "metadata": {},
   "outputs": [
    {
     "data": {
      "text/html": [
       "<div>\n",
       "<style scoped>\n",
       "    .dataframe tbody tr th:only-of-type {\n",
       "        vertical-align: middle;\n",
       "    }\n",
       "\n",
       "    .dataframe tbody tr th {\n",
       "        vertical-align: top;\n",
       "    }\n",
       "\n",
       "    .dataframe thead th {\n",
       "        text-align: right;\n",
       "    }\n",
       "</style>\n",
       "<table border=\"1\" class=\"dataframe\">\n",
       "  <thead>\n",
       "    <tr style=\"text-align: right;\">\n",
       "      <th></th>\n",
       "      <th>time_id</th>\n",
       "      <th>seconds_in_bucket</th>\n",
       "      <th>price</th>\n",
       "      <th>size</th>\n",
       "      <th>order_count</th>\n",
       "    </tr>\n",
       "  </thead>\n",
       "  <tbody>\n",
       "    <tr>\n",
       "      <th>0</th>\n",
       "      <td>5</td>\n",
       "      <td>21</td>\n",
       "      <td>1.002301</td>\n",
       "      <td>326</td>\n",
       "      <td>12</td>\n",
       "    </tr>\n",
       "    <tr>\n",
       "      <th>1</th>\n",
       "      <td>5</td>\n",
       "      <td>46</td>\n",
       "      <td>1.002778</td>\n",
       "      <td>128</td>\n",
       "      <td>4</td>\n",
       "    </tr>\n",
       "    <tr>\n",
       "      <th>2</th>\n",
       "      <td>5</td>\n",
       "      <td>50</td>\n",
       "      <td>1.002818</td>\n",
       "      <td>55</td>\n",
       "      <td>1</td>\n",
       "    </tr>\n",
       "    <tr>\n",
       "      <th>3</th>\n",
       "      <td>5</td>\n",
       "      <td>57</td>\n",
       "      <td>1.003155</td>\n",
       "      <td>121</td>\n",
       "      <td>5</td>\n",
       "    </tr>\n",
       "    <tr>\n",
       "      <th>4</th>\n",
       "      <td>5</td>\n",
       "      <td>68</td>\n",
       "      <td>1.003646</td>\n",
       "      <td>4</td>\n",
       "      <td>1</td>\n",
       "    </tr>\n",
       "    <tr>\n",
       "      <th>...</th>\n",
       "      <td>...</td>\n",
       "      <td>...</td>\n",
       "      <td>...</td>\n",
       "      <td>...</td>\n",
       "      <td>...</td>\n",
       "    </tr>\n",
       "    <tr>\n",
       "      <th>123438</th>\n",
       "      <td>32767</td>\n",
       "      <td>471</td>\n",
       "      <td>0.998659</td>\n",
       "      <td>200</td>\n",
       "      <td>3</td>\n",
       "    </tr>\n",
       "    <tr>\n",
       "      <th>123439</th>\n",
       "      <td>32767</td>\n",
       "      <td>517</td>\n",
       "      <td>0.998515</td>\n",
       "      <td>90</td>\n",
       "      <td>1</td>\n",
       "    </tr>\n",
       "    <tr>\n",
       "      <th>123440</th>\n",
       "      <td>32767</td>\n",
       "      <td>523</td>\n",
       "      <td>0.998563</td>\n",
       "      <td>1</td>\n",
       "      <td>1</td>\n",
       "    </tr>\n",
       "    <tr>\n",
       "      <th>123441</th>\n",
       "      <td>32767</td>\n",
       "      <td>542</td>\n",
       "      <td>0.998803</td>\n",
       "      <td>90</td>\n",
       "      <td>4</td>\n",
       "    </tr>\n",
       "    <tr>\n",
       "      <th>123442</th>\n",
       "      <td>32767</td>\n",
       "      <td>567</td>\n",
       "      <td>0.998547</td>\n",
       "      <td>300</td>\n",
       "      <td>3</td>\n",
       "    </tr>\n",
       "  </tbody>\n",
       "</table>\n",
       "<p>123443 rows × 5 columns</p>\n",
       "</div>"
      ],
      "text/plain": [
       "        time_id  seconds_in_bucket     price  size  order_count\n",
       "0             5                 21  1.002301   326           12\n",
       "1             5                 46  1.002778   128            4\n",
       "2             5                 50  1.002818    55            1\n",
       "3             5                 57  1.003155   121            5\n",
       "4             5                 68  1.003646     4            1\n",
       "...         ...                ...       ...   ...          ...\n",
       "123438    32767                471  0.998659   200            3\n",
       "123439    32767                517  0.998515    90            1\n",
       "123440    32767                523  0.998563     1            1\n",
       "123441    32767                542  0.998803    90            4\n",
       "123442    32767                567  0.998547   300            3\n",
       "\n",
       "[123443 rows x 5 columns]"
      ]
     },
     "execution_count": 8,
     "metadata": {},
     "output_type": "execute_result"
    }
   ],
   "source": [
    "trade_example"
   ]
  },
  {
   "cell_type": "code",
   "execution_count": 9,
   "id": "51cc3481",
   "metadata": {},
   "outputs": [],
   "source": [
    "df_final = pd.DataFrame()"
   ]
  },
  {
   "cell_type": "markdown",
   "id": "edcfa9e0",
   "metadata": {},
   "source": [
    "The idea is to extract some features from the book_train and others from trade_example, to do that first I need a column with the stock_id"
   ]
  },
  {
   "cell_type": "code",
   "execution_count": 101,
   "id": "eccc69cc",
   "metadata": {},
   "outputs": [],
   "source": [
    "stockid = book_path[0].split('=')[1]"
   ]
  },
  {
   "cell_type": "code",
   "execution_count": 102,
   "id": "c48275d3",
   "metadata": {},
   "outputs": [],
   "source": [
    "trade_example['stock_id'] = stockid"
   ]
  },
  {
   "cell_type": "code",
   "execution_count": 103,
   "id": "9cabd6d1",
   "metadata": {},
   "outputs": [],
   "source": [
    "trade_example.stock_id = trade_example.stock_id.astype(int)"
   ]
  },
  {
   "cell_type": "code",
   "execution_count": 104,
   "id": "2683cdb0",
   "metadata": {},
   "outputs": [],
   "source": [
    "book_train['stock_id'] = stockid\n",
    "book_train.stock_id = book_train.stock_id.astype(int)"
   ]
  },
  {
   "cell_type": "code",
   "execution_count": 105,
   "id": "de0b8dfe",
   "metadata": {},
   "outputs": [
    {
     "data": {
      "text/html": [
       "<div>\n",
       "<style scoped>\n",
       "    .dataframe tbody tr th:only-of-type {\n",
       "        vertical-align: middle;\n",
       "    }\n",
       "\n",
       "    .dataframe tbody tr th {\n",
       "        vertical-align: top;\n",
       "    }\n",
       "\n",
       "    .dataframe thead th {\n",
       "        text-align: right;\n",
       "    }\n",
       "</style>\n",
       "<table border=\"1\" class=\"dataframe\">\n",
       "  <thead>\n",
       "    <tr style=\"text-align: right;\">\n",
       "      <th></th>\n",
       "      <th>time_id</th>\n",
       "      <th>seconds_in_bucket</th>\n",
       "      <th>bid_price1</th>\n",
       "      <th>ask_price1</th>\n",
       "      <th>bid_price2</th>\n",
       "      <th>ask_price2</th>\n",
       "      <th>bid_size1</th>\n",
       "      <th>ask_size1</th>\n",
       "      <th>bid_size2</th>\n",
       "      <th>ask_size2</th>\n",
       "      <th>stock_id</th>\n",
       "    </tr>\n",
       "  </thead>\n",
       "  <tbody>\n",
       "    <tr>\n",
       "      <th>0</th>\n",
       "      <td>5</td>\n",
       "      <td>0</td>\n",
       "      <td>1.001422</td>\n",
       "      <td>1.002301</td>\n",
       "      <td>1.001370</td>\n",
       "      <td>1.002353</td>\n",
       "      <td>3</td>\n",
       "      <td>226</td>\n",
       "      <td>2</td>\n",
       "      <td>100</td>\n",
       "      <td>0</td>\n",
       "    </tr>\n",
       "    <tr>\n",
       "      <th>1</th>\n",
       "      <td>5</td>\n",
       "      <td>1</td>\n",
       "      <td>1.001422</td>\n",
       "      <td>1.002301</td>\n",
       "      <td>1.001370</td>\n",
       "      <td>1.002353</td>\n",
       "      <td>3</td>\n",
       "      <td>100</td>\n",
       "      <td>2</td>\n",
       "      <td>100</td>\n",
       "      <td>0</td>\n",
       "    </tr>\n",
       "    <tr>\n",
       "      <th>2</th>\n",
       "      <td>5</td>\n",
       "      <td>5</td>\n",
       "      <td>1.001422</td>\n",
       "      <td>1.002301</td>\n",
       "      <td>1.001370</td>\n",
       "      <td>1.002405</td>\n",
       "      <td>3</td>\n",
       "      <td>100</td>\n",
       "      <td>2</td>\n",
       "      <td>100</td>\n",
       "      <td>0</td>\n",
       "    </tr>\n",
       "    <tr>\n",
       "      <th>3</th>\n",
       "      <td>5</td>\n",
       "      <td>6</td>\n",
       "      <td>1.001422</td>\n",
       "      <td>1.002301</td>\n",
       "      <td>1.001370</td>\n",
       "      <td>1.002405</td>\n",
       "      <td>3</td>\n",
       "      <td>126</td>\n",
       "      <td>2</td>\n",
       "      <td>100</td>\n",
       "      <td>0</td>\n",
       "    </tr>\n",
       "    <tr>\n",
       "      <th>4</th>\n",
       "      <td>5</td>\n",
       "      <td>7</td>\n",
       "      <td>1.001422</td>\n",
       "      <td>1.002301</td>\n",
       "      <td>1.001370</td>\n",
       "      <td>1.002405</td>\n",
       "      <td>3</td>\n",
       "      <td>126</td>\n",
       "      <td>2</td>\n",
       "      <td>100</td>\n",
       "      <td>0</td>\n",
       "    </tr>\n",
       "    <tr>\n",
       "      <th>...</th>\n",
       "      <td>...</td>\n",
       "      <td>...</td>\n",
       "      <td>...</td>\n",
       "      <td>...</td>\n",
       "      <td>...</td>\n",
       "      <td>...</td>\n",
       "      <td>...</td>\n",
       "      <td>...</td>\n",
       "      <td>...</td>\n",
       "      <td>...</td>\n",
       "      <td>...</td>\n",
       "    </tr>\n",
       "    <tr>\n",
       "      <th>917548</th>\n",
       "      <td>32767</td>\n",
       "      <td>568</td>\n",
       "      <td>0.998275</td>\n",
       "      <td>0.998754</td>\n",
       "      <td>0.997796</td>\n",
       "      <td>0.998946</td>\n",
       "      <td>90</td>\n",
       "      <td>90</td>\n",
       "      <td>48</td>\n",
       "      <td>28</td>\n",
       "      <td>0</td>\n",
       "    </tr>\n",
       "    <tr>\n",
       "      <th>917549</th>\n",
       "      <td>32767</td>\n",
       "      <td>569</td>\n",
       "      <td>0.998275</td>\n",
       "      <td>0.998754</td>\n",
       "      <td>0.997892</td>\n",
       "      <td>0.998946</td>\n",
       "      <td>91</td>\n",
       "      <td>90</td>\n",
       "      <td>200</td>\n",
       "      <td>28</td>\n",
       "      <td>0</td>\n",
       "    </tr>\n",
       "    <tr>\n",
       "      <th>917550</th>\n",
       "      <td>32767</td>\n",
       "      <td>571</td>\n",
       "      <td>0.998275</td>\n",
       "      <td>0.998754</td>\n",
       "      <td>0.997892</td>\n",
       "      <td>0.998946</td>\n",
       "      <td>91</td>\n",
       "      <td>90</td>\n",
       "      <td>100</td>\n",
       "      <td>28</td>\n",
       "      <td>0</td>\n",
       "    </tr>\n",
       "    <tr>\n",
       "      <th>917551</th>\n",
       "      <td>32767</td>\n",
       "      <td>572</td>\n",
       "      <td>0.998275</td>\n",
       "      <td>0.998754</td>\n",
       "      <td>0.997892</td>\n",
       "      <td>0.998946</td>\n",
       "      <td>92</td>\n",
       "      <td>90</td>\n",
       "      <td>100</td>\n",
       "      <td>28</td>\n",
       "      <td>0</td>\n",
       "    </tr>\n",
       "    <tr>\n",
       "      <th>917552</th>\n",
       "      <td>32767</td>\n",
       "      <td>582</td>\n",
       "      <td>0.998275</td>\n",
       "      <td>0.998754</td>\n",
       "      <td>0.998179</td>\n",
       "      <td>0.998946</td>\n",
       "      <td>92</td>\n",
       "      <td>90</td>\n",
       "      <td>26</td>\n",
       "      <td>28</td>\n",
       "      <td>0</td>\n",
       "    </tr>\n",
       "  </tbody>\n",
       "</table>\n",
       "<p>917553 rows × 11 columns</p>\n",
       "</div>"
      ],
      "text/plain": [
       "        time_id  seconds_in_bucket  bid_price1  ask_price1  bid_price2  \\\n",
       "0             5                  0    1.001422    1.002301    1.001370   \n",
       "1             5                  1    1.001422    1.002301    1.001370   \n",
       "2             5                  5    1.001422    1.002301    1.001370   \n",
       "3             5                  6    1.001422    1.002301    1.001370   \n",
       "4             5                  7    1.001422    1.002301    1.001370   \n",
       "...         ...                ...         ...         ...         ...   \n",
       "917548    32767                568    0.998275    0.998754    0.997796   \n",
       "917549    32767                569    0.998275    0.998754    0.997892   \n",
       "917550    32767                571    0.998275    0.998754    0.997892   \n",
       "917551    32767                572    0.998275    0.998754    0.997892   \n",
       "917552    32767                582    0.998275    0.998754    0.998179   \n",
       "\n",
       "        ask_price2  bid_size1  ask_size1  bid_size2  ask_size2  stock_id  \n",
       "0         1.002353          3        226          2        100         0  \n",
       "1         1.002353          3        100          2        100         0  \n",
       "2         1.002405          3        100          2        100         0  \n",
       "3         1.002405          3        126          2        100         0  \n",
       "4         1.002405          3        126          2        100         0  \n",
       "...            ...        ...        ...        ...        ...       ...  \n",
       "917548    0.998946         90         90         48         28         0  \n",
       "917549    0.998946         91         90        200         28         0  \n",
       "917550    0.998946         91         90        100         28         0  \n",
       "917551    0.998946         92         90        100         28         0  \n",
       "917552    0.998946         92         90         26         28         0  \n",
       "\n",
       "[917553 rows x 11 columns]"
      ]
     },
     "execution_count": 105,
     "metadata": {},
     "output_type": "execute_result"
    }
   ],
   "source": [
    "book_train"
   ]
  },
  {
   "cell_type": "markdown",
   "id": "dbed48cf",
   "metadata": {},
   "source": [
    "# Feature engineering on trade_example"
   ]
  },
  {
   "cell_type": "markdown",
   "id": "db9786cd",
   "metadata": {},
   "source": [
    "I'm interested in the volume and volume/count given the stock_id and time_id"
   ]
  },
  {
   "cell_type": "code",
   "execution_count": 106,
   "id": "c5c7e702",
   "metadata": {},
   "outputs": [],
   "source": [
    "trade_example['volume'] = trade_example['price']*trade_example['size']"
   ]
  },
  {
   "cell_type": "code",
   "execution_count": 107,
   "id": "8e22f59e",
   "metadata": {},
   "outputs": [],
   "source": [
    "trade_example['volume_per_count'] = trade_example['volume']/trade_example['order_count']"
   ]
  },
  {
   "cell_type": "code",
   "execution_count": 108,
   "id": "b4785a4e",
   "metadata": {},
   "outputs": [],
   "source": [
    "trade_grouped = trade_example.groupby(['stock_id','time_id'])"
   ]
  },
  {
   "cell_type": "markdown",
   "id": "eae38af5",
   "metadata": {},
   "source": [
    "Given a specific stock_id and time_id, I would like to know how many seconds have passed and how much volume has been traded at each price change."
   ]
  },
  {
   "cell_type": "code",
   "execution_count": 110,
   "id": "4aca4e79",
   "metadata": {},
   "outputs": [],
   "source": [
    "diff_seconds = trade_grouped['seconds_in_bucket'].diff()\n",
    "diff_price = trade_grouped['price'].diff()\n",
    "diff_volume = trade_grouped['volume'].diff()"
   ]
  },
  {
   "cell_type": "code",
   "execution_count": 111,
   "id": "1ea8f25b",
   "metadata": {},
   "outputs": [],
   "source": [
    "trade_example['diff_price'] = diff_price\n",
    "trade_example['diff_seconds'] = diff_seconds\n",
    "trade_example['diff_volume'] = diff_volume"
   ]
  },
  {
   "cell_type": "markdown",
   "id": "d1faf489",
   "metadata": {},
   "source": [
    "Useful features for **size** include the **total traded size**, the **mean**, the **maximum**, and the **variance**, given a specific time_id."
   ]
  },
  {
   "cell_type": "code",
   "execution_count": 112,
   "id": "0ee2a391",
   "metadata": {},
   "outputs": [],
   "source": [
    "total_size = trade_grouped['size'].sum()\n",
    "total_size = total_size.rename('total_size')\n",
    "mean_size = trade_grouped['size'].mean()\n",
    "mean_size = mean_size.rename('mean_size')\n",
    "max_size = trade_grouped['size'].max()\n",
    "max_size = max_size.rename('max_size')\n",
    "min_size = trade_grouped['size'].min()\n",
    "min_size = min_size.rename('min_size')\n",
    "var_size = trade_grouped['size'].var()\n",
    "var_size = var_size.rename('var_size')"
   ]
  },
  {
   "cell_type": "markdown",
   "id": "3a5a3ddd",
   "metadata": {},
   "source": [
    "Useful features for **price**"
   ]
  },
  {
   "cell_type": "code",
   "execution_count": 113,
   "id": "2e5f14c8",
   "metadata": {},
   "outputs": [],
   "source": [
    "mean_price = trade_grouped['price'].mean()\n",
    "mean_price = mean_price.rename('mean_price')\n",
    "max_price = trade_grouped['price'].max()\n",
    "max_price = max_price.rename('max_price')\n",
    "min_price = trade_grouped['price'].min()\n",
    "min_price = min_price.rename('min_price')\n",
    "var_price = trade_grouped['price'].var()\n",
    "var_price = var_price.rename('var_price')"
   ]
  },
  {
   "cell_type": "markdown",
   "id": "24b47379",
   "metadata": {},
   "source": [
    "Useful features for **volume**"
   ]
  },
  {
   "cell_type": "code",
   "execution_count": 114,
   "id": "85d7657f",
   "metadata": {},
   "outputs": [],
   "source": [
    "total_volume = trade_grouped['volume'].sum()\n",
    "total_volume = total_volume.rename('total_volume')\n",
    "mean_volume = trade_grouped['volume'].mean()\n",
    "mean_volume = mean_volume.rename('mean_volume')\n",
    "max_volume = trade_grouped['volume'].max()\n",
    "max_volume = max_volume.rename('max_volume')\n",
    "min_volume = trade_grouped['volume'].min()\n",
    "min_volume = min_volume.rename('min_volume')\n",
    "var_volume = trade_grouped['volume'].var()\n",
    "var_volume = var_volume.rename('var_volume')"
   ]
  },
  {
   "cell_type": "markdown",
   "id": "3ee2f74f",
   "metadata": {},
   "source": [
    "Useful features for **order_count**"
   ]
  },
  {
   "cell_type": "code",
   "execution_count": 115,
   "id": "63573080",
   "metadata": {},
   "outputs": [],
   "source": [
    "total_order_count = trade_grouped['order_count'].sum()\n",
    "total_order_count = total_order_count.rename('total_order_count')\n",
    "mean_order_count = trade_grouped['order_count'].mean()\n",
    "mean_order_count = mean_order_count.rename('mean_order_count')\n",
    "max_order_count = trade_grouped['order_count'].max()\n",
    "max_order_count = max_order_count.rename('max_order_count')\n",
    "min_order_count = trade_grouped['order_count'].min()\n",
    "min_order_count = min_order_count.rename('min_order_count')\n",
    "var_order_count = trade_grouped['order_count'].var()\n",
    "var_order_count = var_order_count.rename('var_order_count')"
   ]
  },
  {
   "cell_type": "markdown",
   "id": "76b02868",
   "metadata": {},
   "source": [
    "**vwap**"
   ]
  },
  {
   "cell_type": "code",
   "execution_count": 116,
   "id": "d3db18c5",
   "metadata": {},
   "outputs": [],
   "source": [
    "vwap = total_volume/total_size\n",
    "vwap = vwap.rename('vwap')"
   ]
  },
  {
   "cell_type": "markdown",
   "id": "27e1cea8",
   "metadata": {},
   "source": [
    "Useful features for **volume/count**"
   ]
  },
  {
   "cell_type": "code",
   "execution_count": 117,
   "id": "651d015a",
   "metadata": {},
   "outputs": [],
   "source": [
    "mean_vpc = trade_grouped['volume_per_count'].mean()\n",
    "mean_vpc = mean_vpc.rename('mean_vpc')\n",
    "max_vpc = trade_grouped['volume_per_count'].max()\n",
    "max_vpc = max_vpc.rename('max_vpc')\n",
    "min_vpc = trade_grouped['volume_per_count'].min()\n",
    "min_vpc = min_vpc.rename('min_vpc')\n",
    "var_vpc = trade_grouped['volume_per_count'].var()\n",
    "var_vpc = var_vpc.rename('var_vpc')"
   ]
  },
  {
   "cell_type": "markdown",
   "id": "041a2c6c",
   "metadata": {},
   "source": [
    "Useful features for **diff_seconds**"
   ]
  },
  {
   "cell_type": "code",
   "execution_count": 118,
   "id": "c1f7fb18",
   "metadata": {},
   "outputs": [],
   "source": [
    "mean_diff_sec = trade_grouped['diff_seconds'].mean()\n",
    "mean_diff_sec = mean_diff_sec.rename('mean_diff_sec')\n",
    "max_diff_sec = trade_grouped['diff_seconds'].max()\n",
    "max_diff_sec = max_diff_sec.rename('max_diff_sec')\n",
    "min_diff_sec = trade_grouped['diff_seconds'].min()\n",
    "min_diff_sec = min_diff_sec.rename('min_diff_sec')\n",
    "var_diff_sec = trade_grouped['diff_seconds'].var()\n",
    "var_diff_sec = var_diff_sec.rename('var_diff_sec')"
   ]
  },
  {
   "cell_type": "markdown",
   "id": "ae40f2b2",
   "metadata": {},
   "source": [
    "Useful features for **diff_price**"
   ]
  },
  {
   "cell_type": "code",
   "execution_count": 119,
   "id": "05e0dd14",
   "metadata": {},
   "outputs": [],
   "source": [
    "mean_diff_price = trade_grouped['diff_price'].mean()\n",
    "mean_diff_price = mean_diff_price.rename('mean_diff_price')\n",
    "max_diff_price = trade_grouped['diff_price'].max()\n",
    "max_diff_price = max_diff_price.rename('max_diff_price')\n",
    "min_diff_price = trade_grouped['diff_price'].min()\n",
    "min_diff_price = min_diff_price.rename('min_diff_price')\n",
    "var_diff_price = trade_grouped['diff_price'].var()\n",
    "var_diff_price = var_diff_price.rename('var_diff_price')"
   ]
  },
  {
   "cell_type": "markdown",
   "id": "0044ef2c",
   "metadata": {},
   "source": [
    "Useful features for **diff_volume**"
   ]
  },
  {
   "cell_type": "code",
   "execution_count": 120,
   "id": "dc33e9e5",
   "metadata": {},
   "outputs": [],
   "source": [
    "mean_diff_volume = trade_grouped['diff_volume'].mean()\n",
    "mean_diff_volume = mean_diff_volume.rename('mean_diff_volume')\n",
    "max_diff_volume = trade_grouped['diff_volume'].max()\n",
    "max_diff_volume = max_diff_volume.rename('max_diff_volume')\n",
    "min_diff_volume = trade_grouped['diff_volume'].min()\n",
    "min_diff_volume = min_diff_volume.rename('min_diff_volume')\n",
    "var_diff_volume = trade_grouped['diff_volume'].var()\n",
    "var_diff_volume = var_diff_volume.rename('var_diff_volume')"
   ]
  },
  {
   "cell_type": "markdown",
   "id": "255e7452",
   "metadata": {},
   "source": [
    "# Merge everything"
   ]
  },
  {
   "cell_type": "code",
   "execution_count": 121,
   "id": "5ce61a66",
   "metadata": {},
   "outputs": [],
   "source": [
    "#[total_size,mean_size,max_size,min_size,var_size,mean_price,max_price,min_price,var_price,total_volume,mean_volume,max_volume,min_volume,var_volume,total_order_count,mean_order_count,max_order_count,min_order_count,var_order_count,vwap,mean_vpc,max_vpc,min_vpc,var_vpc,mean_diff_sec,max_diff_sec,min_diff_sec,var_diff_sec,mean_diff_price,max_diff_price,min_diff_price,var_diff_price,mean_diff_volume,max_diff_volume,min_diff_volume,var_diff_volume]"
   ]
  },
  {
   "cell_type": "code",
   "execution_count": 122,
   "id": "7bac2cdf",
   "metadata": {},
   "outputs": [],
   "source": [
    "df = pd.concat([total_size,mean_size,max_size,min_size,var_size,mean_price,max_price,min_price,var_price,total_volume,mean_volume,max_volume,min_volume,var_volume,total_order_count,mean_order_count,max_order_count,min_order_count,var_order_count,vwap,mean_vpc,max_vpc,min_vpc,var_vpc,mean_diff_sec,max_diff_sec,min_diff_sec,var_diff_sec,mean_diff_price,max_diff_price,min_diff_price,var_diff_price,mean_diff_volume,max_diff_volume,min_diff_volume,var_diff_volume],names=['total_size','mean_size'],axis = 1).reset_index()"
   ]
  },
  {
   "cell_type": "code",
   "execution_count": 123,
   "id": "9b3bc912",
   "metadata": {},
   "outputs": [
    {
     "data": {
      "text/html": [
       "<div>\n",
       "<style scoped>\n",
       "    .dataframe tbody tr th:only-of-type {\n",
       "        vertical-align: middle;\n",
       "    }\n",
       "\n",
       "    .dataframe tbody tr th {\n",
       "        vertical-align: top;\n",
       "    }\n",
       "\n",
       "    .dataframe thead th {\n",
       "        text-align: right;\n",
       "    }\n",
       "</style>\n",
       "<table border=\"1\" class=\"dataframe\">\n",
       "  <thead>\n",
       "    <tr style=\"text-align: right;\">\n",
       "      <th></th>\n",
       "      <th>stock_id</th>\n",
       "      <th>time_id</th>\n",
       "      <th>total_size</th>\n",
       "      <th>mean_size</th>\n",
       "      <th>max_size</th>\n",
       "      <th>min_size</th>\n",
       "      <th>var_size</th>\n",
       "      <th>mean_price</th>\n",
       "      <th>max_price</th>\n",
       "      <th>min_price</th>\n",
       "      <th>...</th>\n",
       "      <th>min_diff_sec</th>\n",
       "      <th>var_diff_sec</th>\n",
       "      <th>mean_diff_price</th>\n",
       "      <th>max_diff_price</th>\n",
       "      <th>min_diff_price</th>\n",
       "      <th>var_diff_price</th>\n",
       "      <th>mean_diff_volume</th>\n",
       "      <th>max_diff_volume</th>\n",
       "      <th>min_diff_volume</th>\n",
       "      <th>var_diff_volume</th>\n",
       "    </tr>\n",
       "  </thead>\n",
       "  <tbody>\n",
       "    <tr>\n",
       "      <th>0</th>\n",
       "      <td>0</td>\n",
       "      <td>5</td>\n",
       "      <td>3179</td>\n",
       "      <td>79.475000</td>\n",
       "      <td>499</td>\n",
       "      <td>1</td>\n",
       "      <td>14012.666026</td>\n",
       "      <td>1.003722</td>\n",
       "      <td>1.004680</td>\n",
       "      <td>1.002301</td>\n",
       "      <td>...</td>\n",
       "      <td>1.0</td>\n",
       "      <td>160.307678</td>\n",
       "      <td>0.000034</td>\n",
       "      <td>0.000613</td>\n",
       "      <td>-0.000724</td>\n",
       "      <td>1.054531e-07</td>\n",
       "      <td>-7.709114</td>\n",
       "      <td>499.589769</td>\n",
       "      <td>-492.564661</td>\n",
       "      <td>33025.273919</td>\n",
       "    </tr>\n",
       "    <tr>\n",
       "      <th>1</th>\n",
       "      <td>0</td>\n",
       "      <td>11</td>\n",
       "      <td>1289</td>\n",
       "      <td>42.966667</td>\n",
       "      <td>280</td>\n",
       "      <td>1</td>\n",
       "      <td>6055.205747</td>\n",
       "      <td>1.000206</td>\n",
       "      <td>1.000828</td>\n",
       "      <td>0.999724</td>\n",
       "      <td>...</td>\n",
       "      <td>1.0</td>\n",
       "      <td>215.541870</td>\n",
       "      <td>0.000028</td>\n",
       "      <td>0.000402</td>\n",
       "      <td>-0.000251</td>\n",
       "      <td>2.819224e-08</td>\n",
       "      <td>7.038952</td>\n",
       "      <td>279.019784</td>\n",
       "      <td>-277.019082</td>\n",
       "      <td>12935.594254</td>\n",
       "    </tr>\n",
       "    <tr>\n",
       "      <th>2</th>\n",
       "      <td>0</td>\n",
       "      <td>16</td>\n",
       "      <td>2161</td>\n",
       "      <td>86.440000</td>\n",
       "      <td>391</td>\n",
       "      <td>1</td>\n",
       "      <td>12902.006667</td>\n",
       "      <td>0.999204</td>\n",
       "      <td>1.000455</td>\n",
       "      <td>0.997391</td>\n",
       "      <td>...</td>\n",
       "      <td>1.0</td>\n",
       "      <td>375.652222</td>\n",
       "      <td>-0.000106</td>\n",
       "      <td>0.000862</td>\n",
       "      <td>-0.000640</td>\n",
       "      <td>1.553238e-07</td>\n",
       "      <td>8.230635</td>\n",
       "      <td>377.456030</td>\n",
       "      <td>-380.461510</td>\n",
       "      <td>31064.860574</td>\n",
       "    </tr>\n",
       "    <tr>\n",
       "      <th>3</th>\n",
       "      <td>0</td>\n",
       "      <td>31</td>\n",
       "      <td>1962</td>\n",
       "      <td>130.800000</td>\n",
       "      <td>450</td>\n",
       "      <td>5</td>\n",
       "      <td>20975.314286</td>\n",
       "      <td>0.999020</td>\n",
       "      <td>1.000231</td>\n",
       "      <td>0.997972</td>\n",
       "      <td>...</td>\n",
       "      <td>1.0</td>\n",
       "      <td>1065.148315</td>\n",
       "      <td>-0.000161</td>\n",
       "      <td>0.000545</td>\n",
       "      <td>-0.000879</td>\n",
       "      <td>1.589643e-07</td>\n",
       "      <td>31.148895</td>\n",
       "      <td>390.204915</td>\n",
       "      <td>-367.523144</td>\n",
       "      <td>33851.877646</td>\n",
       "    </tr>\n",
       "    <tr>\n",
       "      <th>4</th>\n",
       "      <td>0</td>\n",
       "      <td>62</td>\n",
       "      <td>1791</td>\n",
       "      <td>81.409091</td>\n",
       "      <td>341</td>\n",
       "      <td>1</td>\n",
       "      <td>13903.872294</td>\n",
       "      <td>0.999618</td>\n",
       "      <td>1.000023</td>\n",
       "      <td>0.999231</td>\n",
       "      <td>...</td>\n",
       "      <td>1.0</td>\n",
       "      <td>306.347595</td>\n",
       "      <td>-0.000013</td>\n",
       "      <td>0.000332</td>\n",
       "      <td>-0.000559</td>\n",
       "      <td>3.775585e-08</td>\n",
       "      <td>1.571021</td>\n",
       "      <td>298.853386</td>\n",
       "      <td>-228.918219</td>\n",
       "      <td>23588.882792</td>\n",
       "    </tr>\n",
       "    <tr>\n",
       "      <th>...</th>\n",
       "      <td>...</td>\n",
       "      <td>...</td>\n",
       "      <td>...</td>\n",
       "      <td>...</td>\n",
       "      <td>...</td>\n",
       "      <td>...</td>\n",
       "      <td>...</td>\n",
       "      <td>...</td>\n",
       "      <td>...</td>\n",
       "      <td>...</td>\n",
       "      <td>...</td>\n",
       "      <td>...</td>\n",
       "      <td>...</td>\n",
       "      <td>...</td>\n",
       "      <td>...</td>\n",
       "      <td>...</td>\n",
       "      <td>...</td>\n",
       "      <td>...</td>\n",
       "      <td>...</td>\n",
       "      <td>...</td>\n",
       "      <td>...</td>\n",
       "    </tr>\n",
       "    <tr>\n",
       "      <th>3825</th>\n",
       "      <td>0</td>\n",
       "      <td>32751</td>\n",
       "      <td>3450</td>\n",
       "      <td>66.346154</td>\n",
       "      <td>503</td>\n",
       "      <td>1</td>\n",
       "      <td>14147.877828</td>\n",
       "      <td>0.997556</td>\n",
       "      <td>0.998751</td>\n",
       "      <td>0.996358</td>\n",
       "      <td>...</td>\n",
       "      <td>1.0</td>\n",
       "      <td>190.986725</td>\n",
       "      <td>-0.000030</td>\n",
       "      <td>0.000364</td>\n",
       "      <td>-0.000520</td>\n",
       "      <td>4.504261e-08</td>\n",
       "      <td>1.503846</td>\n",
       "      <td>483.835757</td>\n",
       "      <td>-500.788621</td>\n",
       "      <td>31297.124115</td>\n",
       "    </tr>\n",
       "    <tr>\n",
       "      <th>3826</th>\n",
       "      <td>0</td>\n",
       "      <td>32753</td>\n",
       "      <td>4547</td>\n",
       "      <td>162.392857</td>\n",
       "      <td>772</td>\n",
       "      <td>1</td>\n",
       "      <td>47718.395503</td>\n",
       "      <td>1.000325</td>\n",
       "      <td>1.001227</td>\n",
       "      <td>0.999474</td>\n",
       "      <td>...</td>\n",
       "      <td>1.0</td>\n",
       "      <td>296.413116</td>\n",
       "      <td>0.000032</td>\n",
       "      <td>0.000516</td>\n",
       "      <td>-0.000544</td>\n",
       "      <td>7.564632e-08</td>\n",
       "      <td>-7.844172</td>\n",
       "      <td>636.830504</td>\n",
       "      <td>-767.731356</td>\n",
       "      <td>114287.240931</td>\n",
       "    </tr>\n",
       "    <tr>\n",
       "      <th>3827</th>\n",
       "      <td>0</td>\n",
       "      <td>32758</td>\n",
       "      <td>4250</td>\n",
       "      <td>118.055556</td>\n",
       "      <td>601</td>\n",
       "      <td>1</td>\n",
       "      <td>19973.768254</td>\n",
       "      <td>0.999633</td>\n",
       "      <td>1.000705</td>\n",
       "      <td>0.998438</td>\n",
       "      <td>...</td>\n",
       "      <td>1.0</td>\n",
       "      <td>483.314270</td>\n",
       "      <td>0.000042</td>\n",
       "      <td>0.000598</td>\n",
       "      <td>-0.000378</td>\n",
       "      <td>6.616718e-08</td>\n",
       "      <td>0.057199</td>\n",
       "      <td>299.793632</td>\n",
       "      <td>-599.435665</td>\n",
       "      <td>38602.676391</td>\n",
       "    </tr>\n",
       "    <tr>\n",
       "      <th>3828</th>\n",
       "      <td>0</td>\n",
       "      <td>32763</td>\n",
       "      <td>3217</td>\n",
       "      <td>60.698113</td>\n",
       "      <td>383</td>\n",
       "      <td>1</td>\n",
       "      <td>6573.599419</td>\n",
       "      <td>1.002305</td>\n",
       "      <td>1.003003</td>\n",
       "      <td>1.001611</td>\n",
       "      <td>...</td>\n",
       "      <td>1.0</td>\n",
       "      <td>94.779419</td>\n",
       "      <td>0.000008</td>\n",
       "      <td>0.000593</td>\n",
       "      <td>-0.000573</td>\n",
       "      <td>6.332624e-08</td>\n",
       "      <td>1.888483</td>\n",
       "      <td>283.553058</td>\n",
       "      <td>-363.755933</td>\n",
       "      <td>9835.064503</td>\n",
       "    </tr>\n",
       "    <tr>\n",
       "      <th>3829</th>\n",
       "      <td>0</td>\n",
       "      <td>32767</td>\n",
       "      <td>3679</td>\n",
       "      <td>126.862069</td>\n",
       "      <td>556</td>\n",
       "      <td>1</td>\n",
       "      <td>17385.980296</td>\n",
       "      <td>0.998985</td>\n",
       "      <td>1.000287</td>\n",
       "      <td>0.998030</td>\n",
       "      <td>...</td>\n",
       "      <td>1.0</td>\n",
       "      <td>424.046295</td>\n",
       "      <td>-0.000043</td>\n",
       "      <td>0.000527</td>\n",
       "      <td>-0.000407</td>\n",
       "      <td>5.106571e-08</td>\n",
       "      <td>8.734900</td>\n",
       "      <td>455.185068</td>\n",
       "      <td>-378.292094</td>\n",
       "      <td>34370.414537</td>\n",
       "    </tr>\n",
       "  </tbody>\n",
       "</table>\n",
       "<p>3830 rows × 38 columns</p>\n",
       "</div>"
      ],
      "text/plain": [
       "      stock_id  time_id  total_size   mean_size  max_size  min_size  \\\n",
       "0            0        5        3179   79.475000       499         1   \n",
       "1            0       11        1289   42.966667       280         1   \n",
       "2            0       16        2161   86.440000       391         1   \n",
       "3            0       31        1962  130.800000       450         5   \n",
       "4            0       62        1791   81.409091       341         1   \n",
       "...        ...      ...         ...         ...       ...       ...   \n",
       "3825         0    32751        3450   66.346154       503         1   \n",
       "3826         0    32753        4547  162.392857       772         1   \n",
       "3827         0    32758        4250  118.055556       601         1   \n",
       "3828         0    32763        3217   60.698113       383         1   \n",
       "3829         0    32767        3679  126.862069       556         1   \n",
       "\n",
       "          var_size  mean_price  max_price  min_price  ...  min_diff_sec  \\\n",
       "0     14012.666026    1.003722   1.004680   1.002301  ...           1.0   \n",
       "1      6055.205747    1.000206   1.000828   0.999724  ...           1.0   \n",
       "2     12902.006667    0.999204   1.000455   0.997391  ...           1.0   \n",
       "3     20975.314286    0.999020   1.000231   0.997972  ...           1.0   \n",
       "4     13903.872294    0.999618   1.000023   0.999231  ...           1.0   \n",
       "...            ...         ...        ...        ...  ...           ...   \n",
       "3825  14147.877828    0.997556   0.998751   0.996358  ...           1.0   \n",
       "3826  47718.395503    1.000325   1.001227   0.999474  ...           1.0   \n",
       "3827  19973.768254    0.999633   1.000705   0.998438  ...           1.0   \n",
       "3828   6573.599419    1.002305   1.003003   1.001611  ...           1.0   \n",
       "3829  17385.980296    0.998985   1.000287   0.998030  ...           1.0   \n",
       "\n",
       "      var_diff_sec  mean_diff_price  max_diff_price  min_diff_price  \\\n",
       "0       160.307678         0.000034        0.000613       -0.000724   \n",
       "1       215.541870         0.000028        0.000402       -0.000251   \n",
       "2       375.652222        -0.000106        0.000862       -0.000640   \n",
       "3      1065.148315        -0.000161        0.000545       -0.000879   \n",
       "4       306.347595        -0.000013        0.000332       -0.000559   \n",
       "...            ...              ...             ...             ...   \n",
       "3825    190.986725        -0.000030        0.000364       -0.000520   \n",
       "3826    296.413116         0.000032        0.000516       -0.000544   \n",
       "3827    483.314270         0.000042        0.000598       -0.000378   \n",
       "3828     94.779419         0.000008        0.000593       -0.000573   \n",
       "3829    424.046295        -0.000043        0.000527       -0.000407   \n",
       "\n",
       "      var_diff_price  mean_diff_volume  max_diff_volume  min_diff_volume  \\\n",
       "0       1.054531e-07         -7.709114       499.589769      -492.564661   \n",
       "1       2.819224e-08          7.038952       279.019784      -277.019082   \n",
       "2       1.553238e-07          8.230635       377.456030      -380.461510   \n",
       "3       1.589643e-07         31.148895       390.204915      -367.523144   \n",
       "4       3.775585e-08          1.571021       298.853386      -228.918219   \n",
       "...              ...               ...              ...              ...   \n",
       "3825    4.504261e-08          1.503846       483.835757      -500.788621   \n",
       "3826    7.564632e-08         -7.844172       636.830504      -767.731356   \n",
       "3827    6.616718e-08          0.057199       299.793632      -599.435665   \n",
       "3828    6.332624e-08          1.888483       283.553058      -363.755933   \n",
       "3829    5.106571e-08          8.734900       455.185068      -378.292094   \n",
       "\n",
       "      var_diff_volume  \n",
       "0        33025.273919  \n",
       "1        12935.594254  \n",
       "2        31064.860574  \n",
       "3        33851.877646  \n",
       "4        23588.882792  \n",
       "...               ...  \n",
       "3825     31297.124115  \n",
       "3826    114287.240931  \n",
       "3827     38602.676391  \n",
       "3828      9835.064503  \n",
       "3829     34370.414537  \n",
       "\n",
       "[3830 rows x 38 columns]"
      ]
     },
     "execution_count": 123,
     "metadata": {},
     "output_type": "execute_result"
    }
   ],
   "source": [
    "df"
   ]
  },
  {
   "cell_type": "code",
   "execution_count": 124,
   "id": "38593777",
   "metadata": {},
   "outputs": [],
   "source": [
    "df2 = pd.concat([total_size,mean_size,max_size,min_size,var_size,mean_price,max_price,min_price,var_price,total_volume,mean_volume,max_volume,min_volume,var_volume,total_order_count,mean_order_count,max_order_count,min_order_count,var_order_count,vwap,mean_vpc,max_vpc,min_vpc,var_vpc,mean_diff_sec,max_diff_sec,min_diff_sec,var_diff_sec,mean_diff_price,max_diff_price,min_diff_price,var_diff_price,mean_diff_volume,max_diff_volume,min_diff_volume,var_diff_volume],names=['total_size','mean_size'],axis = 1).reset_index()"
   ]
  },
  {
   "cell_type": "code",
   "execution_count": 125,
   "id": "07bd259f",
   "metadata": {},
   "outputs": [
    {
     "data": {
      "text/html": [
       "<div>\n",
       "<style scoped>\n",
       "    .dataframe tbody tr th:only-of-type {\n",
       "        vertical-align: middle;\n",
       "    }\n",
       "\n",
       "    .dataframe tbody tr th {\n",
       "        vertical-align: top;\n",
       "    }\n",
       "\n",
       "    .dataframe thead th {\n",
       "        text-align: right;\n",
       "    }\n",
       "</style>\n",
       "<table border=\"1\" class=\"dataframe\">\n",
       "  <thead>\n",
       "    <tr style=\"text-align: right;\">\n",
       "      <th></th>\n",
       "      <th>stock_id</th>\n",
       "      <th>time_id</th>\n",
       "      <th>total_size</th>\n",
       "      <th>mean_size</th>\n",
       "      <th>max_size</th>\n",
       "      <th>min_size</th>\n",
       "      <th>var_size</th>\n",
       "      <th>mean_price</th>\n",
       "      <th>max_price</th>\n",
       "      <th>min_price</th>\n",
       "      <th>...</th>\n",
       "      <th>min_diff_sec</th>\n",
       "      <th>var_diff_sec</th>\n",
       "      <th>mean_diff_price</th>\n",
       "      <th>max_diff_price</th>\n",
       "      <th>min_diff_price</th>\n",
       "      <th>var_diff_price</th>\n",
       "      <th>mean_diff_volume</th>\n",
       "      <th>max_diff_volume</th>\n",
       "      <th>min_diff_volume</th>\n",
       "      <th>var_diff_volume</th>\n",
       "    </tr>\n",
       "  </thead>\n",
       "  <tbody>\n",
       "    <tr>\n",
       "      <th>0</th>\n",
       "      <td>0</td>\n",
       "      <td>5</td>\n",
       "      <td>3179</td>\n",
       "      <td>79.475000</td>\n",
       "      <td>499</td>\n",
       "      <td>1</td>\n",
       "      <td>14012.666026</td>\n",
       "      <td>1.003722</td>\n",
       "      <td>1.004680</td>\n",
       "      <td>1.002301</td>\n",
       "      <td>...</td>\n",
       "      <td>1.0</td>\n",
       "      <td>160.307678</td>\n",
       "      <td>0.000034</td>\n",
       "      <td>0.000613</td>\n",
       "      <td>-0.000724</td>\n",
       "      <td>1.054531e-07</td>\n",
       "      <td>-7.709114</td>\n",
       "      <td>499.589769</td>\n",
       "      <td>-492.564661</td>\n",
       "      <td>33025.273919</td>\n",
       "    </tr>\n",
       "    <tr>\n",
       "      <th>1</th>\n",
       "      <td>0</td>\n",
       "      <td>11</td>\n",
       "      <td>1289</td>\n",
       "      <td>42.966667</td>\n",
       "      <td>280</td>\n",
       "      <td>1</td>\n",
       "      <td>6055.205747</td>\n",
       "      <td>1.000206</td>\n",
       "      <td>1.000828</td>\n",
       "      <td>0.999724</td>\n",
       "      <td>...</td>\n",
       "      <td>1.0</td>\n",
       "      <td>215.541870</td>\n",
       "      <td>0.000028</td>\n",
       "      <td>0.000402</td>\n",
       "      <td>-0.000251</td>\n",
       "      <td>2.819224e-08</td>\n",
       "      <td>7.038952</td>\n",
       "      <td>279.019784</td>\n",
       "      <td>-277.019082</td>\n",
       "      <td>12935.594254</td>\n",
       "    </tr>\n",
       "    <tr>\n",
       "      <th>2</th>\n",
       "      <td>0</td>\n",
       "      <td>16</td>\n",
       "      <td>2161</td>\n",
       "      <td>86.440000</td>\n",
       "      <td>391</td>\n",
       "      <td>1</td>\n",
       "      <td>12902.006667</td>\n",
       "      <td>0.999204</td>\n",
       "      <td>1.000455</td>\n",
       "      <td>0.997391</td>\n",
       "      <td>...</td>\n",
       "      <td>1.0</td>\n",
       "      <td>375.652222</td>\n",
       "      <td>-0.000106</td>\n",
       "      <td>0.000862</td>\n",
       "      <td>-0.000640</td>\n",
       "      <td>1.553238e-07</td>\n",
       "      <td>8.230635</td>\n",
       "      <td>377.456030</td>\n",
       "      <td>-380.461510</td>\n",
       "      <td>31064.860574</td>\n",
       "    </tr>\n",
       "    <tr>\n",
       "      <th>3</th>\n",
       "      <td>0</td>\n",
       "      <td>31</td>\n",
       "      <td>1962</td>\n",
       "      <td>130.800000</td>\n",
       "      <td>450</td>\n",
       "      <td>5</td>\n",
       "      <td>20975.314286</td>\n",
       "      <td>0.999020</td>\n",
       "      <td>1.000231</td>\n",
       "      <td>0.997972</td>\n",
       "      <td>...</td>\n",
       "      <td>1.0</td>\n",
       "      <td>1065.148315</td>\n",
       "      <td>-0.000161</td>\n",
       "      <td>0.000545</td>\n",
       "      <td>-0.000879</td>\n",
       "      <td>1.589643e-07</td>\n",
       "      <td>31.148895</td>\n",
       "      <td>390.204915</td>\n",
       "      <td>-367.523144</td>\n",
       "      <td>33851.877646</td>\n",
       "    </tr>\n",
       "    <tr>\n",
       "      <th>4</th>\n",
       "      <td>0</td>\n",
       "      <td>62</td>\n",
       "      <td>1791</td>\n",
       "      <td>81.409091</td>\n",
       "      <td>341</td>\n",
       "      <td>1</td>\n",
       "      <td>13903.872294</td>\n",
       "      <td>0.999618</td>\n",
       "      <td>1.000023</td>\n",
       "      <td>0.999231</td>\n",
       "      <td>...</td>\n",
       "      <td>1.0</td>\n",
       "      <td>306.347595</td>\n",
       "      <td>-0.000013</td>\n",
       "      <td>0.000332</td>\n",
       "      <td>-0.000559</td>\n",
       "      <td>3.775585e-08</td>\n",
       "      <td>1.571021</td>\n",
       "      <td>298.853386</td>\n",
       "      <td>-228.918219</td>\n",
       "      <td>23588.882792</td>\n",
       "    </tr>\n",
       "    <tr>\n",
       "      <th>...</th>\n",
       "      <td>...</td>\n",
       "      <td>...</td>\n",
       "      <td>...</td>\n",
       "      <td>...</td>\n",
       "      <td>...</td>\n",
       "      <td>...</td>\n",
       "      <td>...</td>\n",
       "      <td>...</td>\n",
       "      <td>...</td>\n",
       "      <td>...</td>\n",
       "      <td>...</td>\n",
       "      <td>...</td>\n",
       "      <td>...</td>\n",
       "      <td>...</td>\n",
       "      <td>...</td>\n",
       "      <td>...</td>\n",
       "      <td>...</td>\n",
       "      <td>...</td>\n",
       "      <td>...</td>\n",
       "      <td>...</td>\n",
       "      <td>...</td>\n",
       "    </tr>\n",
       "    <tr>\n",
       "      <th>3825</th>\n",
       "      <td>0</td>\n",
       "      <td>32751</td>\n",
       "      <td>3450</td>\n",
       "      <td>66.346154</td>\n",
       "      <td>503</td>\n",
       "      <td>1</td>\n",
       "      <td>14147.877828</td>\n",
       "      <td>0.997556</td>\n",
       "      <td>0.998751</td>\n",
       "      <td>0.996358</td>\n",
       "      <td>...</td>\n",
       "      <td>1.0</td>\n",
       "      <td>190.986725</td>\n",
       "      <td>-0.000030</td>\n",
       "      <td>0.000364</td>\n",
       "      <td>-0.000520</td>\n",
       "      <td>4.504261e-08</td>\n",
       "      <td>1.503846</td>\n",
       "      <td>483.835757</td>\n",
       "      <td>-500.788621</td>\n",
       "      <td>31297.124115</td>\n",
       "    </tr>\n",
       "    <tr>\n",
       "      <th>3826</th>\n",
       "      <td>0</td>\n",
       "      <td>32753</td>\n",
       "      <td>4547</td>\n",
       "      <td>162.392857</td>\n",
       "      <td>772</td>\n",
       "      <td>1</td>\n",
       "      <td>47718.395503</td>\n",
       "      <td>1.000325</td>\n",
       "      <td>1.001227</td>\n",
       "      <td>0.999474</td>\n",
       "      <td>...</td>\n",
       "      <td>1.0</td>\n",
       "      <td>296.413116</td>\n",
       "      <td>0.000032</td>\n",
       "      <td>0.000516</td>\n",
       "      <td>-0.000544</td>\n",
       "      <td>7.564632e-08</td>\n",
       "      <td>-7.844172</td>\n",
       "      <td>636.830504</td>\n",
       "      <td>-767.731356</td>\n",
       "      <td>114287.240931</td>\n",
       "    </tr>\n",
       "    <tr>\n",
       "      <th>3827</th>\n",
       "      <td>0</td>\n",
       "      <td>32758</td>\n",
       "      <td>4250</td>\n",
       "      <td>118.055556</td>\n",
       "      <td>601</td>\n",
       "      <td>1</td>\n",
       "      <td>19973.768254</td>\n",
       "      <td>0.999633</td>\n",
       "      <td>1.000705</td>\n",
       "      <td>0.998438</td>\n",
       "      <td>...</td>\n",
       "      <td>1.0</td>\n",
       "      <td>483.314270</td>\n",
       "      <td>0.000042</td>\n",
       "      <td>0.000598</td>\n",
       "      <td>-0.000378</td>\n",
       "      <td>6.616718e-08</td>\n",
       "      <td>0.057199</td>\n",
       "      <td>299.793632</td>\n",
       "      <td>-599.435665</td>\n",
       "      <td>38602.676391</td>\n",
       "    </tr>\n",
       "    <tr>\n",
       "      <th>3828</th>\n",
       "      <td>0</td>\n",
       "      <td>32763</td>\n",
       "      <td>3217</td>\n",
       "      <td>60.698113</td>\n",
       "      <td>383</td>\n",
       "      <td>1</td>\n",
       "      <td>6573.599419</td>\n",
       "      <td>1.002305</td>\n",
       "      <td>1.003003</td>\n",
       "      <td>1.001611</td>\n",
       "      <td>...</td>\n",
       "      <td>1.0</td>\n",
       "      <td>94.779419</td>\n",
       "      <td>0.000008</td>\n",
       "      <td>0.000593</td>\n",
       "      <td>-0.000573</td>\n",
       "      <td>6.332624e-08</td>\n",
       "      <td>1.888483</td>\n",
       "      <td>283.553058</td>\n",
       "      <td>-363.755933</td>\n",
       "      <td>9835.064503</td>\n",
       "    </tr>\n",
       "    <tr>\n",
       "      <th>3829</th>\n",
       "      <td>0</td>\n",
       "      <td>32767</td>\n",
       "      <td>3679</td>\n",
       "      <td>126.862069</td>\n",
       "      <td>556</td>\n",
       "      <td>1</td>\n",
       "      <td>17385.980296</td>\n",
       "      <td>0.998985</td>\n",
       "      <td>1.000287</td>\n",
       "      <td>0.998030</td>\n",
       "      <td>...</td>\n",
       "      <td>1.0</td>\n",
       "      <td>424.046295</td>\n",
       "      <td>-0.000043</td>\n",
       "      <td>0.000527</td>\n",
       "      <td>-0.000407</td>\n",
       "      <td>5.106571e-08</td>\n",
       "      <td>8.734900</td>\n",
       "      <td>455.185068</td>\n",
       "      <td>-378.292094</td>\n",
       "      <td>34370.414537</td>\n",
       "    </tr>\n",
       "  </tbody>\n",
       "</table>\n",
       "<p>3830 rows × 38 columns</p>\n",
       "</div>"
      ],
      "text/plain": [
       "      stock_id  time_id  total_size   mean_size  max_size  min_size  \\\n",
       "0            0        5        3179   79.475000       499         1   \n",
       "1            0       11        1289   42.966667       280         1   \n",
       "2            0       16        2161   86.440000       391         1   \n",
       "3            0       31        1962  130.800000       450         5   \n",
       "4            0       62        1791   81.409091       341         1   \n",
       "...        ...      ...         ...         ...       ...       ...   \n",
       "3825         0    32751        3450   66.346154       503         1   \n",
       "3826         0    32753        4547  162.392857       772         1   \n",
       "3827         0    32758        4250  118.055556       601         1   \n",
       "3828         0    32763        3217   60.698113       383         1   \n",
       "3829         0    32767        3679  126.862069       556         1   \n",
       "\n",
       "          var_size  mean_price  max_price  min_price  ...  min_diff_sec  \\\n",
       "0     14012.666026    1.003722   1.004680   1.002301  ...           1.0   \n",
       "1      6055.205747    1.000206   1.000828   0.999724  ...           1.0   \n",
       "2     12902.006667    0.999204   1.000455   0.997391  ...           1.0   \n",
       "3     20975.314286    0.999020   1.000231   0.997972  ...           1.0   \n",
       "4     13903.872294    0.999618   1.000023   0.999231  ...           1.0   \n",
       "...            ...         ...        ...        ...  ...           ...   \n",
       "3825  14147.877828    0.997556   0.998751   0.996358  ...           1.0   \n",
       "3826  47718.395503    1.000325   1.001227   0.999474  ...           1.0   \n",
       "3827  19973.768254    0.999633   1.000705   0.998438  ...           1.0   \n",
       "3828   6573.599419    1.002305   1.003003   1.001611  ...           1.0   \n",
       "3829  17385.980296    0.998985   1.000287   0.998030  ...           1.0   \n",
       "\n",
       "      var_diff_sec  mean_diff_price  max_diff_price  min_diff_price  \\\n",
       "0       160.307678         0.000034        0.000613       -0.000724   \n",
       "1       215.541870         0.000028        0.000402       -0.000251   \n",
       "2       375.652222        -0.000106        0.000862       -0.000640   \n",
       "3      1065.148315        -0.000161        0.000545       -0.000879   \n",
       "4       306.347595        -0.000013        0.000332       -0.000559   \n",
       "...            ...              ...             ...             ...   \n",
       "3825    190.986725        -0.000030        0.000364       -0.000520   \n",
       "3826    296.413116         0.000032        0.000516       -0.000544   \n",
       "3827    483.314270         0.000042        0.000598       -0.000378   \n",
       "3828     94.779419         0.000008        0.000593       -0.000573   \n",
       "3829    424.046295        -0.000043        0.000527       -0.000407   \n",
       "\n",
       "      var_diff_price  mean_diff_volume  max_diff_volume  min_diff_volume  \\\n",
       "0       1.054531e-07         -7.709114       499.589769      -492.564661   \n",
       "1       2.819224e-08          7.038952       279.019784      -277.019082   \n",
       "2       1.553238e-07          8.230635       377.456030      -380.461510   \n",
       "3       1.589643e-07         31.148895       390.204915      -367.523144   \n",
       "4       3.775585e-08          1.571021       298.853386      -228.918219   \n",
       "...              ...               ...              ...              ...   \n",
       "3825    4.504261e-08          1.503846       483.835757      -500.788621   \n",
       "3826    7.564632e-08         -7.844172       636.830504      -767.731356   \n",
       "3827    6.616718e-08          0.057199       299.793632      -599.435665   \n",
       "3828    6.332624e-08          1.888483       283.553058      -363.755933   \n",
       "3829    5.106571e-08          8.734900       455.185068      -378.292094   \n",
       "\n",
       "      var_diff_volume  \n",
       "0        33025.273919  \n",
       "1        12935.594254  \n",
       "2        31064.860574  \n",
       "3        33851.877646  \n",
       "4        23588.882792  \n",
       "...               ...  \n",
       "3825     31297.124115  \n",
       "3826    114287.240931  \n",
       "3827     38602.676391  \n",
       "3828      9835.064503  \n",
       "3829     34370.414537  \n",
       "\n",
       "[3830 rows x 38 columns]"
      ]
     },
     "execution_count": 125,
     "metadata": {},
     "output_type": "execute_result"
    }
   ],
   "source": [
    "df2"
   ]
  },
  {
   "cell_type": "code",
   "execution_count": 126,
   "id": "a2f8ffc7",
   "metadata": {},
   "outputs": [],
   "source": [
    "df3 = pd.DataFrame()"
   ]
  },
  {
   "cell_type": "markdown",
   "id": "2f1b223e",
   "metadata": {},
   "source": [
    "# Features engineering on book_train and variables to compute the volatility"
   ]
  },
  {
   "cell_type": "code",
   "execution_count": 127,
   "id": "ea71e534",
   "metadata": {},
   "outputs": [
    {
     "data": {
      "text/html": [
       "<div>\n",
       "<style scoped>\n",
       "    .dataframe tbody tr th:only-of-type {\n",
       "        vertical-align: middle;\n",
       "    }\n",
       "\n",
       "    .dataframe tbody tr th {\n",
       "        vertical-align: top;\n",
       "    }\n",
       "\n",
       "    .dataframe thead th {\n",
       "        text-align: right;\n",
       "    }\n",
       "</style>\n",
       "<table border=\"1\" class=\"dataframe\">\n",
       "  <thead>\n",
       "    <tr style=\"text-align: right;\">\n",
       "      <th></th>\n",
       "      <th>time_id</th>\n",
       "      <th>seconds_in_bucket</th>\n",
       "      <th>bid_price1</th>\n",
       "      <th>ask_price1</th>\n",
       "      <th>bid_price2</th>\n",
       "      <th>ask_price2</th>\n",
       "      <th>bid_size1</th>\n",
       "      <th>ask_size1</th>\n",
       "      <th>bid_size2</th>\n",
       "      <th>ask_size2</th>\n",
       "      <th>stock_id</th>\n",
       "    </tr>\n",
       "  </thead>\n",
       "  <tbody>\n",
       "    <tr>\n",
       "      <th>0</th>\n",
       "      <td>5</td>\n",
       "      <td>0</td>\n",
       "      <td>1.001422</td>\n",
       "      <td>1.002301</td>\n",
       "      <td>1.001370</td>\n",
       "      <td>1.002353</td>\n",
       "      <td>3</td>\n",
       "      <td>226</td>\n",
       "      <td>2</td>\n",
       "      <td>100</td>\n",
       "      <td>0</td>\n",
       "    </tr>\n",
       "    <tr>\n",
       "      <th>1</th>\n",
       "      <td>5</td>\n",
       "      <td>1</td>\n",
       "      <td>1.001422</td>\n",
       "      <td>1.002301</td>\n",
       "      <td>1.001370</td>\n",
       "      <td>1.002353</td>\n",
       "      <td>3</td>\n",
       "      <td>100</td>\n",
       "      <td>2</td>\n",
       "      <td>100</td>\n",
       "      <td>0</td>\n",
       "    </tr>\n",
       "    <tr>\n",
       "      <th>2</th>\n",
       "      <td>5</td>\n",
       "      <td>5</td>\n",
       "      <td>1.001422</td>\n",
       "      <td>1.002301</td>\n",
       "      <td>1.001370</td>\n",
       "      <td>1.002405</td>\n",
       "      <td>3</td>\n",
       "      <td>100</td>\n",
       "      <td>2</td>\n",
       "      <td>100</td>\n",
       "      <td>0</td>\n",
       "    </tr>\n",
       "    <tr>\n",
       "      <th>3</th>\n",
       "      <td>5</td>\n",
       "      <td>6</td>\n",
       "      <td>1.001422</td>\n",
       "      <td>1.002301</td>\n",
       "      <td>1.001370</td>\n",
       "      <td>1.002405</td>\n",
       "      <td>3</td>\n",
       "      <td>126</td>\n",
       "      <td>2</td>\n",
       "      <td>100</td>\n",
       "      <td>0</td>\n",
       "    </tr>\n",
       "    <tr>\n",
       "      <th>4</th>\n",
       "      <td>5</td>\n",
       "      <td>7</td>\n",
       "      <td>1.001422</td>\n",
       "      <td>1.002301</td>\n",
       "      <td>1.001370</td>\n",
       "      <td>1.002405</td>\n",
       "      <td>3</td>\n",
       "      <td>126</td>\n",
       "      <td>2</td>\n",
       "      <td>100</td>\n",
       "      <td>0</td>\n",
       "    </tr>\n",
       "    <tr>\n",
       "      <th>...</th>\n",
       "      <td>...</td>\n",
       "      <td>...</td>\n",
       "      <td>...</td>\n",
       "      <td>...</td>\n",
       "      <td>...</td>\n",
       "      <td>...</td>\n",
       "      <td>...</td>\n",
       "      <td>...</td>\n",
       "      <td>...</td>\n",
       "      <td>...</td>\n",
       "      <td>...</td>\n",
       "    </tr>\n",
       "    <tr>\n",
       "      <th>917548</th>\n",
       "      <td>32767</td>\n",
       "      <td>568</td>\n",
       "      <td>0.998275</td>\n",
       "      <td>0.998754</td>\n",
       "      <td>0.997796</td>\n",
       "      <td>0.998946</td>\n",
       "      <td>90</td>\n",
       "      <td>90</td>\n",
       "      <td>48</td>\n",
       "      <td>28</td>\n",
       "      <td>0</td>\n",
       "    </tr>\n",
       "    <tr>\n",
       "      <th>917549</th>\n",
       "      <td>32767</td>\n",
       "      <td>569</td>\n",
       "      <td>0.998275</td>\n",
       "      <td>0.998754</td>\n",
       "      <td>0.997892</td>\n",
       "      <td>0.998946</td>\n",
       "      <td>91</td>\n",
       "      <td>90</td>\n",
       "      <td>200</td>\n",
       "      <td>28</td>\n",
       "      <td>0</td>\n",
       "    </tr>\n",
       "    <tr>\n",
       "      <th>917550</th>\n",
       "      <td>32767</td>\n",
       "      <td>571</td>\n",
       "      <td>0.998275</td>\n",
       "      <td>0.998754</td>\n",
       "      <td>0.997892</td>\n",
       "      <td>0.998946</td>\n",
       "      <td>91</td>\n",
       "      <td>90</td>\n",
       "      <td>100</td>\n",
       "      <td>28</td>\n",
       "      <td>0</td>\n",
       "    </tr>\n",
       "    <tr>\n",
       "      <th>917551</th>\n",
       "      <td>32767</td>\n",
       "      <td>572</td>\n",
       "      <td>0.998275</td>\n",
       "      <td>0.998754</td>\n",
       "      <td>0.997892</td>\n",
       "      <td>0.998946</td>\n",
       "      <td>92</td>\n",
       "      <td>90</td>\n",
       "      <td>100</td>\n",
       "      <td>28</td>\n",
       "      <td>0</td>\n",
       "    </tr>\n",
       "    <tr>\n",
       "      <th>917552</th>\n",
       "      <td>32767</td>\n",
       "      <td>582</td>\n",
       "      <td>0.998275</td>\n",
       "      <td>0.998754</td>\n",
       "      <td>0.998179</td>\n",
       "      <td>0.998946</td>\n",
       "      <td>92</td>\n",
       "      <td>90</td>\n",
       "      <td>26</td>\n",
       "      <td>28</td>\n",
       "      <td>0</td>\n",
       "    </tr>\n",
       "  </tbody>\n",
       "</table>\n",
       "<p>917553 rows × 11 columns</p>\n",
       "</div>"
      ],
      "text/plain": [
       "        time_id  seconds_in_bucket  bid_price1  ask_price1  bid_price2  \\\n",
       "0             5                  0    1.001422    1.002301    1.001370   \n",
       "1             5                  1    1.001422    1.002301    1.001370   \n",
       "2             5                  5    1.001422    1.002301    1.001370   \n",
       "3             5                  6    1.001422    1.002301    1.001370   \n",
       "4             5                  7    1.001422    1.002301    1.001370   \n",
       "...         ...                ...         ...         ...         ...   \n",
       "917548    32767                568    0.998275    0.998754    0.997796   \n",
       "917549    32767                569    0.998275    0.998754    0.997892   \n",
       "917550    32767                571    0.998275    0.998754    0.997892   \n",
       "917551    32767                572    0.998275    0.998754    0.997892   \n",
       "917552    32767                582    0.998275    0.998754    0.998179   \n",
       "\n",
       "        ask_price2  bid_size1  ask_size1  bid_size2  ask_size2  stock_id  \n",
       "0         1.002353          3        226          2        100         0  \n",
       "1         1.002353          3        100          2        100         0  \n",
       "2         1.002405          3        100          2        100         0  \n",
       "3         1.002405          3        126          2        100         0  \n",
       "4         1.002405          3        126          2        100         0  \n",
       "...            ...        ...        ...        ...        ...       ...  \n",
       "917548    0.998946         90         90         48         28         0  \n",
       "917549    0.998946         91         90        200         28         0  \n",
       "917550    0.998946         91         90        100         28         0  \n",
       "917551    0.998946         92         90        100         28         0  \n",
       "917552    0.998946         92         90         26         28         0  \n",
       "\n",
       "[917553 rows x 11 columns]"
      ]
     },
     "execution_count": 127,
     "metadata": {},
     "output_type": "execute_result"
    }
   ],
   "source": [
    "book_train"
   ]
  },
  {
   "cell_type": "markdown",
   "id": "c52b55b7",
   "metadata": {},
   "source": [
    "Optiver definition of **BidAskSpread**"
   ]
  },
  {
   "cell_type": "code",
   "execution_count": 128,
   "id": "03482e98",
   "metadata": {},
   "outputs": [],
   "source": [
    "book_train['BidAskSpreadOpt'] = (book_train['ask_price1']/book_train['bid_price1'])-1"
   ]
  },
  {
   "cell_type": "markdown",
   "id": "6754540a",
   "metadata": {},
   "source": [
    "**wap**: weighted average price"
   ]
  },
  {
   "cell_type": "code",
   "execution_count": 129,
   "id": "f1b6baa6",
   "metadata": {},
   "outputs": [],
   "source": [
    "book_train['wap'] = ((book_train['bid_price1']*book_train['ask_size1'])+(book_train['ask_price1']*book_train['bid_size1']))/(book_train['bid_size1']+book_train['ask_size1'])"
   ]
  },
  {
   "cell_type": "markdown",
   "id": "670ecd0a",
   "metadata": {},
   "source": [
    "**supply**: number of stocks available to be bought"
   ]
  },
  {
   "cell_type": "code",
   "execution_count": 130,
   "id": "378916f5",
   "metadata": {},
   "outputs": [],
   "source": [
    "book_train['supply'] = (book_train['ask_price1']*book_train['ask_size1'])+(book_train['ask_price2']*book_train['ask_size2'])"
   ]
  },
  {
   "cell_type": "markdown",
   "id": "905b2ecd",
   "metadata": {},
   "source": [
    "**pot_demand**: Essentially, they are buy limit orders."
   ]
  },
  {
   "cell_type": "code",
   "execution_count": 131,
   "id": "c3abbb01",
   "metadata": {},
   "outputs": [],
   "source": [
    "book_train['pot_demand'] = (book_train['bid_price1']*book_train['bid_size1'])+(book_train['bid_price2']*book_train['bid_size2'])"
   ]
  },
  {
   "cell_type": "markdown",
   "id": "1d418153",
   "metadata": {},
   "source": [
    "**bid_price1_2** difference between the bid prices"
   ]
  },
  {
   "cell_type": "code",
   "execution_count": 132,
   "id": "63c3dd3d",
   "metadata": {},
   "outputs": [],
   "source": [
    "book_train['bid_price1_2'] = book_train['bid_price1'] - book_train['bid_price2']"
   ]
  },
  {
   "cell_type": "markdown",
   "id": "dcd70b82",
   "metadata": {},
   "source": [
    "**ask_price1_2** difference between the ask prices"
   ]
  },
  {
   "cell_type": "code",
   "execution_count": 133,
   "id": "54e204ea",
   "metadata": {},
   "outputs": [],
   "source": [
    "book_train['ask_price1_2'] = book_train['ask_price1'] - book_train['ask_price2']"
   ]
  },
  {
   "cell_type": "markdown",
   "id": "2411ed81",
   "metadata": {},
   "source": [
    "**bid_size1_2** differenze between the bid sizes"
   ]
  },
  {
   "cell_type": "code",
   "execution_count": 134,
   "id": "31f71d2f",
   "metadata": {},
   "outputs": [],
   "source": [
    "book_train['bid_size1_2'] = book_train['bid_size1'] - book_train['bid_size2']"
   ]
  },
  {
   "cell_type": "markdown",
   "id": "54c8b917",
   "metadata": {},
   "source": [
    "**ask_size1_2** differenze between the ask sizes"
   ]
  },
  {
   "cell_type": "code",
   "execution_count": 135,
   "id": "c87992d0",
   "metadata": {},
   "outputs": [],
   "source": [
    "book_train['ask_size1_2'] = book_train['ask_size1'] - book_train['ask_size2']"
   ]
  },
  {
   "cell_type": "code",
   "execution_count": 136,
   "id": "e9c6a014",
   "metadata": {},
   "outputs": [],
   "source": [
    "book_grouped = book_train.groupby(['stock_id','time_id'])"
   ]
  },
  {
   "cell_type": "code",
   "execution_count": 137,
   "id": "82db0e40",
   "metadata": {},
   "outputs": [],
   "source": [
    "book_train['log_wap'] = np.log(book_train['wap'])"
   ]
  },
  {
   "cell_type": "code",
   "execution_count": 138,
   "id": "ef330815",
   "metadata": {},
   "outputs": [],
   "source": [
    "book_train['log_diff'] = book_grouped['log_wap'].diff()"
   ]
  },
  {
   "cell_type": "code",
   "execution_count": 139,
   "id": "d135f11d",
   "metadata": {},
   "outputs": [],
   "source": [
    "book_train['log_diff'] = book_train['log_diff'].replace(np.NaN,0)"
   ]
  },
  {
   "cell_type": "code",
   "execution_count": 140,
   "id": "2285f06e",
   "metadata": {},
   "outputs": [],
   "source": [
    "book_train['log_diff^2'] = book_train['log_diff']**2"
   ]
  },
  {
   "cell_type": "code",
   "execution_count": 141,
   "id": "54ec354c",
   "metadata": {},
   "outputs": [],
   "source": [
    "book_train['bid_diff1'] = book_grouped['bid_price1'].diff()"
   ]
  },
  {
   "cell_type": "code",
   "execution_count": 142,
   "id": "dc54da05",
   "metadata": {},
   "outputs": [],
   "source": [
    "book_train['bid_diff2'] = book_grouped['bid_price2'].diff()"
   ]
  },
  {
   "cell_type": "code",
   "execution_count": 143,
   "id": "10c3c92d",
   "metadata": {},
   "outputs": [],
   "source": [
    "book_train['ask_diff1'] = book_grouped['ask_price1'].diff()"
   ]
  },
  {
   "cell_type": "code",
   "execution_count": 144,
   "id": "8d57cf2c",
   "metadata": {},
   "outputs": [],
   "source": [
    "book_train['ask_diff2'] = book_grouped['ask_price2'].diff()"
   ]
  },
  {
   "cell_type": "code",
   "execution_count": 145,
   "id": "0d7f5109",
   "metadata": {},
   "outputs": [],
   "source": [
    "book_train['bid_size_diff1'] = book_grouped['bid_size1'].diff()"
   ]
  },
  {
   "cell_type": "code",
   "execution_count": 146,
   "id": "1b93bda7",
   "metadata": {},
   "outputs": [],
   "source": [
    "book_train['bid_size_diff2'] = book_grouped['bid_size2'].diff()"
   ]
  },
  {
   "cell_type": "code",
   "execution_count": 147,
   "id": "cd366de8",
   "metadata": {},
   "outputs": [],
   "source": [
    "book_train['ask_size_diff1'] = book_grouped['ask_size1'].diff()"
   ]
  },
  {
   "cell_type": "code",
   "execution_count": 148,
   "id": "66f4f179",
   "metadata": {},
   "outputs": [],
   "source": [
    "book_train['ask_size_diff2'] = book_grouped['ask_size2'].diff()"
   ]
  },
  {
   "cell_type": "markdown",
   "id": "c0b15bdb",
   "metadata": {},
   "source": [
    "# Compute all the features needed"
   ]
  },
  {
   "cell_type": "code",
   "execution_count": 149,
   "id": "4a8c6fbd",
   "metadata": {},
   "outputs": [],
   "source": [
    "df_book = pd.DataFrame()"
   ]
  },
  {
   "cell_type": "code",
   "execution_count": 150,
   "id": "138122b3",
   "metadata": {},
   "outputs": [
    {
     "data": {
      "text/html": [
       "<div>\n",
       "<style scoped>\n",
       "    .dataframe tbody tr th:only-of-type {\n",
       "        vertical-align: middle;\n",
       "    }\n",
       "\n",
       "    .dataframe tbody tr th {\n",
       "        vertical-align: top;\n",
       "    }\n",
       "\n",
       "    .dataframe thead th {\n",
       "        text-align: right;\n",
       "    }\n",
       "</style>\n",
       "<table border=\"1\" class=\"dataframe\">\n",
       "  <thead>\n",
       "    <tr style=\"text-align: right;\">\n",
       "      <th></th>\n",
       "    </tr>\n",
       "  </thead>\n",
       "  <tbody>\n",
       "  </tbody>\n",
       "</table>\n",
       "</div>"
      ],
      "text/plain": [
       "Empty DataFrame\n",
       "Columns: []\n",
       "Index: []"
      ]
     },
     "execution_count": 150,
     "metadata": {},
     "output_type": "execute_result"
    }
   ],
   "source": [
    "df_book"
   ]
  },
  {
   "cell_type": "markdown",
   "id": "6734184c",
   "metadata": {},
   "source": [
    "Useful features for **ask_price1**"
   ]
  },
  {
   "cell_type": "code",
   "execution_count": 151,
   "id": "a3611e09",
   "metadata": {},
   "outputs": [],
   "source": [
    "mean_ask_price1 = book_grouped['ask_price1'].mean()\n",
    "max_ask_price1 = book_grouped['ask_price1'].max()\n",
    "min_ask_price1 = book_grouped['ask_price1'].min()\n",
    "var_ask_price1 = book_grouped['ask_price1'].var()"
   ]
  },
  {
   "cell_type": "code",
   "execution_count": 152,
   "id": "d97c410e",
   "metadata": {},
   "outputs": [],
   "source": [
    "df_book['mean_ask_price1'] = mean_ask_price1\n",
    "df_book['max_ask_price1'] = max_ask_price1\n",
    "df_book['min_ask_price1'] = min_ask_price1\n",
    "df_book['var_ask_price1'] = var_ask_price1"
   ]
  },
  {
   "cell_type": "markdown",
   "id": "a724c04b",
   "metadata": {},
   "source": [
    "useful features for **ask_price2**"
   ]
  },
  {
   "cell_type": "code",
   "execution_count": 153,
   "id": "4328e8f5",
   "metadata": {},
   "outputs": [],
   "source": [
    "mean_ask_price2 = book_grouped['ask_price2'].mean()\n",
    "max_ask_price2 = book_grouped['ask_price2'].max()\n",
    "min_ask_price2 = book_grouped['ask_price2'].min()\n",
    "var_ask_price2 = book_grouped['ask_price2'].var()"
   ]
  },
  {
   "cell_type": "code",
   "execution_count": 154,
   "id": "a80046a9",
   "metadata": {},
   "outputs": [],
   "source": [
    "df_book['mean_ask_price2'] = mean_ask_price1\n",
    "df_book['max_ask_price2'] = max_ask_price2\n",
    "df_book['min_ask_price2'] = min_ask_price2\n",
    "df_book['var_ask_price2'] = var_ask_price2"
   ]
  },
  {
   "cell_type": "markdown",
   "id": "b0458cad",
   "metadata": {},
   "source": [
    "Useful features for **bid_price1**"
   ]
  },
  {
   "cell_type": "code",
   "execution_count": 155,
   "id": "80b7cd8d",
   "metadata": {},
   "outputs": [],
   "source": [
    "mean_bid_price1 = book_grouped['bid_price1'].mean()\n",
    "max_bid_price1 = book_grouped['bid_price1'].max()\n",
    "min_bid_price1 = book_grouped['bid_price1'].min()\n",
    "var_bid_price1 = book_grouped['bid_price1'].var()"
   ]
  },
  {
   "cell_type": "code",
   "execution_count": 156,
   "id": "d4dc90cd",
   "metadata": {},
   "outputs": [],
   "source": [
    "df_book['mean_bid_price1'] = mean_bid_price1\n",
    "df_book['max_bid_price1'] = max_bid_price1\n",
    "df_book['min_bid_price1'] = min_bid_price1\n",
    "df_book['var_bid_price1'] = var_bid_price1"
   ]
  },
  {
   "cell_type": "markdown",
   "id": "0e2df61f",
   "metadata": {},
   "source": [
    "Useful features for **bid_price2**"
   ]
  },
  {
   "cell_type": "code",
   "execution_count": 157,
   "id": "1a3a4839",
   "metadata": {},
   "outputs": [],
   "source": [
    "mean_bid_price2 = book_grouped['bid_price2'].mean()\n",
    "max_bid_price2 = book_grouped['bid_price2'].max()\n",
    "min_bid_price2 = book_grouped['bid_price2'].min()\n",
    "var_bid_price2 = book_grouped['bid_price2'].var()"
   ]
  },
  {
   "cell_type": "code",
   "execution_count": 158,
   "id": "352465db",
   "metadata": {},
   "outputs": [],
   "source": [
    "df_book['mean_bid_price2'] = mean_bid_price2\n",
    "df_book['max_bid_price2'] = max_bid_price2\n",
    "df_book['min_bid_price2'] = min_bid_price2\n",
    "df_book['var_bid_price2'] = var_bid_price2"
   ]
  },
  {
   "cell_type": "markdown",
   "id": "ebc6b42f",
   "metadata": {},
   "source": [
    "Useful features for **ask_size1**"
   ]
  },
  {
   "cell_type": "code",
   "execution_count": 159,
   "id": "b9c0796a",
   "metadata": {},
   "outputs": [],
   "source": [
    "mean_ask_size1 = book_grouped['ask_size1'].mean()\n",
    "max_ask_size1 = book_grouped['ask_size1'].max()\n",
    "min_ask_size1 = book_grouped['ask_size1'].min()\n",
    "var_ask_size1 = book_grouped['ask_size1'].var()"
   ]
  },
  {
   "cell_type": "code",
   "execution_count": 160,
   "id": "b9f09b98",
   "metadata": {},
   "outputs": [],
   "source": [
    "df_book['mean_ask_size1'] = mean_ask_size1\n",
    "df_book['max_ask_size1'] = max_ask_size1\n",
    "df_book['min_ask_size1'] = min_ask_size1\n",
    "df_book['var_ask_size1'] = var_ask_size1"
   ]
  },
  {
   "cell_type": "markdown",
   "id": "cc878ac4",
   "metadata": {},
   "source": [
    "Useful features for **ask_size2**"
   ]
  },
  {
   "cell_type": "code",
   "execution_count": 161,
   "id": "4dbadd7e",
   "metadata": {},
   "outputs": [],
   "source": [
    "mean_ask_size2 = book_grouped['ask_size2'].mean()\n",
    "max_ask_size2 = book_grouped['ask_size2'].max()\n",
    "min_ask_size2 = book_grouped['ask_size2'].min()\n",
    "var_ask_size2 = book_grouped['ask_size2'].var()"
   ]
  },
  {
   "cell_type": "code",
   "execution_count": 162,
   "id": "d93e2b7c",
   "metadata": {},
   "outputs": [],
   "source": [
    "df_book['mean_ask_size2'] = mean_ask_size2\n",
    "df_book['max_ask_size2'] = max_ask_size2\n",
    "df_book['min_ask_size2'] = min_ask_size2\n",
    "df_book['var_ask_size2'] = var_ask_size2"
   ]
  },
  {
   "cell_type": "markdown",
   "id": "5e46e64a",
   "metadata": {},
   "source": [
    "Useful features for **bid_size1**"
   ]
  },
  {
   "cell_type": "code",
   "execution_count": 163,
   "id": "216cc40d",
   "metadata": {},
   "outputs": [],
   "source": [
    "mean_bid_size1 = book_grouped['bid_size1'].mean()\n",
    "max_bid_size1 = book_grouped['bid_size1'].max()\n",
    "min_bid_size1 = book_grouped['bid_size1'].min()\n",
    "var_bid_size1 = book_grouped['bid_size1'].var()"
   ]
  },
  {
   "cell_type": "code",
   "execution_count": 164,
   "id": "6d1a7216",
   "metadata": {},
   "outputs": [],
   "source": [
    "df_book['mean_bid_size1'] = mean_bid_size1\n",
    "df_book['max_bid_size1'] = max_bid_size1\n",
    "df_book['min_bid_size1'] = min_bid_size1\n",
    "df_book['var_bid_size1'] = var_bid_size1"
   ]
  },
  {
   "cell_type": "markdown",
   "id": "c7e6cbef",
   "metadata": {},
   "source": [
    "Useful features for **bid_size2**"
   ]
  },
  {
   "cell_type": "code",
   "execution_count": 165,
   "id": "c7f06954",
   "metadata": {},
   "outputs": [],
   "source": [
    "mean_bid_size2 = book_grouped['bid_size2'].mean()\n",
    "max_bid_size2 = book_grouped['bid_size2'].max()\n",
    "min_bid_size2 = book_grouped['bid_size2'].min()\n",
    "var_bid_size2 = book_grouped['bid_size2'].var()"
   ]
  },
  {
   "cell_type": "code",
   "execution_count": 166,
   "id": "ee49a997",
   "metadata": {},
   "outputs": [],
   "source": [
    "df_book['mean_bid_size2'] = mean_bid_size2\n",
    "df_book['max_bid_size2'] = max_bid_size2\n",
    "df_book['min_bid_size2'] = min_bid_size2\n",
    "df_book['var_bid_size2'] = var_bid_size2"
   ]
  },
  {
   "cell_type": "markdown",
   "id": "a6f8d7f5",
   "metadata": {},
   "source": [
    "Useful features for **supply**"
   ]
  },
  {
   "cell_type": "code",
   "execution_count": 167,
   "id": "5d2daf90",
   "metadata": {},
   "outputs": [],
   "source": [
    "mean_supply = book_grouped['supply'].mean()\n",
    "max_supply = book_grouped['supply'].max()\n",
    "min_supply = book_grouped['supply'].min()\n",
    "var_supply = book_grouped['supply'].var()"
   ]
  },
  {
   "cell_type": "code",
   "execution_count": 168,
   "id": "77b4b320",
   "metadata": {},
   "outputs": [],
   "source": [
    "df_book['mean_supply'] = mean_supply\n",
    "df_book['max_supply'] = max_supply\n",
    "df_book['min_supply'] = min_supply\n",
    "df_book['var_supply'] = var_supply"
   ]
  },
  {
   "cell_type": "markdown",
   "id": "aeefad93",
   "metadata": {},
   "source": [
    "Useful features for **pot_demand**"
   ]
  },
  {
   "cell_type": "code",
   "execution_count": 169,
   "id": "7535560c",
   "metadata": {},
   "outputs": [],
   "source": [
    "mean_pot_demand = book_grouped['pot_demand'].mean()\n",
    "max_pot_demand = book_grouped['pot_demand'].max()\n",
    "min_pot_demand = book_grouped['pot_demand'].min()\n",
    "var_pot_demand = book_grouped['pot_demand'].var()"
   ]
  },
  {
   "cell_type": "code",
   "execution_count": 170,
   "id": "f4cd115f",
   "metadata": {},
   "outputs": [],
   "source": [
    "df_book['mean_pot_demand'] = mean_pot_demand\n",
    "df_book['max_pot_demand'] = max_pot_demand\n",
    "df_book['min_pot_demand'] = min_pot_demand\n",
    "df_book['var_pot_demand'] = var_pot_demand"
   ]
  },
  {
   "cell_type": "markdown",
   "id": "956f789d",
   "metadata": {},
   "source": [
    "Useful features for **bid_price1_2**"
   ]
  },
  {
   "cell_type": "code",
   "execution_count": 171,
   "id": "5db047e9",
   "metadata": {},
   "outputs": [],
   "source": [
    "mean_bid_price1_2 = book_grouped['bid_price1_2'].mean()\n",
    "max_bid_price1_2 = book_grouped['bid_price1_2'].max()\n",
    "min_bid_price1_2 = book_grouped['bid_price1_2'].min()\n",
    "var_bid_price1_2 = book_grouped['bid_price1_2'].var()"
   ]
  },
  {
   "cell_type": "code",
   "execution_count": 172,
   "id": "0338b614",
   "metadata": {},
   "outputs": [],
   "source": [
    "df_book['mean_bid_price1_2'] = mean_bid_price1_2\n",
    "df_book['max_bid_price1_2'] = max_bid_price1_2\n",
    "df_book['min_bid_price1_2'] = min_bid_price1_2\n",
    "df_book['var_bid_price1_2'] = var_bid_price1_2"
   ]
  },
  {
   "cell_type": "markdown",
   "id": "c6f60ea6",
   "metadata": {},
   "source": [
    "Useful features for **ask_price1_2**"
   ]
  },
  {
   "cell_type": "code",
   "execution_count": 173,
   "id": "396ff31c",
   "metadata": {},
   "outputs": [],
   "source": [
    "mean_ask_price1_2 = book_grouped['ask_price1_2'].mean()\n",
    "max_ask_price1_2 = book_grouped['ask_price1_2'].max()\n",
    "min_ask_price1_2 = book_grouped['ask_price1_2'].min()\n",
    "var_ask_price1_2 = book_grouped['ask_price1_2'].var()"
   ]
  },
  {
   "cell_type": "code",
   "execution_count": 174,
   "id": "687de1a6",
   "metadata": {},
   "outputs": [],
   "source": [
    "df_book['mean_ask_price1_2'] = mean_ask_price1_2\n",
    "df_book['max_ask_price1_2'] = max_ask_price1_2\n",
    "df_book['min_ask_price1_2'] = min_ask_price1_2\n",
    "df_book['var_ask_price1_2'] = var_ask_price1_2"
   ]
  },
  {
   "cell_type": "markdown",
   "id": "f136d2fc",
   "metadata": {},
   "source": [
    "Useful features for **bid_size1_2**"
   ]
  },
  {
   "cell_type": "code",
   "execution_count": 175,
   "id": "a1f8537c",
   "metadata": {},
   "outputs": [],
   "source": [
    "mean_bid_size1_2 = book_grouped['bid_size1_2'].mean()\n",
    "max_bid_size1_2 = book_grouped['bid_size1_2'].max()\n",
    "min_bid_size1_2 = book_grouped['bid_size1_2'].min()\n",
    "var_bid_size1_2 = book_grouped['bid_size1_2'].var()"
   ]
  },
  {
   "cell_type": "code",
   "execution_count": 176,
   "id": "0d3d728d",
   "metadata": {},
   "outputs": [],
   "source": [
    "df_book['mean_bid_size1_2'] = mean_bid_size1_2\n",
    "df_book['max_bid_size1_2'] = max_bid_size1_2\n",
    "df_book['min_bid_size1_2'] = min_bid_size1_2\n",
    "df_book['var_bid_size1_2'] = var_bid_size1_2"
   ]
  },
  {
   "cell_type": "markdown",
   "id": "8a93912c",
   "metadata": {},
   "source": [
    "Useful features for **ask_size1_2**"
   ]
  },
  {
   "cell_type": "code",
   "execution_count": 177,
   "id": "eb891c5e",
   "metadata": {},
   "outputs": [],
   "source": [
    "mean_ask_size1_2 = book_grouped['ask_size1_2'].mean()\n",
    "max_ask_size1_2 = book_grouped['ask_size1_2'].max()\n",
    "min_ask_size1_2 = book_grouped['ask_size1_2'].min()\n",
    "var_ask_size1_2 = book_grouped['ask_size1_2'].var()"
   ]
  },
  {
   "cell_type": "code",
   "execution_count": 178,
   "id": "ac822f4e",
   "metadata": {},
   "outputs": [],
   "source": [
    "df_book['mean_ask_size1_2'] = mean_ask_size1_2\n",
    "df_book['max_ask_size1_2'] = max_ask_size1_2\n",
    "df_book['min_ask_size1_2'] = min_ask_size1_2\n",
    "df_book['var_ask_size1_2'] = var_ask_size1_2"
   ]
  },
  {
   "cell_type": "markdown",
   "id": "b9936208",
   "metadata": {},
   "source": [
    "Useful features for **BidAskSpreadOpt**"
   ]
  },
  {
   "cell_type": "code",
   "execution_count": 179,
   "id": "443549c2",
   "metadata": {},
   "outputs": [],
   "source": [
    "mean_BidAskSpreadOpt = book_grouped['BidAskSpreadOpt'].mean()\n",
    "max_BidAskSpreadOpt = book_grouped['BidAskSpreadOpt'].max()\n",
    "min_BidAskSpreadOpt = book_grouped['BidAskSpreadOpt'].min()\n",
    "var_BidAskSpreadOpt = book_grouped['BidAskSpreadOpt'].var()"
   ]
  },
  {
   "cell_type": "code",
   "execution_count": 180,
   "id": "45792cfd",
   "metadata": {},
   "outputs": [],
   "source": [
    "df_book['mean_BidAskSpreadOpt'] = mean_BidAskSpreadOpt\n",
    "df_book['max_BidAskSpreadOpt'] = max_BidAskSpreadOpt\n",
    "df_book['min_BidAskSpreadOpt'] = min_BidAskSpreadOpt\n",
    "df_book['var_BidAskSpreadOpt'] = var_BidAskSpreadOpt"
   ]
  },
  {
   "cell_type": "markdown",
   "id": "62e88dbd",
   "metadata": {},
   "source": [
    "Useful features for **wap**"
   ]
  },
  {
   "cell_type": "code",
   "execution_count": 181,
   "id": "5da1350e",
   "metadata": {},
   "outputs": [],
   "source": [
    "mean_wap = book_grouped['wap'].mean()\n",
    "max_wap = book_grouped['wap'].max()\n",
    "min_wap = book_grouped['wap'].min()\n",
    "var_wap = book_grouped['wap'].var()"
   ]
  },
  {
   "cell_type": "code",
   "execution_count": 182,
   "id": "7c9c23f4",
   "metadata": {},
   "outputs": [],
   "source": [
    "df_book['mean_wap'] = mean_wap\n",
    "df_book['max_wap'] = max_wap\n",
    "df_book['min_wap'] = min_wap\n",
    "df_book['var_wap'] = var_wap"
   ]
  },
  {
   "cell_type": "markdown",
   "id": "3747315d",
   "metadata": {},
   "source": [
    "# compute realized volatility (target)"
   ]
  },
  {
   "cell_type": "code",
   "execution_count": 183,
   "id": "9f7c89de",
   "metadata": {},
   "outputs": [],
   "source": [
    "current_realized_volatility = (book_grouped['log_diff^2'].sum())**(0.5)"
   ]
  },
  {
   "cell_type": "code",
   "execution_count": 184,
   "id": "739d2461",
   "metadata": {},
   "outputs": [],
   "source": [
    "df_book['current_realized_volatility'] = current_realized_volatility"
   ]
  },
  {
   "cell_type": "markdown",
   "id": "836d0c46",
   "metadata": {},
   "source": [
    "Useful features for **bid_diff1**"
   ]
  },
  {
   "cell_type": "code",
   "execution_count": 185,
   "id": "876d7062",
   "metadata": {},
   "outputs": [],
   "source": [
    "mean_bid_diff1 = book_grouped['bid_diff1'].mean()\n",
    "max_bid_diff1 = book_grouped['bid_diff1'].max()\n",
    "min_bid_diff1 = book_grouped['bid_diff1'].min()\n",
    "var_bid_diff1 = book_grouped['bid_diff1'].var()"
   ]
  },
  {
   "cell_type": "code",
   "execution_count": 186,
   "id": "7d472602",
   "metadata": {},
   "outputs": [],
   "source": [
    "df_book['mean_bid_diff1'] = mean_bid_diff1\n",
    "df_book['max_bid_diff1'] = max_bid_diff1\n",
    "df_book['min_bid_diff1'] = min_bid_diff1\n",
    "df_book['var_bid_diff1'] = var_bid_diff1"
   ]
  },
  {
   "cell_type": "markdown",
   "id": "372c92d8",
   "metadata": {},
   "source": [
    "Useful features for **bid_diff2**"
   ]
  },
  {
   "cell_type": "code",
   "execution_count": 187,
   "id": "e444ad02",
   "metadata": {},
   "outputs": [],
   "source": [
    "mean_bid_diff2 = book_grouped['bid_diff2'].mean()\n",
    "max_bid_diff2 = book_grouped['bid_diff2'].max()\n",
    "min_bid_diff2 = book_grouped['bid_diff2'].min()\n",
    "var_bid_diff2 = book_grouped['bid_diff2'].var()"
   ]
  },
  {
   "cell_type": "code",
   "execution_count": 188,
   "id": "78b816e8",
   "metadata": {},
   "outputs": [],
   "source": [
    "df_book['mean_bid_diff2'] = mean_bid_diff2\n",
    "df_book['max_bid_diff2'] = max_bid_diff2\n",
    "df_book['min_bid_diff2'] = min_bid_diff2\n",
    "df_book['var_bid_diff2'] = var_bid_diff2"
   ]
  },
  {
   "cell_type": "markdown",
   "id": "a366be4a",
   "metadata": {},
   "source": [
    "Useful features for **ask_diff1**"
   ]
  },
  {
   "cell_type": "code",
   "execution_count": 189,
   "id": "8d325b06",
   "metadata": {},
   "outputs": [],
   "source": [
    "mean_ask_diff1 = book_grouped['ask_diff1'].mean()\n",
    "max_ask_diff1 = book_grouped['ask_diff1'].max()\n",
    "min_ask_diff1 = book_grouped['ask_diff1'].min()\n",
    "var_ask_diff1 = book_grouped['ask_diff1'].var()"
   ]
  },
  {
   "cell_type": "code",
   "execution_count": 190,
   "id": "0c13183c",
   "metadata": {},
   "outputs": [],
   "source": [
    "df_book['mean_ask_diff1'] = mean_ask_diff1\n",
    "df_book['max_ask_diff1'] = max_ask_diff1\n",
    "df_book['min_ask_diff1'] = min_ask_diff1\n",
    "df_book['var_ask_diff1'] = var_ask_diff1"
   ]
  },
  {
   "cell_type": "markdown",
   "id": "ebd7b4b7",
   "metadata": {},
   "source": [
    "Useful features for **bid_size_diff1**"
   ]
  },
  {
   "cell_type": "code",
   "execution_count": 191,
   "id": "760d0870",
   "metadata": {},
   "outputs": [],
   "source": [
    "mean_bid_size_diff1 = book_grouped['bid_size_diff1'].mean()\n",
    "max_bid_size_diff1 = book_grouped['bid_size_diff1'].max()\n",
    "min_bid_size_diff1 = book_grouped['bid_size_diff1'].min()\n",
    "var_bid_size_diff1 = book_grouped['bid_size_diff1'].var()"
   ]
  },
  {
   "cell_type": "code",
   "execution_count": 192,
   "id": "0a3d32c8",
   "metadata": {},
   "outputs": [],
   "source": [
    "df_book['mean_bid_size_diff1'] = mean_bid_size_diff1\n",
    "df_book['max_bid_size_diff1'] = max_bid_size_diff1\n",
    "df_book['min_bid_size_diff1'] = min_bid_size_diff1\n",
    "df_book['var_bid_size_diff1'] = var_bid_size_diff1"
   ]
  },
  {
   "cell_type": "markdown",
   "id": "f716c365",
   "metadata": {},
   "source": [
    "Useful features for **bid_size_diff2**"
   ]
  },
  {
   "cell_type": "code",
   "execution_count": 193,
   "id": "78e4bf9b",
   "metadata": {},
   "outputs": [],
   "source": [
    "mean_bid_size_diff2 = book_grouped['bid_size_diff2'].mean()\n",
    "max_bid_size_diff2 = book_grouped['bid_size_diff2'].max()\n",
    "min_bid_size_diff2 = book_grouped['bid_size_diff2'].min()\n",
    "var_bid_size_diff2 = book_grouped['bid_size_diff2'].var()"
   ]
  },
  {
   "cell_type": "code",
   "execution_count": 194,
   "id": "7f6befff",
   "metadata": {},
   "outputs": [],
   "source": [
    "df_book['mean_bid_size_diff2'] = mean_bid_size_diff2\n",
    "df_book['max_bid_size_diff2'] = max_bid_size_diff2\n",
    "df_book['min_bid_size_diff2'] = min_bid_size_diff2\n",
    "df_book['var_bid_size_diff2'] = var_bid_size_diff2"
   ]
  },
  {
   "cell_type": "markdown",
   "id": "c166c1cb",
   "metadata": {},
   "source": [
    "Useful features for **ask_size_diff1**"
   ]
  },
  {
   "cell_type": "code",
   "execution_count": 195,
   "id": "de2db724",
   "metadata": {},
   "outputs": [],
   "source": [
    "mean_ask_size_diff1 = book_grouped['ask_size_diff1'].mean()\n",
    "max_ask_size_diff1 = book_grouped['ask_size_diff1'].max()\n",
    "min_ask_size_diff1 = book_grouped['ask_size_diff1'].min()\n",
    "var_ask_size_diff1 = book_grouped['ask_size_diff1'].var()"
   ]
  },
  {
   "cell_type": "code",
   "execution_count": 196,
   "id": "57b29134",
   "metadata": {},
   "outputs": [],
   "source": [
    "df_book['mean_ask_size_diff1'] = mean_ask_size_diff1\n",
    "df_book['max_ask_size_diff1'] = max_ask_size_diff1\n",
    "df_book['min_ask_size_diff1'] = min_ask_size_diff1\n",
    "df_book['var_ask_size_diff1'] = var_ask_size_diff1"
   ]
  },
  {
   "cell_type": "markdown",
   "id": "ab84f8f5",
   "metadata": {},
   "source": [
    "Useful features for **ask_size_diff2**"
   ]
  },
  {
   "cell_type": "code",
   "execution_count": 197,
   "id": "ef53a996",
   "metadata": {},
   "outputs": [],
   "source": [
    "mean_ask_size_diff2 = book_grouped['ask_size_diff2'].mean()\n",
    "max_ask_size_diff2 = book_grouped['ask_size_diff2'].max()\n",
    "min_ask_size_diff2 = book_grouped['ask_size_diff2'].min()\n",
    "var_ask_size_diff2 = book_grouped['ask_size_diff2'].var()"
   ]
  },
  {
   "cell_type": "code",
   "execution_count": 198,
   "id": "1f356ddc",
   "metadata": {},
   "outputs": [],
   "source": [
    "df_book['mean_ask_size_diff2'] = mean_ask_size_diff2\n",
    "df_book['max_ask_size_diff2'] = max_ask_size_diff2\n",
    "df_book['min_ask_size_diff2'] = min_ask_size_diff2\n",
    "df_book['var_ask_size_diff2'] = var_ask_size_diff2"
   ]
  },
  {
   "cell_type": "markdown",
   "id": "110a324c",
   "metadata": {},
   "source": [
    "# Compute on all the stocks on the trade_set"
   ]
  },
  {
   "cell_type": "code",
   "execution_count": 204,
   "id": "388f2ca5",
   "metadata": {},
   "outputs": [],
   "source": [
    "df_final = pd.DataFrame()\n",
    "for file in trade_path:\n",
    "    trade_example = pd.read_parquet(file)\n",
    "    stockid = file.split('=')[1]\n",
    "    trade_example['stock_id'] = stockid\n",
    "    trade_example.stock_id = trade_example.stock_id.astype(int)\n",
    "    trade_example['volume'] = trade_example['price']*trade_example['size']\n",
    "    trade_example['volume_per_count'] = trade_example['volume']/trade_example['order_count']\n",
    "    trade_grouped = trade_example.groupby(['stock_id','time_id'])\n",
    "    diff_seconds = trade_grouped['seconds_in_bucket'].diff()\n",
    "    diff_price = trade_grouped['price'].diff()\n",
    "    diff_volume = trade_grouped['volume'].diff()\n",
    "    trade_example['diff_price'] = diff_price\n",
    "    trade_example['diff_seconds'] = diff_seconds\n",
    "    trade_example['diff_volume'] = diff_volume\n",
    "    total_size = trade_grouped['size'].sum()\n",
    "    total_size = total_size.rename('total_size')\n",
    "    mean_size = trade_grouped['size'].mean()\n",
    "    mean_size = mean_size.rename('mean_size')\n",
    "    max_size = trade_grouped['size'].max()\n",
    "    max_size = max_size.rename('max_size')\n",
    "    min_size = trade_grouped['size'].min()\n",
    "    min_size = min_size.rename('min_size')\n",
    "    var_size = trade_grouped['size'].var()\n",
    "    var_size = var_size.rename('var_size')\n",
    "    mean_price = trade_grouped['price'].mean()\n",
    "    mean_price = mean_price.rename('mean_price')\n",
    "    max_price = trade_grouped['price'].max()\n",
    "    max_price = max_price.rename('max_price')\n",
    "    min_price = trade_grouped['price'].min()\n",
    "    min_price = min_price.rename('min_price')\n",
    "    var_price = trade_grouped['price'].var()\n",
    "    var_price = var_price.rename('var_price')\n",
    "    total_volume = trade_grouped['volume'].sum()\n",
    "    total_volume = total_volume.rename('total_volume')\n",
    "    mean_volume = trade_grouped['volume'].mean()\n",
    "    mean_volume = mean_volume.rename('mean_volume')\n",
    "    max_volume = trade_grouped['volume'].max()\n",
    "    max_volume = max_volume.rename('max_volume')\n",
    "    min_volume = trade_grouped['volume'].min()\n",
    "    min_volume = min_volume.rename('min_volume')\n",
    "    var_volume = trade_grouped['volume'].var()\n",
    "    var_volume = var_volume.rename('var_volume')\n",
    "    total_order_count = trade_grouped['order_count'].sum()\n",
    "    total_order_count = total_order_count.rename('total_order_count')\n",
    "    mean_order_count = trade_grouped['order_count'].mean()\n",
    "    mean_order_count = mean_order_count.rename('mean_order_count')\n",
    "    max_order_count = trade_grouped['order_count'].max()\n",
    "    max_order_count = max_order_count.rename('max_order_count')\n",
    "    min_order_count = trade_grouped['order_count'].min()\n",
    "    min_order_count = min_order_count.rename('min_order_count')\n",
    "    var_order_count = trade_grouped['order_count'].var()\n",
    "    var_order_count = var_order_count.rename('var_order_count')\n",
    "    vwap = total_volume/total_size\n",
    "    vwap = vwap.rename('vwap')\n",
    "    mean_vpc = trade_grouped['volume_per_count'].mean()\n",
    "    mean_vpc = mean_vpc.rename('mean_vpc')\n",
    "    max_vpc = trade_grouped['volume_per_count'].max()\n",
    "    max_vpc = max_vpc.rename('max_vpc')\n",
    "    min_vpc = trade_grouped['volume_per_count'].min()\n",
    "    min_vpc = min_vpc.rename('min_vpc')\n",
    "    var_vpc = trade_grouped['volume_per_count'].var()\n",
    "    var_vpc = var_vpc.rename('var_vpc')\n",
    "    mean_diff_sec = trade_grouped['diff_seconds'].mean()\n",
    "    mean_diff_sec = mean_diff_sec.rename('mean_diff_sec')\n",
    "    max_diff_sec = trade_grouped['diff_seconds'].max()\n",
    "    max_diff_sec = max_diff_sec.rename('max_diff_sec')\n",
    "    min_diff_sec = trade_grouped['diff_seconds'].min()\n",
    "    min_diff_sec = min_diff_sec.rename('min_diff_sec')\n",
    "    var_diff_sec = trade_grouped['diff_seconds'].var()\n",
    "    var_diff_sec = var_diff_sec.rename('var_diff_sec')\n",
    "    mean_diff_price = trade_grouped['diff_price'].mean()\n",
    "    mean_diff_price = mean_diff_price.rename('mean_diff_price')\n",
    "    max_diff_price = trade_grouped['diff_price'].max()\n",
    "    max_diff_price = max_diff_price.rename('max_diff_price')\n",
    "    min_diff_price = trade_grouped['diff_price'].min()\n",
    "    min_diff_price = min_diff_price.rename('min_diff_price')\n",
    "    var_diff_price = trade_grouped['diff_price'].var()\n",
    "    var_diff_price = var_diff_price.rename('var_diff_price')\n",
    "    mean_diff_volume = trade_grouped['diff_volume'].mean()\n",
    "    mean_diff_volume = mean_diff_volume.rename('mean_diff_volume')\n",
    "    max_diff_volume = trade_grouped['diff_volume'].max()\n",
    "    max_diff_volume = max_diff_volume.rename('max_diff_volume')\n",
    "    min_diff_volume = trade_grouped['diff_volume'].min()\n",
    "    min_diff_volume = min_diff_volume.rename('min_diff_volume')\n",
    "    var_diff_volume = trade_grouped['diff_volume'].var()\n",
    "    var_diff_volume = var_diff_volume.rename('var_diff_volume')\n",
    "    df_trade = pd.concat([total_size,mean_size,max_size,min_size,var_size,mean_price,max_price,min_price,var_price,total_volume,mean_volume,max_volume,min_volume,var_volume,total_order_count,mean_order_count,max_order_count,min_order_count,var_order_count,vwap,mean_vpc,max_vpc,min_vpc,var_vpc,mean_diff_sec,max_diff_sec,min_diff_sec,var_diff_sec,mean_diff_price,max_diff_price,min_diff_price,var_diff_price,mean_diff_volume,max_diff_volume,min_diff_volume,var_diff_volume],axis = 1).reset_index()\n",
    "    df_final = pd.concat([df_final,df_trade],ignore_index = True)"
   ]
  },
  {
   "cell_type": "code",
   "execution_count": 205,
   "id": "42176d52",
   "metadata": {},
   "outputs": [
    {
     "data": {
      "text/html": [
       "<div>\n",
       "<style scoped>\n",
       "    .dataframe tbody tr th:only-of-type {\n",
       "        vertical-align: middle;\n",
       "    }\n",
       "\n",
       "    .dataframe tbody tr th {\n",
       "        vertical-align: top;\n",
       "    }\n",
       "\n",
       "    .dataframe thead th {\n",
       "        text-align: right;\n",
       "    }\n",
       "</style>\n",
       "<table border=\"1\" class=\"dataframe\">\n",
       "  <thead>\n",
       "    <tr style=\"text-align: right;\">\n",
       "      <th></th>\n",
       "      <th>stock_id</th>\n",
       "      <th>time_id</th>\n",
       "      <th>total_size</th>\n",
       "      <th>mean_size</th>\n",
       "      <th>max_size</th>\n",
       "      <th>min_size</th>\n",
       "      <th>var_size</th>\n",
       "      <th>mean_price</th>\n",
       "      <th>max_price</th>\n",
       "      <th>min_price</th>\n",
       "      <th>...</th>\n",
       "      <th>min_diff_sec</th>\n",
       "      <th>var_diff_sec</th>\n",
       "      <th>mean_diff_price</th>\n",
       "      <th>max_diff_price</th>\n",
       "      <th>min_diff_price</th>\n",
       "      <th>var_diff_price</th>\n",
       "      <th>mean_diff_volume</th>\n",
       "      <th>max_diff_volume</th>\n",
       "      <th>min_diff_volume</th>\n",
       "      <th>var_diff_volume</th>\n",
       "    </tr>\n",
       "  </thead>\n",
       "  <tbody>\n",
       "    <tr>\n",
       "      <th>0</th>\n",
       "      <td>0</td>\n",
       "      <td>5</td>\n",
       "      <td>3179</td>\n",
       "      <td>79.475000</td>\n",
       "      <td>499</td>\n",
       "      <td>1</td>\n",
       "      <td>1.401267e+04</td>\n",
       "      <td>1.003722</td>\n",
       "      <td>1.004680</td>\n",
       "      <td>1.002301</td>\n",
       "      <td>...</td>\n",
       "      <td>1.0</td>\n",
       "      <td>160.307678</td>\n",
       "      <td>0.000034</td>\n",
       "      <td>0.000613</td>\n",
       "      <td>-0.000724</td>\n",
       "      <td>1.054531e-07</td>\n",
       "      <td>-7.709114</td>\n",
       "      <td>499.589769</td>\n",
       "      <td>-492.564661</td>\n",
       "      <td>3.302527e+04</td>\n",
       "    </tr>\n",
       "    <tr>\n",
       "      <th>1</th>\n",
       "      <td>0</td>\n",
       "      <td>11</td>\n",
       "      <td>1289</td>\n",
       "      <td>42.966667</td>\n",
       "      <td>280</td>\n",
       "      <td>1</td>\n",
       "      <td>6.055206e+03</td>\n",
       "      <td>1.000206</td>\n",
       "      <td>1.000828</td>\n",
       "      <td>0.999724</td>\n",
       "      <td>...</td>\n",
       "      <td>1.0</td>\n",
       "      <td>215.541870</td>\n",
       "      <td>0.000028</td>\n",
       "      <td>0.000402</td>\n",
       "      <td>-0.000251</td>\n",
       "      <td>2.819224e-08</td>\n",
       "      <td>7.038952</td>\n",
       "      <td>279.019784</td>\n",
       "      <td>-277.019082</td>\n",
       "      <td>1.293559e+04</td>\n",
       "    </tr>\n",
       "    <tr>\n",
       "      <th>2</th>\n",
       "      <td>0</td>\n",
       "      <td>16</td>\n",
       "      <td>2161</td>\n",
       "      <td>86.440000</td>\n",
       "      <td>391</td>\n",
       "      <td>1</td>\n",
       "      <td>1.290201e+04</td>\n",
       "      <td>0.999204</td>\n",
       "      <td>1.000455</td>\n",
       "      <td>0.997391</td>\n",
       "      <td>...</td>\n",
       "      <td>1.0</td>\n",
       "      <td>375.652222</td>\n",
       "      <td>-0.000106</td>\n",
       "      <td>0.000862</td>\n",
       "      <td>-0.000640</td>\n",
       "      <td>1.553238e-07</td>\n",
       "      <td>8.230635</td>\n",
       "      <td>377.456030</td>\n",
       "      <td>-380.461510</td>\n",
       "      <td>3.106486e+04</td>\n",
       "    </tr>\n",
       "    <tr>\n",
       "      <th>3</th>\n",
       "      <td>0</td>\n",
       "      <td>31</td>\n",
       "      <td>1962</td>\n",
       "      <td>130.800000</td>\n",
       "      <td>450</td>\n",
       "      <td>5</td>\n",
       "      <td>2.097531e+04</td>\n",
       "      <td>0.999020</td>\n",
       "      <td>1.000231</td>\n",
       "      <td>0.997972</td>\n",
       "      <td>...</td>\n",
       "      <td>1.0</td>\n",
       "      <td>1065.148315</td>\n",
       "      <td>-0.000161</td>\n",
       "      <td>0.000545</td>\n",
       "      <td>-0.000879</td>\n",
       "      <td>1.589643e-07</td>\n",
       "      <td>31.148895</td>\n",
       "      <td>390.204915</td>\n",
       "      <td>-367.523144</td>\n",
       "      <td>3.385188e+04</td>\n",
       "    </tr>\n",
       "    <tr>\n",
       "      <th>4</th>\n",
       "      <td>0</td>\n",
       "      <td>62</td>\n",
       "      <td>1791</td>\n",
       "      <td>81.409091</td>\n",
       "      <td>341</td>\n",
       "      <td>1</td>\n",
       "      <td>1.390387e+04</td>\n",
       "      <td>0.999618</td>\n",
       "      <td>1.000023</td>\n",
       "      <td>0.999231</td>\n",
       "      <td>...</td>\n",
       "      <td>1.0</td>\n",
       "      <td>306.347595</td>\n",
       "      <td>-0.000013</td>\n",
       "      <td>0.000332</td>\n",
       "      <td>-0.000559</td>\n",
       "      <td>3.775585e-08</td>\n",
       "      <td>1.571021</td>\n",
       "      <td>298.853386</td>\n",
       "      <td>-228.918219</td>\n",
       "      <td>2.358888e+04</td>\n",
       "    </tr>\n",
       "    <tr>\n",
       "      <th>...</th>\n",
       "      <td>...</td>\n",
       "      <td>...</td>\n",
       "      <td>...</td>\n",
       "      <td>...</td>\n",
       "      <td>...</td>\n",
       "      <td>...</td>\n",
       "      <td>...</td>\n",
       "      <td>...</td>\n",
       "      <td>...</td>\n",
       "      <td>...</td>\n",
       "      <td>...</td>\n",
       "      <td>...</td>\n",
       "      <td>...</td>\n",
       "      <td>...</td>\n",
       "      <td>...</td>\n",
       "      <td>...</td>\n",
       "      <td>...</td>\n",
       "      <td>...</td>\n",
       "      <td>...</td>\n",
       "      <td>...</td>\n",
       "      <td>...</td>\n",
       "    </tr>\n",
       "    <tr>\n",
       "      <th>428908</th>\n",
       "      <td>99</td>\n",
       "      <td>32751</td>\n",
       "      <td>48894</td>\n",
       "      <td>474.699029</td>\n",
       "      <td>2919</td>\n",
       "      <td>1</td>\n",
       "      <td>2.852014e+05</td>\n",
       "      <td>1.000635</td>\n",
       "      <td>1.001145</td>\n",
       "      <td>0.999631</td>\n",
       "      <td>...</td>\n",
       "      <td>1.0</td>\n",
       "      <td>69.406723</td>\n",
       "      <td>0.000003</td>\n",
       "      <td>0.000326</td>\n",
       "      <td>-0.000235</td>\n",
       "      <td>1.282320e-08</td>\n",
       "      <td>-8.250927</td>\n",
       "      <td>2620.126893</td>\n",
       "      <td>-2843.308061</td>\n",
       "      <td>4.971280e+05</td>\n",
       "    </tr>\n",
       "    <tr>\n",
       "      <th>428909</th>\n",
       "      <td>99</td>\n",
       "      <td>32753</td>\n",
       "      <td>48635</td>\n",
       "      <td>528.641304</td>\n",
       "      <td>4220</td>\n",
       "      <td>1</td>\n",
       "      <td>5.152063e+05</td>\n",
       "      <td>1.000694</td>\n",
       "      <td>1.002271</td>\n",
       "      <td>0.999602</td>\n",
       "      <td>...</td>\n",
       "      <td>1.0</td>\n",
       "      <td>66.941376</td>\n",
       "      <td>0.000003</td>\n",
       "      <td>0.000738</td>\n",
       "      <td>-0.000283</td>\n",
       "      <td>2.596360e-08</td>\n",
       "      <td>3.188549</td>\n",
       "      <td>4111.640220</td>\n",
       "      <td>-3177.923767</td>\n",
       "      <td>9.122206e+05</td>\n",
       "    </tr>\n",
       "    <tr>\n",
       "      <th>428910</th>\n",
       "      <td>99</td>\n",
       "      <td>32758</td>\n",
       "      <td>50438</td>\n",
       "      <td>600.452381</td>\n",
       "      <td>9432</td>\n",
       "      <td>1</td>\n",
       "      <td>1.387562e+06</td>\n",
       "      <td>0.998246</td>\n",
       "      <td>0.999918</td>\n",
       "      <td>0.997636</td>\n",
       "      <td>...</td>\n",
       "      <td>1.0</td>\n",
       "      <td>48.360275</td>\n",
       "      <td>-0.000028</td>\n",
       "      <td>0.000326</td>\n",
       "      <td>-0.000326</td>\n",
       "      <td>2.315047e-08</td>\n",
       "      <td>26.500700</td>\n",
       "      <td>9312.929113</td>\n",
       "      <td>-8123.434905</td>\n",
       "      <td>2.660668e+06</td>\n",
       "    </tr>\n",
       "    <tr>\n",
       "      <th>428911</th>\n",
       "      <td>99</td>\n",
       "      <td>32763</td>\n",
       "      <td>47020</td>\n",
       "      <td>283.253012</td>\n",
       "      <td>2914</td>\n",
       "      <td>1</td>\n",
       "      <td>1.389043e+05</td>\n",
       "      <td>0.998905</td>\n",
       "      <td>0.999938</td>\n",
       "      <td>0.998192</td>\n",
       "      <td>...</td>\n",
       "      <td>1.0</td>\n",
       "      <td>9.669473</td>\n",
       "      <td>-0.000005</td>\n",
       "      <td>0.000324</td>\n",
       "      <td>-0.000428</td>\n",
       "      <td>1.920218e-08</td>\n",
       "      <td>-0.539424</td>\n",
       "      <td>2311.827872</td>\n",
       "      <td>-2712.502860</td>\n",
       "      <td>2.859345e+05</td>\n",
       "    </tr>\n",
       "    <tr>\n",
       "      <th>428912</th>\n",
       "      <td>99</td>\n",
       "      <td>32767</td>\n",
       "      <td>18785</td>\n",
       "      <td>213.465909</td>\n",
       "      <td>907</td>\n",
       "      <td>1</td>\n",
       "      <td>3.925664e+04</td>\n",
       "      <td>0.999532</td>\n",
       "      <td>0.999932</td>\n",
       "      <td>0.999121</td>\n",
       "      <td>...</td>\n",
       "      <td>1.0</td>\n",
       "      <td>43.481159</td>\n",
       "      <td>-0.000002</td>\n",
       "      <td>0.000271</td>\n",
       "      <td>-0.000256</td>\n",
       "      <td>1.047207e-08</td>\n",
       "      <td>-0.000622</td>\n",
       "      <td>838.483951</td>\n",
       "      <td>-510.771572</td>\n",
       "      <td>6.830067e+04</td>\n",
       "    </tr>\n",
       "  </tbody>\n",
       "</table>\n",
       "<p>428913 rows × 38 columns</p>\n",
       "</div>"
      ],
      "text/plain": [
       "        stock_id  time_id  total_size   mean_size  max_size  min_size  \\\n",
       "0              0        5        3179   79.475000       499         1   \n",
       "1              0       11        1289   42.966667       280         1   \n",
       "2              0       16        2161   86.440000       391         1   \n",
       "3              0       31        1962  130.800000       450         5   \n",
       "4              0       62        1791   81.409091       341         1   \n",
       "...          ...      ...         ...         ...       ...       ...   \n",
       "428908        99    32751       48894  474.699029      2919         1   \n",
       "428909        99    32753       48635  528.641304      4220         1   \n",
       "428910        99    32758       50438  600.452381      9432         1   \n",
       "428911        99    32763       47020  283.253012      2914         1   \n",
       "428912        99    32767       18785  213.465909       907         1   \n",
       "\n",
       "            var_size  mean_price  max_price  min_price  ...  min_diff_sec  \\\n",
       "0       1.401267e+04    1.003722   1.004680   1.002301  ...           1.0   \n",
       "1       6.055206e+03    1.000206   1.000828   0.999724  ...           1.0   \n",
       "2       1.290201e+04    0.999204   1.000455   0.997391  ...           1.0   \n",
       "3       2.097531e+04    0.999020   1.000231   0.997972  ...           1.0   \n",
       "4       1.390387e+04    0.999618   1.000023   0.999231  ...           1.0   \n",
       "...              ...         ...        ...        ...  ...           ...   \n",
       "428908  2.852014e+05    1.000635   1.001145   0.999631  ...           1.0   \n",
       "428909  5.152063e+05    1.000694   1.002271   0.999602  ...           1.0   \n",
       "428910  1.387562e+06    0.998246   0.999918   0.997636  ...           1.0   \n",
       "428911  1.389043e+05    0.998905   0.999938   0.998192  ...           1.0   \n",
       "428912  3.925664e+04    0.999532   0.999932   0.999121  ...           1.0   \n",
       "\n",
       "        var_diff_sec  mean_diff_price  max_diff_price  min_diff_price  \\\n",
       "0         160.307678         0.000034        0.000613       -0.000724   \n",
       "1         215.541870         0.000028        0.000402       -0.000251   \n",
       "2         375.652222        -0.000106        0.000862       -0.000640   \n",
       "3        1065.148315        -0.000161        0.000545       -0.000879   \n",
       "4         306.347595        -0.000013        0.000332       -0.000559   \n",
       "...              ...              ...             ...             ...   \n",
       "428908     69.406723         0.000003        0.000326       -0.000235   \n",
       "428909     66.941376         0.000003        0.000738       -0.000283   \n",
       "428910     48.360275        -0.000028        0.000326       -0.000326   \n",
       "428911      9.669473        -0.000005        0.000324       -0.000428   \n",
       "428912     43.481159        -0.000002        0.000271       -0.000256   \n",
       "\n",
       "        var_diff_price  mean_diff_volume  max_diff_volume  min_diff_volume  \\\n",
       "0         1.054531e-07         -7.709114       499.589769      -492.564661   \n",
       "1         2.819224e-08          7.038952       279.019784      -277.019082   \n",
       "2         1.553238e-07          8.230635       377.456030      -380.461510   \n",
       "3         1.589643e-07         31.148895       390.204915      -367.523144   \n",
       "4         3.775585e-08          1.571021       298.853386      -228.918219   \n",
       "...                ...               ...              ...              ...   \n",
       "428908    1.282320e-08         -8.250927      2620.126893     -2843.308061   \n",
       "428909    2.596360e-08          3.188549      4111.640220     -3177.923767   \n",
       "428910    2.315047e-08         26.500700      9312.929113     -8123.434905   \n",
       "428911    1.920218e-08         -0.539424      2311.827872     -2712.502860   \n",
       "428912    1.047207e-08         -0.000622       838.483951      -510.771572   \n",
       "\n",
       "        var_diff_volume  \n",
       "0          3.302527e+04  \n",
       "1          1.293559e+04  \n",
       "2          3.106486e+04  \n",
       "3          3.385188e+04  \n",
       "4          2.358888e+04  \n",
       "...                 ...  \n",
       "428908     4.971280e+05  \n",
       "428909     9.122206e+05  \n",
       "428910     2.660668e+06  \n",
       "428911     2.859345e+05  \n",
       "428912     6.830067e+04  \n",
       "\n",
       "[428913 rows x 38 columns]"
      ]
     },
     "execution_count": 205,
     "metadata": {},
     "output_type": "execute_result"
    }
   ],
   "source": [
    "df_final"
   ]
  },
  {
   "cell_type": "markdown",
   "id": "b409e1b8",
   "metadata": {},
   "source": [
    "# Compute on all the stocks on the book_set"
   ]
  },
  {
   "cell_type": "code",
   "execution_count": 89,
   "id": "8d3bd7ef",
   "metadata": {
    "scrolled": true
   },
   "outputs": [],
   "source": [
    "df_final2 = pd.DataFrame()\n",
    "for file in book_path:\n",
    "    df_book = pd.DataFrame()\n",
    "    book_train = pd.read_parquet(file)\n",
    "    stockid = file.split('=')[1]\n",
    "    book_train['stock_id'] = stockid\n",
    "    book_train.stock_id = book_train.stock_id.astype(int)\n",
    "    book_train['BidAskSpreadOpt'] = (book_train['ask_price1']/book_train['bid_price1'])-1\n",
    "    book_train['wap'] = ((book_train['bid_price1']*book_train['ask_size1'])+(book_train['ask_price1']*book_train['bid_size1']))/(book_train['bid_size1']+book_train['ask_size1'])\n",
    "    book_train['supply'] = (book_train['ask_price1']*book_train['ask_size1'])+(book_train['ask_price2']*book_train['ask_size2'])\n",
    "    book_train['pot_demand'] = (book_train['bid_price1']*book_train['bid_size1'])+(book_train['bid_price2']*book_train['bid_size2'])\n",
    "    book_train['bid_price1_2'] = book_train['bid_price1'] - book_train['bid_price2']\n",
    "    book_train['ask_price1_2'] = book_train['ask_price1'] - book_train['ask_price2']\n",
    "    book_train['bid_size1_2'] = book_train['bid_size1'] - book_train['bid_size2']\n",
    "    book_train['ask_size1_2'] = book_train['ask_size1'] - book_train['ask_size2']\n",
    "    book_grouped = book_train.groupby(['stock_id','time_id'])\n",
    "    book_train['log_wap'] = np.log(book_train['wap'])\n",
    "    book_train['log_diff'] = book_grouped['log_wap'].diff()\n",
    "    book_train['log_diff'] = book_train['log_diff'].replace(np.NaN,0)\n",
    "    book_train['log_diff^2'] = book_train['log_diff']**2\n",
    "    book_train['bid_diff1'] = book_grouped['bid_price1'].diff()\n",
    "    book_train['bid_diff2'] = book_grouped['bid_price2'].diff()\n",
    "    book_train['ask_diff1'] = book_grouped['ask_price1'].diff()\n",
    "    book_train['ask_diff2'] = book_grouped['ask_price2'].diff()\n",
    "    book_train['bid_size_diff1'] = book_grouped['bid_size1'].diff()\n",
    "    book_train['bid_size_diff2'] = book_grouped['bid_size2'].diff()\n",
    "    book_train['ask_size_diff1'] = book_grouped['ask_size1'].diff()\n",
    "    book_train['ask_size_diff2'] = book_grouped['ask_size2'].diff()\n",
    "    mean_ask_price1 = book_grouped['ask_price1'].mean()\n",
    "    max_ask_price1 = book_grouped['ask_price1'].max()\n",
    "    min_ask_price1 = book_grouped['ask_price1'].min()\n",
    "    var_ask_price1 = book_grouped['ask_price1'].var()\n",
    "    df_book['mean_ask_price1'] = mean_ask_price1\n",
    "    df_book['max_ask_price1'] = max_ask_price1\n",
    "    df_book['min_ask_price1'] = min_ask_price1\n",
    "    df_book['var_ask_price1'] = var_ask_price1\n",
    "    mean_ask_price2 = book_grouped['ask_price2'].mean()\n",
    "    max_ask_price2 = book_grouped['ask_price2'].max()\n",
    "    min_ask_price2 = book_grouped['ask_price2'].min()\n",
    "    var_ask_price2 = book_grouped['ask_price2'].var()\n",
    "    df_book['mean_ask_price2'] = mean_ask_price2\n",
    "    df_book['max_ask_price2'] = max_ask_price2\n",
    "    df_book['min_ask_price2'] = min_ask_price2\n",
    "    df_book['var_ask_price2'] = var_ask_price2\n",
    "    mean_bid_price1 = book_grouped['bid_price1'].mean()\n",
    "    max_bid_price1 = book_grouped['bid_price1'].max()\n",
    "    min_bid_price1 = book_grouped['bid_price1'].min()\n",
    "    var_bid_price1 = book_grouped['bid_price1'].var()\n",
    "    df_book['mean_bid_price1'] = mean_bid_price1\n",
    "    df_book['max_bid_price1'] = max_bid_price1\n",
    "    df_book['min_bid_price1'] = min_bid_price1\n",
    "    df_book['var_bid_price1'] = var_bid_price1\n",
    "    mean_bid_price2 = book_grouped['bid_price2'].mean()\n",
    "    max_bid_price2 = book_grouped['bid_price2'].max()\n",
    "    min_bid_price2 = book_grouped['bid_price2'].min()\n",
    "    var_bid_price2 = book_grouped['bid_price2'].var()\n",
    "    df_book['mean_bid_price2'] = mean_bid_price2\n",
    "    df_book['max_bid_price2'] = max_bid_price2\n",
    "    df_book['min_bid_price2'] = min_bid_price2\n",
    "    df_book['var_bid_price2'] = var_bid_price2\n",
    "    mean_ask_size1 = book_grouped['ask_size1'].mean()\n",
    "    max_ask_size1 = book_grouped['ask_size1'].max()\n",
    "    min_ask_size1 = book_grouped['ask_size1'].min()\n",
    "    var_ask_size1 = book_grouped['ask_size1'].var()\n",
    "    df_book['mean_ask_size1'] = mean_ask_size1\n",
    "    df_book['max_ask_size1'] = max_ask_size1\n",
    "    df_book['min_ask_size1'] = min_ask_size1\n",
    "    df_book['var_ask_size1'] = var_ask_size1\n",
    "    mean_ask_size2 = book_grouped['ask_size2'].mean()\n",
    "    max_ask_size2 = book_grouped['ask_size2'].max()\n",
    "    min_ask_size2 = book_grouped['ask_size2'].min()\n",
    "    var_ask_size2 = book_grouped['ask_size2'].var()\n",
    "    df_book['mean_ask_size2'] = mean_ask_size2\n",
    "    df_book['max_ask_size2'] = max_ask_size2\n",
    "    df_book['min_ask_size2'] = min_ask_size2\n",
    "    df_book['var_ask_size2'] = var_ask_size2\n",
    "    mean_bid_size1 = book_grouped['bid_size1'].mean()\n",
    "    max_bid_size1 = book_grouped['bid_size1'].max()\n",
    "    min_bid_size1 = book_grouped['bid_size1'].min()\n",
    "    var_bid_size1 = book_grouped['bid_size1'].var()\n",
    "    df_book['mean_bid_size1'] = mean_bid_size1\n",
    "    df_book['max_bid_size1'] = max_bid_size1\n",
    "    df_book['min_bid_size1'] = min_bid_size1\n",
    "    df_book['var_bid_size1'] = var_bid_size1\n",
    "    mean_bid_size2 = book_grouped['bid_size2'].mean()\n",
    "    max_bid_size2 = book_grouped['bid_size2'].max()\n",
    "    min_bid_size2 = book_grouped['bid_size2'].min()\n",
    "    var_bid_size2 = book_grouped['bid_size2'].var()\n",
    "    df_book['mean_bid_size2'] = mean_bid_size2\n",
    "    df_book['max_bid_size2'] = max_bid_size2\n",
    "    df_book['min_bid_size2'] = min_bid_size2\n",
    "    df_book['var_bid_size2'] = var_bid_size2\n",
    "    mean_supply = book_grouped['supply'].mean()\n",
    "    max_supply = book_grouped['supply'].max()\n",
    "    min_supply = book_grouped['supply'].min()\n",
    "    var_supply = book_grouped['supply'].var()\n",
    "    df_book['mean_supply'] = mean_supply\n",
    "    df_book['max_supply'] = max_supply\n",
    "    df_book['min_supply'] = min_supply\n",
    "    df_book['var_supply'] = var_supply\n",
    "    mean_pot_demand = book_grouped['pot_demand'].mean()\n",
    "    max_pot_demand = book_grouped['pot_demand'].max()\n",
    "    min_pot_demand = book_grouped['pot_demand'].min()\n",
    "    var_pot_demand = book_grouped['pot_demand'].var()\n",
    "    df_book['mean_pot_demand'] = mean_pot_demand\n",
    "    df_book['max_pot_demand'] = max_pot_demand\n",
    "    df_book['min_pot_demand'] = min_pot_demand\n",
    "    df_book['var_pot_demand'] = var_pot_demand\n",
    "    mean_bid_price1_2 = book_grouped['bid_price1_2'].mean()\n",
    "    max_bid_price1_2 = book_grouped['bid_price1_2'].max()\n",
    "    min_bid_price1_2 = book_grouped['bid_price1_2'].min()\n",
    "    var_bid_price1_2 = book_grouped['bid_price1_2'].var()\n",
    "    df_book['mean_bid_price1_2'] = mean_bid_price1_2\n",
    "    df_book['max_bid_price1_2'] = max_bid_price1_2\n",
    "    df_book['min_bid_price1_2'] = min_bid_price1_2\n",
    "    df_book['var_bid_price1_2'] = var_bid_price1_2\n",
    "    mean_ask_price1_2 = book_grouped['ask_price1_2'].mean()\n",
    "    max_ask_price1_2 = book_grouped['ask_price1_2'].max()\n",
    "    min_ask_price1_2 = book_grouped['ask_price1_2'].min()\n",
    "    var_ask_price1_2 = book_grouped['ask_price1_2'].var()\n",
    "    df_book['mean_ask_price1_2'] = mean_ask_price1_2\n",
    "    df_book['max_ask_price1_2'] = max_ask_price1_2\n",
    "    df_book['min_ask_price1_2'] = min_ask_price1_2\n",
    "    df_book['var_ask_price1_2'] = var_ask_price1_2\n",
    "    mean_bid_size1_2 = book_grouped['bid_size1_2'].mean()\n",
    "    max_bid_size1_2 = book_grouped['bid_size1_2'].max()\n",
    "    min_bid_size1_2 = book_grouped['bid_size1_2'].min()\n",
    "    var_bid_size1_2 = book_grouped['bid_size1_2'].var()\n",
    "    df_book['mean_bid_size1_2'] = mean_bid_size1_2\n",
    "    df_book['max_bid_size1_2'] = max_bid_size1_2\n",
    "    df_book['min_bid_size1_2'] = min_bid_size1_2\n",
    "    df_book['var_bid_size1_2'] = var_bid_size1_2\n",
    "    mean_ask_size1_2 = book_grouped['ask_size1_2'].mean()\n",
    "    max_ask_size1_2 = book_grouped['ask_size1_2'].max()\n",
    "    min_ask_size1_2 = book_grouped['ask_size1_2'].min()\n",
    "    var_ask_size1_2 = book_grouped['ask_size1_2'].var()\n",
    "    df_book['mean_ask_size1_2'] = mean_ask_size1_2\n",
    "    df_book['max_ask_size1_2'] = max_ask_size1_2\n",
    "    df_book['min_ask_size1_2'] = min_ask_size1_2\n",
    "    df_book['var_ask_size1_2'] = var_ask_size1_2\n",
    "    mean_BidAskSpreadOpt = book_grouped['BidAskSpreadOpt'].mean()\n",
    "    max_BidAskSpreadOpt = book_grouped['BidAskSpreadOpt'].max()\n",
    "    min_BidAskSpreadOpt = book_grouped['BidAskSpreadOpt'].min()\n",
    "    var_BidAskSpreadOpt = book_grouped['BidAskSpreadOpt'].var()\n",
    "    df_book['mean_BidAskSpreadOpt'] = mean_BidAskSpreadOpt\n",
    "    df_book['max_BidAskSpreadOpt'] = max_BidAskSpreadOpt\n",
    "    df_book['min_BidAskSpreadOpt'] = min_BidAskSpreadOpt\n",
    "    df_book['var_BidAskSpreadOpt'] = var_BidAskSpreadOpt\n",
    "    mean_wap = book_grouped['wap'].mean()\n",
    "    max_wap = book_grouped['wap'].max()\n",
    "    min_wap = book_grouped['wap'].min()\n",
    "    var_wap = book_grouped['wap'].var()\n",
    "    df_book['mean_wap'] = mean_wap\n",
    "    df_book['max_wap'] = max_wap\n",
    "    df_book['min_wap'] = min_wap\n",
    "    df_book['var_wap'] = var_wap\n",
    "    current_realized_volatility = (book_grouped['log_diff^2'].sum())**(0.5)\n",
    "    df_book['current_realized_volatility'] = current_realized_volatility\n",
    "    mean_bid_diff1 = book_grouped['bid_diff1'].mean()\n",
    "    max_bid_diff1 = book_grouped['bid_diff1'].max()\n",
    "    min_bid_diff1 = book_grouped['bid_diff1'].min()\n",
    "    var_bid_diff1 = book_grouped['bid_diff1'].var()\n",
    "    df_book['mean_bid_diff1'] = mean_bid_diff1\n",
    "    df_book['max_bid_diff1'] = max_bid_diff1\n",
    "    df_book['min_bid_diff1'] = min_bid_diff1\n",
    "    df_book['var_bid_diff1'] = var_bid_diff1\n",
    "    mean_bid_diff2 = book_grouped['bid_diff2'].mean()\n",
    "    max_bid_diff2 = book_grouped['bid_diff2'].max()\n",
    "    min_bid_diff2 = book_grouped['bid_diff2'].min()\n",
    "    var_bid_diff2 = book_grouped['bid_diff2'].var()\n",
    "    df_book['mean_bid_diff2'] = mean_bid_diff2\n",
    "    df_book['max_bid_diff2'] = max_bid_diff2\n",
    "    df_book['min_bid_diff2'] = min_bid_diff2\n",
    "    df_book['var_bid_diff2'] = var_bid_diff2\n",
    "    mean_ask_diff1 = book_grouped['ask_diff1'].mean()\n",
    "    max_ask_diff1 = book_grouped['ask_diff1'].max()\n",
    "    min_ask_diff1 = book_grouped['ask_diff1'].min()\n",
    "    var_ask_diff1 = book_grouped['ask_diff1'].var()\n",
    "    df_book['mean_ask_diff1'] = mean_ask_diff1\n",
    "    df_book['max_ask_diff1'] = max_ask_diff1\n",
    "    df_book['min_ask_diff1'] = min_ask_diff1\n",
    "    df_book['var_ask_diff1'] = var_ask_diff1\n",
    "    mean_bid_size_diff1 = book_grouped['bid_size_diff1'].mean()\n",
    "    max_bid_size_diff1 = book_grouped['bid_size_diff1'].max()\n",
    "    min_bid_size_diff1 = book_grouped['bid_size_diff1'].min()\n",
    "    var_bid_size_diff1 = book_grouped['bid_size_diff1'].var()\n",
    "    df_book['mean_bid_size_diff1'] = mean_bid_size_diff1\n",
    "    df_book['max_bid_size_diff1'] = max_bid_size_diff1\n",
    "    df_book['min_bid_size_diff1'] = min_bid_size_diff1\n",
    "    df_book['var_bid_size_diff1'] = var_bid_size_diff1\n",
    "    mean_bid_size_diff2 = book_grouped['bid_size_diff2'].mean()\n",
    "    max_bid_size_diff2 = book_grouped['bid_size_diff2'].max()\n",
    "    min_bid_size_diff2 = book_grouped['bid_size_diff2'].min()\n",
    "    var_bid_size_diff2 = book_grouped['bid_size_diff2'].var()\n",
    "    df_book['mean_bid_size_diff2'] = mean_bid_size_diff2\n",
    "    df_book['max_bid_size_diff2'] = max_bid_size_diff2\n",
    "    df_book['min_bid_size_diff2'] = min_bid_size_diff2\n",
    "    df_book['var_bid_size_diff2'] = var_bid_size_diff2\n",
    "    mean_ask_size_diff1 = book_grouped['ask_size_diff1'].mean()\n",
    "    max_ask_size_diff1 = book_grouped['ask_size_diff1'].max()\n",
    "    min_ask_size_diff1 = book_grouped['ask_size_diff1'].min()\n",
    "    var_ask_size_diff1 = book_grouped['ask_size_diff1'].var()\n",
    "    df_book['mean_ask_size_diff1'] = mean_ask_size_diff1\n",
    "    df_book['max_ask_size_diff1'] = max_ask_size_diff1\n",
    "    df_book['min_ask_size_diff1'] = min_ask_size_diff1\n",
    "    df_book['var_ask_size_diff1'] = var_ask_size_diff1\n",
    "    mean_ask_size_diff2 = book_grouped['ask_size_diff2'].mean()\n",
    "    max_ask_size_diff2 = book_grouped['ask_size_diff2'].max()\n",
    "    min_ask_size_diff2 = book_grouped['ask_size_diff2'].min()\n",
    "    var_ask_size_diff2 = book_grouped['ask_size_diff2'].var()\n",
    "    df_book['mean_ask_size_diff2'] = mean_ask_size_diff2\n",
    "    df_book['max_ask_size_diff2'] = max_ask_size_diff2\n",
    "    df_book['min_ask_size_diff2'] = min_ask_size_diff2\n",
    "    df_book['var_ask_size_diff2'] = var_ask_size_diff2\n",
    "    df_book = df_book.reset_index()\n",
    "    df_final2 = pd.concat([df_final2,df_book],ignore_index = True)"
   ]
  },
  {
   "cell_type": "code",
   "execution_count": 206,
   "id": "523f75ae",
   "metadata": {},
   "outputs": [
    {
     "data": {
      "text/html": [
       "<div>\n",
       "<style scoped>\n",
       "    .dataframe tbody tr th:only-of-type {\n",
       "        vertical-align: middle;\n",
       "    }\n",
       "\n",
       "    .dataframe tbody tr th {\n",
       "        vertical-align: top;\n",
       "    }\n",
       "\n",
       "    .dataframe thead th {\n",
       "        text-align: right;\n",
       "    }\n",
       "</style>\n",
       "<table border=\"1\" class=\"dataframe\">\n",
       "  <thead>\n",
       "    <tr style=\"text-align: right;\">\n",
       "      <th></th>\n",
       "      <th>stock_id</th>\n",
       "      <th>time_id</th>\n",
       "      <th>mean_ask_price1</th>\n",
       "      <th>max_ask_price1</th>\n",
       "      <th>min_ask_price1</th>\n",
       "      <th>var_ask_price1</th>\n",
       "      <th>mean_ask_price2</th>\n",
       "      <th>max_ask_price2</th>\n",
       "      <th>min_ask_price2</th>\n",
       "      <th>var_ask_price2</th>\n",
       "      <th>...</th>\n",
       "      <th>min_bid_size_diff2</th>\n",
       "      <th>var_bid_size_diff2</th>\n",
       "      <th>mean_ask_size_diff1</th>\n",
       "      <th>max_ask_size_diff1</th>\n",
       "      <th>min_ask_size_diff1</th>\n",
       "      <th>var_ask_size_diff1</th>\n",
       "      <th>mean_ask_size_diff2</th>\n",
       "      <th>max_ask_size_diff2</th>\n",
       "      <th>min_ask_size_diff2</th>\n",
       "      <th>var_ask_size_diff2</th>\n",
       "    </tr>\n",
       "  </thead>\n",
       "  <tbody>\n",
       "    <tr>\n",
       "      <th>0</th>\n",
       "      <td>0</td>\n",
       "      <td>5</td>\n",
       "      <td>1.004169</td>\n",
       "      <td>1.004939</td>\n",
       "      <td>1.002301</td>\n",
       "      <td>3.610958e-07</td>\n",
       "      <td>1.004320</td>\n",
       "      <td>1.005146</td>\n",
       "      <td>1.002353</td>\n",
       "      <td>3.648653e-07</td>\n",
       "      <td>...</td>\n",
       "      <td>-381.0</td>\n",
       "      <td>7605.533621</td>\n",
       "      <td>-0.740864</td>\n",
       "      <td>201.0</td>\n",
       "      <td>-202.0</td>\n",
       "      <td>2631.219291</td>\n",
       "      <td>-0.322259</td>\n",
       "      <td>201.0</td>\n",
       "      <td>-229.0</td>\n",
       "      <td>3344.705803</td>\n",
       "    </tr>\n",
       "    <tr>\n",
       "      <th>1</th>\n",
       "      <td>0</td>\n",
       "      <td>11</td>\n",
       "      <td>1.000406</td>\n",
       "      <td>1.000878</td>\n",
       "      <td>0.999975</td>\n",
       "      <td>4.784088e-08</td>\n",
       "      <td>1.000540</td>\n",
       "      <td>1.001179</td>\n",
       "      <td>1.000176</td>\n",
       "      <td>4.709667e-08</td>\n",
       "      <td>...</td>\n",
       "      <td>-340.0</td>\n",
       "      <td>6069.564388</td>\n",
       "      <td>-0.341709</td>\n",
       "      <td>220.0</td>\n",
       "      <td>-254.0</td>\n",
       "      <td>2807.710928</td>\n",
       "      <td>0.110553</td>\n",
       "      <td>334.0</td>\n",
       "      <td>-377.0</td>\n",
       "      <td>4535.563474</td>\n",
       "    </tr>\n",
       "    <tr>\n",
       "      <th>2</th>\n",
       "      <td>0</td>\n",
       "      <td>16</td>\n",
       "      <td>0.999929</td>\n",
       "      <td>1.000886</td>\n",
       "      <td>0.997678</td>\n",
       "      <td>6.205184e-07</td>\n",
       "      <td>1.000127</td>\n",
       "      <td>1.000981</td>\n",
       "      <td>0.997966</td>\n",
       "      <td>6.152683e-07</td>\n",
       "      <td>...</td>\n",
       "      <td>-230.0</td>\n",
       "      <td>3990.222644</td>\n",
       "      <td>0.053476</td>\n",
       "      <td>200.0</td>\n",
       "      <td>-201.0</td>\n",
       "      <td>3451.040136</td>\n",
       "      <td>-1.598930</td>\n",
       "      <td>280.0</td>\n",
       "      <td>-200.0</td>\n",
       "      <td>4448.026450</td>\n",
       "    </tr>\n",
       "    <tr>\n",
       "      <th>3</th>\n",
       "      <td>0</td>\n",
       "      <td>31</td>\n",
       "      <td>0.999304</td>\n",
       "      <td>1.000509</td>\n",
       "      <td>0.998519</td>\n",
       "      <td>3.223572e-07</td>\n",
       "      <td>0.999413</td>\n",
       "      <td>1.000601</td>\n",
       "      <td>0.998566</td>\n",
       "      <td>3.221502e-07</td>\n",
       "      <td>...</td>\n",
       "      <td>-187.0</td>\n",
       "      <td>3472.024783</td>\n",
       "      <td>0.840336</td>\n",
       "      <td>300.0</td>\n",
       "      <td>-240.0</td>\n",
       "      <td>4246.931919</td>\n",
       "      <td>-1.512605</td>\n",
       "      <td>238.0</td>\n",
       "      <td>-286.0</td>\n",
       "      <td>5473.014670</td>\n",
       "    </tr>\n",
       "    <tr>\n",
       "      <th>4</th>\n",
       "      <td>0</td>\n",
       "      <td>62</td>\n",
       "      <td>0.999804</td>\n",
       "      <td>1.000210</td>\n",
       "      <td>0.999464</td>\n",
       "      <td>3.653628e-08</td>\n",
       "      <td>0.999913</td>\n",
       "      <td>1.000303</td>\n",
       "      <td>0.999557</td>\n",
       "      <td>3.837072e-08</td>\n",
       "      <td>...</td>\n",
       "      <td>-299.0</td>\n",
       "      <td>4961.529589</td>\n",
       "      <td>0.040000</td>\n",
       "      <td>294.0</td>\n",
       "      <td>-330.0</td>\n",
       "      <td>3745.797241</td>\n",
       "      <td>-0.022857</td>\n",
       "      <td>282.0</td>\n",
       "      <td>-396.0</td>\n",
       "      <td>5126.137406</td>\n",
       "    </tr>\n",
       "    <tr>\n",
       "      <th>...</th>\n",
       "      <td>...</td>\n",
       "      <td>...</td>\n",
       "      <td>...</td>\n",
       "      <td>...</td>\n",
       "      <td>...</td>\n",
       "      <td>...</td>\n",
       "      <td>...</td>\n",
       "      <td>...</td>\n",
       "      <td>...</td>\n",
       "      <td>...</td>\n",
       "      <td>...</td>\n",
       "      <td>...</td>\n",
       "      <td>...</td>\n",
       "      <td>...</td>\n",
       "      <td>...</td>\n",
       "      <td>...</td>\n",
       "      <td>...</td>\n",
       "      <td>...</td>\n",
       "      <td>...</td>\n",
       "      <td>...</td>\n",
       "      <td>...</td>\n",
       "    </tr>\n",
       "    <tr>\n",
       "      <th>428927</th>\n",
       "      <td>99</td>\n",
       "      <td>32751</td>\n",
       "      <td>1.000716</td>\n",
       "      <td>1.001403</td>\n",
       "      <td>0.999778</td>\n",
       "      <td>1.983192e-07</td>\n",
       "      <td>1.000864</td>\n",
       "      <td>1.001551</td>\n",
       "      <td>0.999926</td>\n",
       "      <td>1.983056e-07</td>\n",
       "      <td>...</td>\n",
       "      <td>-1900.0</td>\n",
       "      <td>45272.198135</td>\n",
       "      <td>-0.577869</td>\n",
       "      <td>1211.0</td>\n",
       "      <td>-1305.0</td>\n",
       "      <td>48348.967230</td>\n",
       "      <td>-0.272541</td>\n",
       "      <td>842.0</td>\n",
       "      <td>-768.0</td>\n",
       "      <td>25471.939943</td>\n",
       "    </tr>\n",
       "    <tr>\n",
       "      <th>428928</th>\n",
       "      <td>99</td>\n",
       "      <td>32753</td>\n",
       "      <td>1.000651</td>\n",
       "      <td>1.002213</td>\n",
       "      <td>0.999771</td>\n",
       "      <td>4.257534e-07</td>\n",
       "      <td>1.000803</td>\n",
       "      <td>1.002365</td>\n",
       "      <td>0.999924</td>\n",
       "      <td>4.257664e-07</td>\n",
       "      <td>...</td>\n",
       "      <td>-424.0</td>\n",
       "      <td>8770.323966</td>\n",
       "      <td>1.005420</td>\n",
       "      <td>1506.0</td>\n",
       "      <td>-1812.0</td>\n",
       "      <td>88184.190188</td>\n",
       "      <td>-3.249322</td>\n",
       "      <td>1436.0</td>\n",
       "      <td>-1166.0</td>\n",
       "      <td>50582.502887</td>\n",
       "    </tr>\n",
       "    <tr>\n",
       "      <th>428929</th>\n",
       "      <td>99</td>\n",
       "      <td>32758</td>\n",
       "      <td>0.998445</td>\n",
       "      <td>1.000082</td>\n",
       "      <td>0.997636</td>\n",
       "      <td>4.119201e-07</td>\n",
       "      <td>0.998608</td>\n",
       "      <td>1.000245</td>\n",
       "      <td>0.997799</td>\n",
       "      <td>4.119375e-07</td>\n",
       "      <td>...</td>\n",
       "      <td>-9366.0</td>\n",
       "      <td>815561.055218</td>\n",
       "      <td>-0.798403</td>\n",
       "      <td>3801.0</td>\n",
       "      <td>-3892.0</td>\n",
       "      <td>201196.957277</td>\n",
       "      <td>0.461078</td>\n",
       "      <td>3764.0</td>\n",
       "      <td>-3665.0</td>\n",
       "      <td>248957.040982</td>\n",
       "    </tr>\n",
       "    <tr>\n",
       "      <th>428930</th>\n",
       "      <td>99</td>\n",
       "      <td>32763</td>\n",
       "      <td>0.999037</td>\n",
       "      <td>1.000062</td>\n",
       "      <td>0.998317</td>\n",
       "      <td>9.769970e-08</td>\n",
       "      <td>0.999170</td>\n",
       "      <td>1.000312</td>\n",
       "      <td>0.998441</td>\n",
       "      <td>1.008347e-07</td>\n",
       "      <td>...</td>\n",
       "      <td>-800.0</td>\n",
       "      <td>32173.641741</td>\n",
       "      <td>0.689109</td>\n",
       "      <td>6673.0</td>\n",
       "      <td>-6323.0</td>\n",
       "      <td>366989.960695</td>\n",
       "      <td>-8.560396</td>\n",
       "      <td>6523.0</td>\n",
       "      <td>-6774.0</td>\n",
       "      <td>606496.484936</td>\n",
       "    </tr>\n",
       "    <tr>\n",
       "      <th>428931</th>\n",
       "      <td>99</td>\n",
       "      <td>32767</td>\n",
       "      <td>0.999659</td>\n",
       "      <td>1.000068</td>\n",
       "      <td>0.999121</td>\n",
       "      <td>4.376257e-08</td>\n",
       "      <td>0.999794</td>\n",
       "      <td>1.000203</td>\n",
       "      <td>0.999256</td>\n",
       "      <td>4.375157e-08</td>\n",
       "      <td>...</td>\n",
       "      <td>-890.0</td>\n",
       "      <td>34879.042292</td>\n",
       "      <td>0.712589</td>\n",
       "      <td>1000.0</td>\n",
       "      <td>-1000.0</td>\n",
       "      <td>57473.229103</td>\n",
       "      <td>-1.121140</td>\n",
       "      <td>1183.0</td>\n",
       "      <td>-800.0</td>\n",
       "      <td>40270.297195</td>\n",
       "    </tr>\n",
       "  </tbody>\n",
       "</table>\n",
       "<p>428932 rows × 95 columns</p>\n",
       "</div>"
      ],
      "text/plain": [
       "        stock_id  time_id  mean_ask_price1  max_ask_price1  min_ask_price1  \\\n",
       "0              0        5         1.004169        1.004939        1.002301   \n",
       "1              0       11         1.000406        1.000878        0.999975   \n",
       "2              0       16         0.999929        1.000886        0.997678   \n",
       "3              0       31         0.999304        1.000509        0.998519   \n",
       "4              0       62         0.999804        1.000210        0.999464   \n",
       "...          ...      ...              ...             ...             ...   \n",
       "428927        99    32751         1.000716        1.001403        0.999778   \n",
       "428928        99    32753         1.000651        1.002213        0.999771   \n",
       "428929        99    32758         0.998445        1.000082        0.997636   \n",
       "428930        99    32763         0.999037        1.000062        0.998317   \n",
       "428931        99    32767         0.999659        1.000068        0.999121   \n",
       "\n",
       "        var_ask_price1  mean_ask_price2  max_ask_price2  min_ask_price2  \\\n",
       "0         3.610958e-07         1.004320        1.005146        1.002353   \n",
       "1         4.784088e-08         1.000540        1.001179        1.000176   \n",
       "2         6.205184e-07         1.000127        1.000981        0.997966   \n",
       "3         3.223572e-07         0.999413        1.000601        0.998566   \n",
       "4         3.653628e-08         0.999913        1.000303        0.999557   \n",
       "...                ...              ...             ...             ...   \n",
       "428927    1.983192e-07         1.000864        1.001551        0.999926   \n",
       "428928    4.257534e-07         1.000803        1.002365        0.999924   \n",
       "428929    4.119201e-07         0.998608        1.000245        0.997799   \n",
       "428930    9.769970e-08         0.999170        1.000312        0.998441   \n",
       "428931    4.376257e-08         0.999794        1.000203        0.999256   \n",
       "\n",
       "        var_ask_price2  ...  min_bid_size_diff2  var_bid_size_diff2  \\\n",
       "0         3.648653e-07  ...              -381.0         7605.533621   \n",
       "1         4.709667e-08  ...              -340.0         6069.564388   \n",
       "2         6.152683e-07  ...              -230.0         3990.222644   \n",
       "3         3.221502e-07  ...              -187.0         3472.024783   \n",
       "4         3.837072e-08  ...              -299.0         4961.529589   \n",
       "...                ...  ...                 ...                 ...   \n",
       "428927    1.983056e-07  ...             -1900.0        45272.198135   \n",
       "428928    4.257664e-07  ...              -424.0         8770.323966   \n",
       "428929    4.119375e-07  ...             -9366.0       815561.055218   \n",
       "428930    1.008347e-07  ...              -800.0        32173.641741   \n",
       "428931    4.375157e-08  ...              -890.0        34879.042292   \n",
       "\n",
       "        mean_ask_size_diff1  max_ask_size_diff1  min_ask_size_diff1  \\\n",
       "0                 -0.740864               201.0              -202.0   \n",
       "1                 -0.341709               220.0              -254.0   \n",
       "2                  0.053476               200.0              -201.0   \n",
       "3                  0.840336               300.0              -240.0   \n",
       "4                  0.040000               294.0              -330.0   \n",
       "...                     ...                 ...                 ...   \n",
       "428927            -0.577869              1211.0             -1305.0   \n",
       "428928             1.005420              1506.0             -1812.0   \n",
       "428929            -0.798403              3801.0             -3892.0   \n",
       "428930             0.689109              6673.0             -6323.0   \n",
       "428931             0.712589              1000.0             -1000.0   \n",
       "\n",
       "        var_ask_size_diff1  mean_ask_size_diff2  max_ask_size_diff2  \\\n",
       "0              2631.219291            -0.322259               201.0   \n",
       "1              2807.710928             0.110553               334.0   \n",
       "2              3451.040136            -1.598930               280.0   \n",
       "3              4246.931919            -1.512605               238.0   \n",
       "4              3745.797241            -0.022857               282.0   \n",
       "...                    ...                  ...                 ...   \n",
       "428927        48348.967230            -0.272541               842.0   \n",
       "428928        88184.190188            -3.249322              1436.0   \n",
       "428929       201196.957277             0.461078              3764.0   \n",
       "428930       366989.960695            -8.560396              6523.0   \n",
       "428931        57473.229103            -1.121140              1183.0   \n",
       "\n",
       "        min_ask_size_diff2  var_ask_size_diff2  \n",
       "0                   -229.0         3344.705803  \n",
       "1                   -377.0         4535.563474  \n",
       "2                   -200.0         4448.026450  \n",
       "3                   -286.0         5473.014670  \n",
       "4                   -396.0         5126.137406  \n",
       "...                    ...                 ...  \n",
       "428927              -768.0        25471.939943  \n",
       "428928             -1166.0        50582.502887  \n",
       "428929             -3665.0       248957.040982  \n",
       "428930             -6774.0       606496.484936  \n",
       "428931              -800.0        40270.297195  \n",
       "\n",
       "[428932 rows x 95 columns]"
      ]
     },
     "execution_count": 206,
     "metadata": {},
     "output_type": "execute_result"
    }
   ],
   "source": [
    "df_final2"
   ]
  },
  {
   "cell_type": "markdown",
   "id": "f9263926",
   "metadata": {},
   "source": [
    "Merge"
   ]
  },
  {
   "cell_type": "code",
   "execution_count": 207,
   "id": "1e02a17d",
   "metadata": {},
   "outputs": [],
   "source": [
    "df_train = df_final.merge(df_final2,on = ['stock_id','time_id'],how = 'left')"
   ]
  },
  {
   "cell_type": "code",
   "execution_count": 208,
   "id": "d06aa3fc",
   "metadata": {},
   "outputs": [],
   "source": [
    "df_train.to_csv('final_df_train.csv',index = False)"
   ]
  },
  {
   "cell_type": "markdown",
   "id": "52cb02b0",
   "metadata": {},
   "source": [
    "Import"
   ]
  },
  {
   "cell_type": "code",
   "execution_count": 73,
   "id": "4687de60",
   "metadata": {
    "scrolled": true
   },
   "outputs": [],
   "source": [
    "df_train = pd.read_csv('final_df_train.csv')"
   ]
  },
  {
   "cell_type": "code",
   "execution_count": 74,
   "id": "97632d31",
   "metadata": {},
   "outputs": [
    {
     "data": {
      "text/html": [
       "<div>\n",
       "<style scoped>\n",
       "    .dataframe tbody tr th:only-of-type {\n",
       "        vertical-align: middle;\n",
       "    }\n",
       "\n",
       "    .dataframe tbody tr th {\n",
       "        vertical-align: top;\n",
       "    }\n",
       "\n",
       "    .dataframe thead th {\n",
       "        text-align: right;\n",
       "    }\n",
       "</style>\n",
       "<table border=\"1\" class=\"dataframe\">\n",
       "  <thead>\n",
       "    <tr style=\"text-align: right;\">\n",
       "      <th></th>\n",
       "      <th>stock_id</th>\n",
       "      <th>time_id</th>\n",
       "      <th>total_size</th>\n",
       "      <th>mean_size</th>\n",
       "      <th>max_size</th>\n",
       "      <th>min_size</th>\n",
       "      <th>var_size</th>\n",
       "      <th>mean_price</th>\n",
       "      <th>max_price</th>\n",
       "      <th>min_price</th>\n",
       "      <th>...</th>\n",
       "      <th>min_bid_size_diff2</th>\n",
       "      <th>var_bid_size_diff2</th>\n",
       "      <th>mean_ask_size_diff1</th>\n",
       "      <th>max_ask_size_diff1</th>\n",
       "      <th>min_ask_size_diff1</th>\n",
       "      <th>var_ask_size_diff1</th>\n",
       "      <th>mean_ask_size_diff2</th>\n",
       "      <th>max_ask_size_diff2</th>\n",
       "      <th>min_ask_size_diff2</th>\n",
       "      <th>var_ask_size_diff2</th>\n",
       "    </tr>\n",
       "  </thead>\n",
       "  <tbody>\n",
       "    <tr>\n",
       "      <th>0</th>\n",
       "      <td>0</td>\n",
       "      <td>5</td>\n",
       "      <td>3179</td>\n",
       "      <td>79.475000</td>\n",
       "      <td>499</td>\n",
       "      <td>1</td>\n",
       "      <td>1.401267e+04</td>\n",
       "      <td>1.003722</td>\n",
       "      <td>1.004680</td>\n",
       "      <td>1.002301</td>\n",
       "      <td>...</td>\n",
       "      <td>-381.0</td>\n",
       "      <td>7605.533621</td>\n",
       "      <td>-0.740864</td>\n",
       "      <td>201.0</td>\n",
       "      <td>-202.0</td>\n",
       "      <td>2631.219291</td>\n",
       "      <td>-0.322259</td>\n",
       "      <td>201.0</td>\n",
       "      <td>-229.0</td>\n",
       "      <td>3344.705803</td>\n",
       "    </tr>\n",
       "    <tr>\n",
       "      <th>1</th>\n",
       "      <td>0</td>\n",
       "      <td>11</td>\n",
       "      <td>1289</td>\n",
       "      <td>42.966667</td>\n",
       "      <td>280</td>\n",
       "      <td>1</td>\n",
       "      <td>6.055206e+03</td>\n",
       "      <td>1.000206</td>\n",
       "      <td>1.000828</td>\n",
       "      <td>0.999724</td>\n",
       "      <td>...</td>\n",
       "      <td>-340.0</td>\n",
       "      <td>6069.564388</td>\n",
       "      <td>-0.341709</td>\n",
       "      <td>220.0</td>\n",
       "      <td>-254.0</td>\n",
       "      <td>2807.710928</td>\n",
       "      <td>0.110553</td>\n",
       "      <td>334.0</td>\n",
       "      <td>-377.0</td>\n",
       "      <td>4535.563474</td>\n",
       "    </tr>\n",
       "    <tr>\n",
       "      <th>2</th>\n",
       "      <td>0</td>\n",
       "      <td>16</td>\n",
       "      <td>2161</td>\n",
       "      <td>86.440000</td>\n",
       "      <td>391</td>\n",
       "      <td>1</td>\n",
       "      <td>1.290201e+04</td>\n",
       "      <td>0.999204</td>\n",
       "      <td>1.000455</td>\n",
       "      <td>0.997391</td>\n",
       "      <td>...</td>\n",
       "      <td>-230.0</td>\n",
       "      <td>3990.222644</td>\n",
       "      <td>0.053476</td>\n",
       "      <td>200.0</td>\n",
       "      <td>-201.0</td>\n",
       "      <td>3451.040136</td>\n",
       "      <td>-1.598930</td>\n",
       "      <td>280.0</td>\n",
       "      <td>-200.0</td>\n",
       "      <td>4448.026450</td>\n",
       "    </tr>\n",
       "    <tr>\n",
       "      <th>3</th>\n",
       "      <td>0</td>\n",
       "      <td>31</td>\n",
       "      <td>1962</td>\n",
       "      <td>130.800000</td>\n",
       "      <td>450</td>\n",
       "      <td>5</td>\n",
       "      <td>2.097531e+04</td>\n",
       "      <td>0.999020</td>\n",
       "      <td>1.000231</td>\n",
       "      <td>0.997972</td>\n",
       "      <td>...</td>\n",
       "      <td>-187.0</td>\n",
       "      <td>3472.024783</td>\n",
       "      <td>0.840336</td>\n",
       "      <td>300.0</td>\n",
       "      <td>-240.0</td>\n",
       "      <td>4246.931919</td>\n",
       "      <td>-1.512605</td>\n",
       "      <td>238.0</td>\n",
       "      <td>-286.0</td>\n",
       "      <td>5473.014670</td>\n",
       "    </tr>\n",
       "    <tr>\n",
       "      <th>4</th>\n",
       "      <td>0</td>\n",
       "      <td>62</td>\n",
       "      <td>1791</td>\n",
       "      <td>81.409091</td>\n",
       "      <td>341</td>\n",
       "      <td>1</td>\n",
       "      <td>1.390387e+04</td>\n",
       "      <td>0.999618</td>\n",
       "      <td>1.000023</td>\n",
       "      <td>0.999231</td>\n",
       "      <td>...</td>\n",
       "      <td>-299.0</td>\n",
       "      <td>4961.529589</td>\n",
       "      <td>0.040000</td>\n",
       "      <td>294.0</td>\n",
       "      <td>-330.0</td>\n",
       "      <td>3745.797241</td>\n",
       "      <td>-0.022857</td>\n",
       "      <td>282.0</td>\n",
       "      <td>-396.0</td>\n",
       "      <td>5126.137406</td>\n",
       "    </tr>\n",
       "    <tr>\n",
       "      <th>...</th>\n",
       "      <td>...</td>\n",
       "      <td>...</td>\n",
       "      <td>...</td>\n",
       "      <td>...</td>\n",
       "      <td>...</td>\n",
       "      <td>...</td>\n",
       "      <td>...</td>\n",
       "      <td>...</td>\n",
       "      <td>...</td>\n",
       "      <td>...</td>\n",
       "      <td>...</td>\n",
       "      <td>...</td>\n",
       "      <td>...</td>\n",
       "      <td>...</td>\n",
       "      <td>...</td>\n",
       "      <td>...</td>\n",
       "      <td>...</td>\n",
       "      <td>...</td>\n",
       "      <td>...</td>\n",
       "      <td>...</td>\n",
       "      <td>...</td>\n",
       "    </tr>\n",
       "    <tr>\n",
       "      <th>428908</th>\n",
       "      <td>99</td>\n",
       "      <td>32751</td>\n",
       "      <td>48894</td>\n",
       "      <td>474.699029</td>\n",
       "      <td>2919</td>\n",
       "      <td>1</td>\n",
       "      <td>2.852014e+05</td>\n",
       "      <td>1.000635</td>\n",
       "      <td>1.001145</td>\n",
       "      <td>0.999631</td>\n",
       "      <td>...</td>\n",
       "      <td>-1900.0</td>\n",
       "      <td>45272.198135</td>\n",
       "      <td>-0.577869</td>\n",
       "      <td>1211.0</td>\n",
       "      <td>-1305.0</td>\n",
       "      <td>48348.967230</td>\n",
       "      <td>-0.272541</td>\n",
       "      <td>842.0</td>\n",
       "      <td>-768.0</td>\n",
       "      <td>25471.939943</td>\n",
       "    </tr>\n",
       "    <tr>\n",
       "      <th>428909</th>\n",
       "      <td>99</td>\n",
       "      <td>32753</td>\n",
       "      <td>48635</td>\n",
       "      <td>528.641304</td>\n",
       "      <td>4220</td>\n",
       "      <td>1</td>\n",
       "      <td>5.152063e+05</td>\n",
       "      <td>1.000694</td>\n",
       "      <td>1.002271</td>\n",
       "      <td>0.999602</td>\n",
       "      <td>...</td>\n",
       "      <td>-424.0</td>\n",
       "      <td>8770.323966</td>\n",
       "      <td>1.005420</td>\n",
       "      <td>1506.0</td>\n",
       "      <td>-1812.0</td>\n",
       "      <td>88184.190188</td>\n",
       "      <td>-3.249322</td>\n",
       "      <td>1436.0</td>\n",
       "      <td>-1166.0</td>\n",
       "      <td>50582.502887</td>\n",
       "    </tr>\n",
       "    <tr>\n",
       "      <th>428910</th>\n",
       "      <td>99</td>\n",
       "      <td>32758</td>\n",
       "      <td>50438</td>\n",
       "      <td>600.452381</td>\n",
       "      <td>9432</td>\n",
       "      <td>1</td>\n",
       "      <td>1.387562e+06</td>\n",
       "      <td>0.998246</td>\n",
       "      <td>0.999918</td>\n",
       "      <td>0.997636</td>\n",
       "      <td>...</td>\n",
       "      <td>-9366.0</td>\n",
       "      <td>815561.055218</td>\n",
       "      <td>-0.798403</td>\n",
       "      <td>3801.0</td>\n",
       "      <td>-3892.0</td>\n",
       "      <td>201196.957277</td>\n",
       "      <td>0.461078</td>\n",
       "      <td>3764.0</td>\n",
       "      <td>-3665.0</td>\n",
       "      <td>248957.040982</td>\n",
       "    </tr>\n",
       "    <tr>\n",
       "      <th>428911</th>\n",
       "      <td>99</td>\n",
       "      <td>32763</td>\n",
       "      <td>47020</td>\n",
       "      <td>283.253012</td>\n",
       "      <td>2914</td>\n",
       "      <td>1</td>\n",
       "      <td>1.389043e+05</td>\n",
       "      <td>0.998905</td>\n",
       "      <td>0.999938</td>\n",
       "      <td>0.998192</td>\n",
       "      <td>...</td>\n",
       "      <td>-800.0</td>\n",
       "      <td>32173.641741</td>\n",
       "      <td>0.689109</td>\n",
       "      <td>6673.0</td>\n",
       "      <td>-6323.0</td>\n",
       "      <td>366989.960695</td>\n",
       "      <td>-8.560396</td>\n",
       "      <td>6523.0</td>\n",
       "      <td>-6774.0</td>\n",
       "      <td>606496.484936</td>\n",
       "    </tr>\n",
       "    <tr>\n",
       "      <th>428912</th>\n",
       "      <td>99</td>\n",
       "      <td>32767</td>\n",
       "      <td>18785</td>\n",
       "      <td>213.465909</td>\n",
       "      <td>907</td>\n",
       "      <td>1</td>\n",
       "      <td>3.925664e+04</td>\n",
       "      <td>0.999532</td>\n",
       "      <td>0.999932</td>\n",
       "      <td>0.999121</td>\n",
       "      <td>...</td>\n",
       "      <td>-890.0</td>\n",
       "      <td>34879.042292</td>\n",
       "      <td>0.712589</td>\n",
       "      <td>1000.0</td>\n",
       "      <td>-1000.0</td>\n",
       "      <td>57473.229103</td>\n",
       "      <td>-1.121140</td>\n",
       "      <td>1183.0</td>\n",
       "      <td>-800.0</td>\n",
       "      <td>40270.297195</td>\n",
       "    </tr>\n",
       "  </tbody>\n",
       "</table>\n",
       "<p>428913 rows × 131 columns</p>\n",
       "</div>"
      ],
      "text/plain": [
       "        stock_id  time_id  total_size   mean_size  max_size  min_size  \\\n",
       "0              0        5        3179   79.475000       499         1   \n",
       "1              0       11        1289   42.966667       280         1   \n",
       "2              0       16        2161   86.440000       391         1   \n",
       "3              0       31        1962  130.800000       450         5   \n",
       "4              0       62        1791   81.409091       341         1   \n",
       "...          ...      ...         ...         ...       ...       ...   \n",
       "428908        99    32751       48894  474.699029      2919         1   \n",
       "428909        99    32753       48635  528.641304      4220         1   \n",
       "428910        99    32758       50438  600.452381      9432         1   \n",
       "428911        99    32763       47020  283.253012      2914         1   \n",
       "428912        99    32767       18785  213.465909       907         1   \n",
       "\n",
       "            var_size  mean_price  max_price  min_price  ...  \\\n",
       "0       1.401267e+04    1.003722   1.004680   1.002301  ...   \n",
       "1       6.055206e+03    1.000206   1.000828   0.999724  ...   \n",
       "2       1.290201e+04    0.999204   1.000455   0.997391  ...   \n",
       "3       2.097531e+04    0.999020   1.000231   0.997972  ...   \n",
       "4       1.390387e+04    0.999618   1.000023   0.999231  ...   \n",
       "...              ...         ...        ...        ...  ...   \n",
       "428908  2.852014e+05    1.000635   1.001145   0.999631  ...   \n",
       "428909  5.152063e+05    1.000694   1.002271   0.999602  ...   \n",
       "428910  1.387562e+06    0.998246   0.999918   0.997636  ...   \n",
       "428911  1.389043e+05    0.998905   0.999938   0.998192  ...   \n",
       "428912  3.925664e+04    0.999532   0.999932   0.999121  ...   \n",
       "\n",
       "        min_bid_size_diff2  var_bid_size_diff2  mean_ask_size_diff1  \\\n",
       "0                   -381.0         7605.533621            -0.740864   \n",
       "1                   -340.0         6069.564388            -0.341709   \n",
       "2                   -230.0         3990.222644             0.053476   \n",
       "3                   -187.0         3472.024783             0.840336   \n",
       "4                   -299.0         4961.529589             0.040000   \n",
       "...                    ...                 ...                  ...   \n",
       "428908             -1900.0        45272.198135            -0.577869   \n",
       "428909              -424.0         8770.323966             1.005420   \n",
       "428910             -9366.0       815561.055218            -0.798403   \n",
       "428911              -800.0        32173.641741             0.689109   \n",
       "428912              -890.0        34879.042292             0.712589   \n",
       "\n",
       "        max_ask_size_diff1  min_ask_size_diff1  var_ask_size_diff1  \\\n",
       "0                    201.0              -202.0         2631.219291   \n",
       "1                    220.0              -254.0         2807.710928   \n",
       "2                    200.0              -201.0         3451.040136   \n",
       "3                    300.0              -240.0         4246.931919   \n",
       "4                    294.0              -330.0         3745.797241   \n",
       "...                    ...                 ...                 ...   \n",
       "428908              1211.0             -1305.0        48348.967230   \n",
       "428909              1506.0             -1812.0        88184.190188   \n",
       "428910              3801.0             -3892.0       201196.957277   \n",
       "428911              6673.0             -6323.0       366989.960695   \n",
       "428912              1000.0             -1000.0        57473.229103   \n",
       "\n",
       "        mean_ask_size_diff2  max_ask_size_diff2  min_ask_size_diff2  \\\n",
       "0                 -0.322259               201.0              -229.0   \n",
       "1                  0.110553               334.0              -377.0   \n",
       "2                 -1.598930               280.0              -200.0   \n",
       "3                 -1.512605               238.0              -286.0   \n",
       "4                 -0.022857               282.0              -396.0   \n",
       "...                     ...                 ...                 ...   \n",
       "428908            -0.272541               842.0              -768.0   \n",
       "428909            -3.249322              1436.0             -1166.0   \n",
       "428910             0.461078              3764.0             -3665.0   \n",
       "428911            -8.560396              6523.0             -6774.0   \n",
       "428912            -1.121140              1183.0              -800.0   \n",
       "\n",
       "        var_ask_size_diff2  \n",
       "0              3344.705803  \n",
       "1              4535.563474  \n",
       "2              4448.026450  \n",
       "3              5473.014670  \n",
       "4              5126.137406  \n",
       "...                    ...  \n",
       "428908        25471.939943  \n",
       "428909        50582.502887  \n",
       "428910       248957.040982  \n",
       "428911       606496.484936  \n",
       "428912        40270.297195  \n",
       "\n",
       "[428913 rows x 131 columns]"
      ]
     },
     "execution_count": 74,
     "metadata": {},
     "output_type": "execute_result"
    }
   ],
   "source": [
    "df_train"
   ]
  },
  {
   "cell_type": "markdown",
   "id": "563cc764",
   "metadata": {},
   "source": [
    "Nan is present in the variance when there is only one data point, which results in infinity when divided by 0."
   ]
  },
  {
   "cell_type": "code",
   "execution_count": 75,
   "id": "92fd5b1b",
   "metadata": {},
   "outputs": [],
   "source": [
    "df_train = df_train.fillna(0)"
   ]
  },
  {
   "cell_type": "code",
   "execution_count": 76,
   "id": "415f780a",
   "metadata": {},
   "outputs": [],
   "source": [
    "target_train = pd.read_csv('train.csv')"
   ]
  },
  {
   "cell_type": "code",
   "execution_count": 77,
   "id": "75a0e89c",
   "metadata": {},
   "outputs": [],
   "source": [
    "df_train = df_train.merge(target_train,on = ['stock_id','time_id'],how = 'left')"
   ]
  },
  {
   "cell_type": "code",
   "execution_count": 78,
   "id": "a5e830fc",
   "metadata": {},
   "outputs": [],
   "source": [
    "y = df_train['target']"
   ]
  },
  {
   "cell_type": "code",
   "execution_count": 79,
   "id": "5a4975ba",
   "metadata": {},
   "outputs": [],
   "source": [
    "pair = df_train[['stock_id','time_id']]"
   ]
  },
  {
   "cell_type": "code",
   "execution_count": 80,
   "id": "1a068032",
   "metadata": {},
   "outputs": [],
   "source": [
    "df_train = df_train.drop(columns = ['target','stock_id','time_id'])"
   ]
  },
  {
   "cell_type": "code",
   "execution_count": 81,
   "id": "5de6cb8b",
   "metadata": {},
   "outputs": [],
   "source": [
    "column = list(df_train.columns)"
   ]
  },
  {
   "cell_type": "markdown",
   "id": "2acd2917",
   "metadata": {},
   "source": [
    "# Naive Model"
   ]
  },
  {
   "cell_type": "code",
   "execution_count": 82,
   "id": "7562668c",
   "metadata": {},
   "outputs": [],
   "source": [
    "from sklearn.model_selection import train_test_split\n",
    "X_train,X_test,y_train,y_test = train_test_split(df_train,y,test_size = 0.05,shuffle=False)"
   ]
  },
  {
   "cell_type": "code",
   "execution_count": 83,
   "id": "efd69d95",
   "metadata": {},
   "outputs": [],
   "source": [
    "from sklearn.model_selection import cross_validate\n",
    "from sklearn.metrics import r2_score\n",
    "def rmspe(y_true, y_pred):\n",
    "    return  (np.sqrt(np.mean(np.square((y_true - y_pred) / y_true))))"
   ]
  },
  {
   "cell_type": "code",
   "execution_count": 84,
   "id": "88bda1c9",
   "metadata": {},
   "outputs": [],
   "source": [
    "y_pred_train = X_train['current_realized_volatility']"
   ]
  },
  {
   "cell_type": "markdown",
   "id": "a254e025",
   "metadata": {},
   "source": [
    "Naive metrics"
   ]
  },
  {
   "cell_type": "code",
   "execution_count": 85,
   "id": "486acd11",
   "metadata": {},
   "outputs": [
    {
     "data": {
      "text/plain": [
       "0.6289198470681605"
      ]
     },
     "execution_count": 85,
     "metadata": {},
     "output_type": "execute_result"
    }
   ],
   "source": [
    "r2_score(y_train, y_pred_train)"
   ]
  },
  {
   "cell_type": "code",
   "execution_count": 86,
   "id": "d6f6b162",
   "metadata": {},
   "outputs": [
    {
     "data": {
      "text/plain": [
       "0.3423811785915572"
      ]
     },
     "execution_count": 86,
     "metadata": {},
     "output_type": "execute_result"
    }
   ],
   "source": [
    "rmspe(y_train,y_pred_train)"
   ]
  },
  {
   "cell_type": "markdown",
   "id": "fae43771",
   "metadata": {},
   "source": [
    "# Implementing XGB"
   ]
  },
  {
   "cell_type": "code",
   "execution_count": 87,
   "id": "ad1ec367",
   "metadata": {},
   "outputs": [],
   "source": [
    "from sklearn.model_selection import train_test_split\n",
    "X_train,X_test,y_train,y_test = train_test_split(df_train,y,test_size = 0.05,shuffle=False)"
   ]
  },
  {
   "cell_type": "code",
   "execution_count": 88,
   "id": "25b23f04",
   "metadata": {},
   "outputs": [],
   "source": [
    "from sklearn.model_selection import cross_validate\n",
    "from sklearn.metrics import r2_score\n",
    "def rmspe(y_true, y_pred):\n",
    "    return  (np.sqrt(np.mean(np.square((y_true - y_pred) / y_true))))"
   ]
  },
  {
   "cell_type": "code",
   "execution_count": 89,
   "id": "cd75bea4",
   "metadata": {},
   "outputs": [],
   "source": [
    "from xgboost import XGBRegressor\n",
    "model = XGBRegressor(device='cuda')"
   ]
  },
  {
   "cell_type": "markdown",
   "id": "dae6afd2",
   "metadata": {},
   "source": [
    "# Training"
   ]
  },
  {
   "cell_type": "code",
   "execution_count": 90,
   "id": "40a6e893",
   "metadata": {},
   "outputs": [
    {
     "data": {
      "text/html": [
       "<style>#sk-container-id-3 {color: black;background-color: white;}#sk-container-id-3 pre{padding: 0;}#sk-container-id-3 div.sk-toggleable {background-color: white;}#sk-container-id-3 label.sk-toggleable__label {cursor: pointer;display: block;width: 100%;margin-bottom: 0;padding: 0.3em;box-sizing: border-box;text-align: center;}#sk-container-id-3 label.sk-toggleable__label-arrow:before {content: \"▸\";float: left;margin-right: 0.25em;color: #696969;}#sk-container-id-3 label.sk-toggleable__label-arrow:hover:before {color: black;}#sk-container-id-3 div.sk-estimator:hover label.sk-toggleable__label-arrow:before {color: black;}#sk-container-id-3 div.sk-toggleable__content {max-height: 0;max-width: 0;overflow: hidden;text-align: left;background-color: #f0f8ff;}#sk-container-id-3 div.sk-toggleable__content pre {margin: 0.2em;color: black;border-radius: 0.25em;background-color: #f0f8ff;}#sk-container-id-3 input.sk-toggleable__control:checked~div.sk-toggleable__content {max-height: 200px;max-width: 100%;overflow: auto;}#sk-container-id-3 input.sk-toggleable__control:checked~label.sk-toggleable__label-arrow:before {content: \"▾\";}#sk-container-id-3 div.sk-estimator input.sk-toggleable__control:checked~label.sk-toggleable__label {background-color: #d4ebff;}#sk-container-id-3 div.sk-label input.sk-toggleable__control:checked~label.sk-toggleable__label {background-color: #d4ebff;}#sk-container-id-3 input.sk-hidden--visually {border: 0;clip: rect(1px 1px 1px 1px);clip: rect(1px, 1px, 1px, 1px);height: 1px;margin: -1px;overflow: hidden;padding: 0;position: absolute;width: 1px;}#sk-container-id-3 div.sk-estimator {font-family: monospace;background-color: #f0f8ff;border: 1px dotted black;border-radius: 0.25em;box-sizing: border-box;margin-bottom: 0.5em;}#sk-container-id-3 div.sk-estimator:hover {background-color: #d4ebff;}#sk-container-id-3 div.sk-parallel-item::after {content: \"\";width: 100%;border-bottom: 1px solid gray;flex-grow: 1;}#sk-container-id-3 div.sk-label:hover label.sk-toggleable__label {background-color: #d4ebff;}#sk-container-id-3 div.sk-serial::before {content: \"\";position: absolute;border-left: 1px solid gray;box-sizing: border-box;top: 0;bottom: 0;left: 50%;z-index: 0;}#sk-container-id-3 div.sk-serial {display: flex;flex-direction: column;align-items: center;background-color: white;padding-right: 0.2em;padding-left: 0.2em;position: relative;}#sk-container-id-3 div.sk-item {position: relative;z-index: 1;}#sk-container-id-3 div.sk-parallel {display: flex;align-items: stretch;justify-content: center;background-color: white;position: relative;}#sk-container-id-3 div.sk-item::before, #sk-container-id-3 div.sk-parallel-item::before {content: \"\";position: absolute;border-left: 1px solid gray;box-sizing: border-box;top: 0;bottom: 0;left: 50%;z-index: -1;}#sk-container-id-3 div.sk-parallel-item {display: flex;flex-direction: column;z-index: 1;position: relative;background-color: white;}#sk-container-id-3 div.sk-parallel-item:first-child::after {align-self: flex-end;width: 50%;}#sk-container-id-3 div.sk-parallel-item:last-child::after {align-self: flex-start;width: 50%;}#sk-container-id-3 div.sk-parallel-item:only-child::after {width: 0;}#sk-container-id-3 div.sk-dashed-wrapped {border: 1px dashed gray;margin: 0 0.4em 0.5em 0.4em;box-sizing: border-box;padding-bottom: 0.4em;background-color: white;}#sk-container-id-3 div.sk-label label {font-family: monospace;font-weight: bold;display: inline-block;line-height: 1.2em;}#sk-container-id-3 div.sk-label-container {text-align: center;}#sk-container-id-3 div.sk-container {/* jupyter's `normalize.less` sets `[hidden] { display: none; }` but bootstrap.min.css set `[hidden] { display: none !important; }` so we also need the `!important` here to be able to override the default hidden behavior on the sphinx rendered scikit-learn.org. See: https://github.com/scikit-learn/scikit-learn/issues/21755 */display: inline-block !important;position: relative;}#sk-container-id-3 div.sk-text-repr-fallback {display: none;}</style><div id=\"sk-container-id-3\" class=\"sk-top-container\"><div class=\"sk-text-repr-fallback\"><pre>XGBRegressor(base_score=None, booster=None, callbacks=None,\n",
       "             colsample_bylevel=None, colsample_bynode=None,\n",
       "             colsample_bytree=None, device=&#x27;cuda&#x27;, early_stopping_rounds=None,\n",
       "             enable_categorical=False, eval_metric=None, feature_types=None,\n",
       "             gamma=None, grow_policy=None, importance_type=None,\n",
       "             interaction_constraints=None, learning_rate=None, max_bin=None,\n",
       "             max_cat_threshold=None, max_cat_to_onehot=None,\n",
       "             max_delta_step=None, max_depth=None, max_leaves=None,\n",
       "             min_child_weight=None, missing=nan, monotone_constraints=None,\n",
       "             multi_strategy=None, n_estimators=None, n_jobs=None,\n",
       "             num_parallel_tree=None, random_state=None, ...)</pre><b>In a Jupyter environment, please rerun this cell to show the HTML representation or trust the notebook. <br />On GitHub, the HTML representation is unable to render, please try loading this page with nbviewer.org.</b></div><div class=\"sk-container\" hidden><div class=\"sk-item\"><div class=\"sk-estimator sk-toggleable\"><input class=\"sk-toggleable__control sk-hidden--visually\" id=\"sk-estimator-id-3\" type=\"checkbox\" checked><label for=\"sk-estimator-id-3\" class=\"sk-toggleable__label sk-toggleable__label-arrow\">XGBRegressor</label><div class=\"sk-toggleable__content\"><pre>XGBRegressor(base_score=None, booster=None, callbacks=None,\n",
       "             colsample_bylevel=None, colsample_bynode=None,\n",
       "             colsample_bytree=None, device=&#x27;cuda&#x27;, early_stopping_rounds=None,\n",
       "             enable_categorical=False, eval_metric=None, feature_types=None,\n",
       "             gamma=None, grow_policy=None, importance_type=None,\n",
       "             interaction_constraints=None, learning_rate=None, max_bin=None,\n",
       "             max_cat_threshold=None, max_cat_to_onehot=None,\n",
       "             max_delta_step=None, max_depth=None, max_leaves=None,\n",
       "             min_child_weight=None, missing=nan, monotone_constraints=None,\n",
       "             multi_strategy=None, n_estimators=None, n_jobs=None,\n",
       "             num_parallel_tree=None, random_state=None, ...)</pre></div></div></div></div></div>"
      ],
      "text/plain": [
       "XGBRegressor(base_score=None, booster=None, callbacks=None,\n",
       "             colsample_bylevel=None, colsample_bynode=None,\n",
       "             colsample_bytree=None, device='cuda', early_stopping_rounds=None,\n",
       "             enable_categorical=False, eval_metric=None, feature_types=None,\n",
       "             gamma=None, grow_policy=None, importance_type=None,\n",
       "             interaction_constraints=None, learning_rate=None, max_bin=None,\n",
       "             max_cat_threshold=None, max_cat_to_onehot=None,\n",
       "             max_delta_step=None, max_depth=None, max_leaves=None,\n",
       "             min_child_weight=None, missing=nan, monotone_constraints=None,\n",
       "             multi_strategy=None, n_estimators=None, n_jobs=None,\n",
       "             num_parallel_tree=None, random_state=None, ...)"
      ]
     },
     "execution_count": 90,
     "metadata": {},
     "output_type": "execute_result"
    }
   ],
   "source": [
    "model.fit(X_train,y_train)"
   ]
  },
  {
   "cell_type": "code",
   "execution_count": 91,
   "id": "956028bc",
   "metadata": {},
   "outputs": [],
   "source": [
    "y_pred_train = model.predict(X_train)"
   ]
  },
  {
   "cell_type": "markdown",
   "id": "f5197017",
   "metadata": {},
   "source": [
    "# Training metrics"
   ]
  },
  {
   "cell_type": "code",
   "execution_count": 92,
   "id": "45afa307",
   "metadata": {},
   "outputs": [],
   "source": [
    "import matplotlib.pyplot as plt\n",
    "from matplotlib.pyplot import plot"
   ]
  },
  {
   "cell_type": "code",
   "execution_count": 93,
   "id": "32025e20",
   "metadata": {
    "scrolled": true
   },
   "outputs": [
    {
     "data": {
      "text/plain": [
       "0.8650835604172517"
      ]
     },
     "execution_count": 93,
     "metadata": {},
     "output_type": "execute_result"
    }
   ],
   "source": [
    "r2_score(y_train, y_pred_train)"
   ]
  },
  {
   "cell_type": "code",
   "execution_count": 94,
   "id": "b1db9aa3",
   "metadata": {},
   "outputs": [
    {
     "data": {
      "text/plain": [
       "0.2747646813324255"
      ]
     },
     "execution_count": 94,
     "metadata": {},
     "output_type": "execute_result"
    }
   ],
   "source": [
    "rmspe(y_train,y_pred_train)"
   ]
  },
  {
   "cell_type": "code",
   "execution_count": 95,
   "id": "5d15b70a",
   "metadata": {},
   "outputs": [
    {
     "data": {
      "text/plain": [
       "<matplotlib.legend.Legend at 0x1897f24b370>"
      ]
     },
     "execution_count": 95,
     "metadata": {},
     "output_type": "execute_result"
    },
    {
     "data": {
      "image/png": "[encoded data removed]",
      "text/plain": [
       "<Figure size 2000x700 with 1 Axes>"
      ]
     },
     "metadata": {},
     "output_type": "display_data"
    }
   ],
   "source": [
    "plt.figure(figsize=(20,7))\n",
    "plt.plot(range(1,100),y_train.head(99),label='y_train')\n",
    "plt.plot(range(1,100),y_pred_train[0:99],label='y_pred_train')\n",
    "plt.legend()"
   ]
  },
  {
   "cell_type": "markdown",
   "id": "41c94a6d",
   "metadata": {},
   "source": [
    "# Test metrics"
   ]
  },
  {
   "cell_type": "code",
   "execution_count": 96,
   "id": "cf9abc54",
   "metadata": {},
   "outputs": [],
   "source": [
    "y_pred_test = model.predict(X_test)"
   ]
  },
  {
   "cell_type": "code",
   "execution_count": 97,
   "id": "b7779227",
   "metadata": {},
   "outputs": [
    {
     "data": {
      "text/plain": [
       "0.8014011741062257"
      ]
     },
     "execution_count": 97,
     "metadata": {},
     "output_type": "execute_result"
    }
   ],
   "source": [
    "r2_score(y_test, y_pred_test)"
   ]
  },
  {
   "cell_type": "code",
   "execution_count": 98,
   "id": "56b9bf9c",
   "metadata": {},
   "outputs": [
    {
     "data": {
      "text/plain": [
       "0.26582383922501746"
      ]
     },
     "execution_count": 98,
     "metadata": {},
     "output_type": "execute_result"
    }
   ],
   "source": [
    "rmspe(y_test,y_pred_test)"
   ]
  },
  {
   "cell_type": "code",
   "execution_count": 99,
   "id": "72cf9c19",
   "metadata": {
    "scrolled": true
   },
   "outputs": [
    {
     "data": {
      "text/plain": [
       "<matplotlib.legend.Legend at 0x1897e0c2b30>"
      ]
     },
     "execution_count": 99,
     "metadata": {},
     "output_type": "execute_result"
    },
    {
     "data": {
      "image/png": "[encoded data removed]",
      "text/plain": [
       "<Figure size 2000x700 with 1 Axes>"
      ]
     },
     "metadata": {},
     "output_type": "display_data"
    }
   ],
   "source": [
    "plt.figure(figsize=(20,7))\n",
    "plt.plot(range(1,100),y_test.head(99),label='y_test')\n",
    "plt.plot(range(1,100),y_pred_test[0:99],label='y_pred_test')\n",
    "plt.legend()"
   ]
  },
  {
   "cell_type": "markdown",
   "id": "e3adc195",
   "metadata": {},
   "source": [
    "Initial results indicate a significant improvement over the naive model, with R^2 increasing from 0.629 to 0.80 and RMSPE improving from 0.342 to 0.265. However, there appears to be a slight overfitting as evidenced by R^2 on the training set being 0.865, while on the test set it is 0.80. Additionally, RMSPE on the training set is 0.274, while on the test set it is 0.265, which is pretty good."
   ]
  },
  {
   "cell_type": "markdown",
   "id": "c0bfd982",
   "metadata": {},
   "source": [
    "A possible solution to mitigate overfitting is to reduce the model's complexity by reducing the number of features and selecting the most relevant ones. In this case, since XGBoost is used, I choose the 'gain' importance type and select the top 70% of the most important features."
   ]
  },
  {
   "cell_type": "markdown",
   "id": "256bc92a",
   "metadata": {},
   "source": [
    "# Feature Importance"
   ]
  },
  {
   "cell_type": "code",
   "execution_count": 43,
   "id": "23089b9b",
   "metadata": {},
   "outputs": [],
   "source": [
    "keys_values = model.get_booster().get_score(importance_type='gain')\n",
    "keys = model.get_booster().get_score(importance_type='gain').keys()\n",
    "values = model.get_booster().get_score(importance_type='gain').values()"
   ]
  },
  {
   "cell_type": "code",
   "execution_count": 44,
   "id": "f1e5e96d",
   "metadata": {},
   "outputs": [
    {
     "data": {
      "text/plain": [
       "{'total_size': 6.0239788581384346e-05,\n",
       " 'mean_size': 0.00016725799650885165,\n",
       " 'max_size': 8.017205254873261e-05,\n",
       " 'min_size': 3.32256022375077e-05,\n",
       " 'var_size': 0.00016957010666374117,\n",
       " 'mean_price': 3.8854013837408274e-05,\n",
       " 'max_price': 8.342596265720204e-05,\n",
       " 'min_price': 6.750407192157581e-05,\n",
       " 'var_price': 0.00021539664885494858,\n",
       " 'total_volume': 8.260395406978205e-05,\n",
       " 'mean_volume': 0.00026515914942137897,\n",
       " 'max_volume': 4.900229396298528e-05,\n",
       " 'min_volume': 8.398655336350203e-05,\n",
       " 'var_volume': 0.0002654019626788795,\n",
       " 'total_order_count': 0.00010075204772874713,\n",
       " 'mean_order_count': 7.495870522689074e-05,\n",
       " 'max_order_count': 6.366198067553341e-05,\n",
       " 'var_order_count': 9.436145046493039e-05,\n",
       " 'vwap': 5.6987646530615166e-05,\n",
       " 'mean_vpc': 9.575934382155538e-05,\n",
       " 'max_vpc': 7.638675015186891e-05,\n",
       " 'min_vpc': 0.00013163397670723498,\n",
       " 'var_vpc': 0.0001245973980985582,\n",
       " 'mean_diff_sec': 0.00010113553435076028,\n",
       " 'max_diff_sec': 0.00017091326299123466,\n",
       " 'min_diff_sec': 8.06649259175174e-05,\n",
       " 'var_diff_sec': 0.0001504151150584221,\n",
       " 'mean_diff_price': 7.434943836415187e-05,\n",
       " 'max_diff_price': 6.792126805521548e-05,\n",
       " 'min_diff_price': 8.077977690845728e-05,\n",
       " 'var_diff_price': 7.878098404034972e-05,\n",
       " 'mean_diff_volume': 0.0001234458904946223,\n",
       " 'max_diff_volume': 9.25123313209042e-05,\n",
       " 'min_diff_volume': 7.219100371003151e-05,\n",
       " 'var_diff_volume': 0.00012829188199248165,\n",
       " 'mean_ask_price1': 7.429473771480843e-05,\n",
       " 'max_ask_price1': 8.979539416031912e-05,\n",
       " 'min_ask_price1': 8.730378613108769e-05,\n",
       " 'var_ask_price1': 0.00011443659604992718,\n",
       " 'mean_ask_price2': 0.0001380546746077016,\n",
       " 'max_ask_price2': 9.06420755200088e-05,\n",
       " 'min_ask_price2': 0.00010316173575120047,\n",
       " 'var_ask_price2': 0.00024122626928146929,\n",
       " 'mean_bid_price1': 8.169207285391167e-05,\n",
       " 'max_bid_price1': 6.289903103606775e-05,\n",
       " 'min_bid_price1': 9.049477375810966e-05,\n",
       " 'var_bid_price1': 0.0001297823037020862,\n",
       " 'mean_bid_price2': 5.021790275350213e-05,\n",
       " 'max_bid_price2': 6.082471736590378e-05,\n",
       " 'min_bid_price2': 0.00010866540833376348,\n",
       " 'var_bid_price2': 0.0003843531012535095,\n",
       " 'mean_ask_size1': 0.0001201612176373601,\n",
       " 'max_ask_size1': 0.00010184894927078858,\n",
       " 'min_ask_size1': 0.00010940311040030792,\n",
       " 'var_ask_size1': 0.00011372807784937322,\n",
       " 'mean_ask_size2': 9.472931560594589e-05,\n",
       " 'max_ask_size2': 8.1087629951071e-05,\n",
       " 'min_ask_size2': 3.0744486139155924e-05,\n",
       " 'var_ask_size2': 9.314314957009628e-05,\n",
       " 'mean_bid_size1': 9.948618389898911e-05,\n",
       " 'max_bid_size1': 9.659791976446286e-05,\n",
       " 'min_bid_size1': 0.00010359109728597105,\n",
       " 'var_bid_size1': 0.00015642364451196045,\n",
       " 'mean_bid_size2': 0.00010496446338947862,\n",
       " 'max_bid_size2': 3.939731323043816e-05,\n",
       " 'min_bid_size2': 5.4558160627493635e-05,\n",
       " 'var_bid_size2': 8.152933878591284e-05,\n",
       " 'mean_supply': 8.576168329454958e-05,\n",
       " 'max_supply': 9.711592429084703e-05,\n",
       " 'min_supply': 7.390852988464758e-05,\n",
       " 'var_supply': 6.91070526954718e-05,\n",
       " 'mean_pot_demand': 8.724424696993083e-05,\n",
       " 'max_pot_demand': 7.915610331110656e-05,\n",
       " 'min_pot_demand': 0.00010421095066703856,\n",
       " 'var_pot_demand': 0.00010941724030999467,\n",
       " 'mean_bid_price1_2': 0.00011488424934213981,\n",
       " 'max_bid_price1_2': 0.0001279886782867834,\n",
       " 'min_bid_price1_2': 0.00013379103620536625,\n",
       " 'var_bid_price1_2': 0.00017537700477987528,\n",
       " 'mean_ask_price1_2': 0.00011628068750724196,\n",
       " 'max_ask_price1_2': 0.00014221847231965512,\n",
       " 'min_ask_price1_2': 0.00022386352065950632,\n",
       " 'var_ask_price1_2': 0.00010359534644521773,\n",
       " 'mean_bid_size1_2': 7.57276065996848e-05,\n",
       " 'max_bid_size1_2': 6.137996388133615e-05,\n",
       " 'min_bid_size1_2': 7.808888040017337e-05,\n",
       " 'var_bid_size1_2': 6.846080214018002e-05,\n",
       " 'mean_ask_size1_2': 7.676086534047499e-05,\n",
       " 'max_ask_size1_2': 0.00011153691593790427,\n",
       " 'min_ask_size1_2': 0.00015128969971556216,\n",
       " 'var_ask_size1_2': 7.333950634347275e-05,\n",
       " 'mean_BidAskSpreadOpt': 0.00013458458124659956,\n",
       " 'max_BidAskSpreadOpt': 0.00010170420864596963,\n",
       " 'min_BidAskSpreadOpt': 0.0001709896168904379,\n",
       " 'var_BidAskSpreadOpt': 0.00012910481018479913,\n",
       " 'mean_wap': 0.00012779940152540803,\n",
       " 'max_wap': 7.858143362682313e-05,\n",
       " 'min_wap': 8.68563583935611e-05,\n",
       " 'var_wap': 0.00016902900824788958,\n",
       " 'current_realized_volatility': 0.015735875815153122,\n",
       " 'mean_bid_diff1': 9.523522021481767e-05,\n",
       " 'max_bid_diff1': 8.369887655135244e-05,\n",
       " 'min_bid_diff1': 8.572058868594468e-05,\n",
       " 'var_bid_diff1': 7.021368219284341e-05,\n",
       " 'mean_bid_diff2': 0.0001109581789933145,\n",
       " 'max_bid_diff2': 6.534276326419786e-05,\n",
       " 'min_bid_diff2': 0.00015874463133513927,\n",
       " 'var_bid_diff2': 8.306549716508016e-05,\n",
       " 'mean_ask_diff1': 0.00010386233043391258,\n",
       " 'max_ask_diff1': 0.00012689203140325844,\n",
       " 'min_ask_diff1': 7.204964640550315e-05,\n",
       " 'var_ask_diff1': 6.286139250732958e-05,\n",
       " 'mean_bid_size_diff1': 8.258914022007957e-05,\n",
       " 'max_bid_size_diff1': 8.480725227855146e-05,\n",
       " 'min_bid_size_diff1': 7.23009870853275e-05,\n",
       " 'var_bid_size_diff1': 6.065515844966285e-05,\n",
       " 'mean_bid_size_diff2': 7.685121818212792e-05,\n",
       " 'max_bid_size_diff2': 0.0001151874748757109,\n",
       " 'min_bid_size_diff2': 7.47234225855209e-05,\n",
       " 'var_bid_size_diff2': 7.961938536027446e-05,\n",
       " 'mean_ask_size_diff1': 8.237428846769035e-05,\n",
       " 'max_ask_size_diff1': 8.816603076411411e-05,\n",
       " 'min_ask_size_diff1': 8.928836905397475e-05,\n",
       " 'var_ask_size_diff1': 8.37231200421229e-05,\n",
       " 'mean_ask_size_diff2': 8.440336387138814e-05,\n",
       " 'max_ask_size_diff2': 8.739891927689314e-05,\n",
       " 'min_ask_size_diff2': 0.00018529575027059764,\n",
       " 'var_ask_size_diff2': 0.00011109135812148452}"
      ]
     },
     "execution_count": 44,
     "metadata": {},
     "output_type": "execute_result"
    }
   ],
   "source": [
    "model.get_booster().get_score(importance_type='gain')"
   ]
  },
  {
   "cell_type": "code",
   "execution_count": 46,
   "id": "10d58828",
   "metadata": {},
   "outputs": [
    {
     "data": {
      "application/vnd.plotly.v1+json": {
       "config": {
        "plotlyServerURL": "https://plot.ly"
       },
       "data": [
        {
         "alignmentgroup": "True",
         "hovertemplate": "Importance=%{text}<br>Feature=%{y}<extra></extra>",
         "legendgroup": "",
         "marker": {
          "color": "#636efa",
          "pattern": {
           "shape": ""
          }
         },
         "name": "",
         "offsetgroup": "",
         "orientation": "h",
         "showlegend": false,
         "text": [
          6.0239788581384346e-05,
          0.00016725799650885165,
          8.017205254873261e-05,
          3.32256022375077e-05,
          0.00016957010666374117,
          3.8854013837408274e-05,
          8.342596265720204e-05,
          6.750407192157581e-05,
          0.00021539664885494858,
          8.260395406978205e-05,
          0.00026515914942137897,
          4.900229396298528e-05,
          8.398655336350203e-05,
          0.0002654019626788795,
          0.00010075204772874713,
          7.495870522689074e-05,
          6.366198067553341e-05,
          9.436145046493039e-05,
          5.6987646530615166e-05,
          9.575934382155538e-05,
          7.638675015186891e-05,
          0.00013163397670723498,
          0.0001245973980985582,
          0.00010113553435076028,
          0.00017091326299123466,
          8.06649259175174e-05,
          0.0001504151150584221,
          7.434943836415187e-05,
          6.792126805521548e-05,
          8.077977690845728e-05,
          7.878098404034972e-05,
          0.0001234458904946223,
          9.25123313209042e-05,
          7.219100371003151e-05,
          0.00012829188199248165,
          7.429473771480843e-05,
          8.979539416031912e-05,
          8.730378613108769e-05,
          0.00011443659604992718,
          0.0001380546746077016,
          9.06420755200088e-05,
          0.00010316173575120047,
          0.00024122626928146929,
          8.169207285391167e-05,
          6.289903103606775e-05,
          9.049477375810966e-05,
          0.0001297823037020862,
          5.021790275350213e-05,
          6.082471736590378e-05,
          0.00010866540833376348,
          0.0003843531012535095,
          0.0001201612176373601,
          0.00010184894927078858,
          0.00010940311040030792,
          0.00011372807784937322,
          9.472931560594589e-05,
          8.1087629951071e-05,
          3.0744486139155924e-05,
          9.314314957009628e-05,
          9.948618389898911e-05,
          9.659791976446286e-05,
          0.00010359109728597105,
          0.00015642364451196045,
          0.00010496446338947862,
          3.939731323043816e-05,
          5.4558160627493635e-05,
          8.152933878591284e-05,
          8.576168329454958e-05,
          9.711592429084703e-05,
          7.390852988464758e-05,
          6.91070526954718e-05,
          8.724424696993083e-05,
          7.915610331110656e-05,
          0.00010421095066703856,
          0.00010941724030999467,
          0.00011488424934213981,
          0.0001279886782867834,
          0.00013379103620536625,
          0.00017537700477987528,
          0.00011628068750724196,
          0.00014221847231965512,
          0.00022386352065950632,
          0.00010359534644521773,
          7.57276065996848e-05,
          6.137996388133615e-05,
          7.808888040017337e-05,
          6.846080214018002e-05,
          7.676086534047499e-05,
          0.00011153691593790427,
          0.00015128969971556216,
          7.333950634347275e-05,
          0.00013458458124659956,
          0.00010170420864596963,
          0.0001709896168904379,
          0.00012910481018479913,
          0.00012779940152540803,
          7.858143362682313e-05,
          8.68563583935611e-05,
          0.00016902900824788958,
          0.015735875815153122,
          9.523522021481767e-05,
          8.369887655135244e-05,
          8.572058868594468e-05,
          7.021368219284341e-05,
          0.0001109581789933145,
          6.534276326419786e-05,
          0.00015874463133513927,
          8.306549716508016e-05,
          0.00010386233043391258,
          0.00012689203140325844,
          7.204964640550315e-05,
          6.286139250732958e-05,
          8.258914022007957e-05,
          8.480725227855146e-05,
          7.23009870853275e-05,
          6.065515844966285e-05,
          7.685121818212792e-05,
          0.0001151874748757109,
          7.47234225855209e-05,
          7.961938536027446e-05,
          8.237428846769035e-05,
          8.816603076411411e-05,
          8.928836905397475e-05,
          8.37231200421229e-05,
          8.440336387138814e-05,
          8.739891927689314e-05,
          0.00018529575027059764,
          0.00011109135812148452
         ],
         "textposition": "auto",
         "type": "bar",
         "x": [
          6.0239788581384346e-05,
          0.00016725799650885165,
          8.017205254873261e-05,
          3.32256022375077e-05,
          0.00016957010666374117,
          3.8854013837408274e-05,
          8.342596265720204e-05,
          6.750407192157581e-05,
          0.00021539664885494858,
          8.260395406978205e-05,
          0.00026515914942137897,
          4.900229396298528e-05,
          8.398655336350203e-05,
          0.0002654019626788795,
          0.00010075204772874713,
          7.495870522689074e-05,
          6.366198067553341e-05,
          9.436145046493039e-05,
          5.6987646530615166e-05,
          9.575934382155538e-05,
          7.638675015186891e-05,
          0.00013163397670723498,
          0.0001245973980985582,
          0.00010113553435076028,
          0.00017091326299123466,
          8.06649259175174e-05,
          0.0001504151150584221,
          7.434943836415187e-05,
          6.792126805521548e-05,
          8.077977690845728e-05,
          7.878098404034972e-05,
          0.0001234458904946223,
          9.25123313209042e-05,
          7.219100371003151e-05,
          0.00012829188199248165,
          7.429473771480843e-05,
          8.979539416031912e-05,
          8.730378613108769e-05,
          0.00011443659604992718,
          0.0001380546746077016,
          9.06420755200088e-05,
          0.00010316173575120047,
          0.00024122626928146929,
          8.169207285391167e-05,
          6.289903103606775e-05,
          9.049477375810966e-05,
          0.0001297823037020862,
          5.021790275350213e-05,
          6.082471736590378e-05,
          0.00010866540833376348,
          0.0003843531012535095,
          0.0001201612176373601,
          0.00010184894927078858,
          0.00010940311040030792,
          0.00011372807784937322,
          9.472931560594589e-05,
          8.1087629951071e-05,
          3.0744486139155924e-05,
          9.314314957009628e-05,
          9.948618389898911e-05,
          9.659791976446286e-05,
          0.00010359109728597105,
          0.00015642364451196045,
          0.00010496446338947862,
          3.939731323043816e-05,
          5.4558160627493635e-05,
          8.152933878591284e-05,
          8.576168329454958e-05,
          9.711592429084703e-05,
          7.390852988464758e-05,
          6.91070526954718e-05,
          8.724424696993083e-05,
          7.915610331110656e-05,
          0.00010421095066703856,
          0.00010941724030999467,
          0.00011488424934213981,
          0.0001279886782867834,
          0.00013379103620536625,
          0.00017537700477987528,
          0.00011628068750724196,
          0.00014221847231965512,
          0.00022386352065950632,
          0.00010359534644521773,
          7.57276065996848e-05,
          6.137996388133615e-05,
          7.808888040017337e-05,
          6.846080214018002e-05,
          7.676086534047499e-05,
          0.00011153691593790427,
          0.00015128969971556216,
          7.333950634347275e-05,
          0.00013458458124659956,
          0.00010170420864596963,
          0.0001709896168904379,
          0.00012910481018479913,
          0.00012779940152540803,
          7.858143362682313e-05,
          8.68563583935611e-05,
          0.00016902900824788958,
          0.015735875815153122,
          9.523522021481767e-05,
          8.369887655135244e-05,
          8.572058868594468e-05,
          7.021368219284341e-05,
          0.0001109581789933145,
          6.534276326419786e-05,
          0.00015874463133513927,
          8.306549716508016e-05,
          0.00010386233043391258,
          0.00012689203140325844,
          7.204964640550315e-05,
          6.286139250732958e-05,
          8.258914022007957e-05,
          8.480725227855146e-05,
          7.23009870853275e-05,
          6.065515844966285e-05,
          7.685121818212792e-05,
          0.0001151874748757109,
          7.47234225855209e-05,
          7.961938536027446e-05,
          8.237428846769035e-05,
          8.816603076411411e-05,
          8.928836905397475e-05,
          8.37231200421229e-05,
          8.440336387138814e-05,
          8.739891927689314e-05,
          0.00018529575027059764,
          0.00011109135812148452
         ],
         "xaxis": "x",
         "y": [
          "total_size",
          "mean_size",
          "max_size",
          "min_size",
          "var_size",
          "mean_price",
          "max_price",
          "min_price",
          "var_price",
          "total_volume",
          "mean_volume",
          "max_volume",
          "min_volume",
          "var_volume",
          "total_order_count",
          "mean_order_count",
          "max_order_count",
          "var_order_count",
          "vwap",
          "mean_vpc",
          "max_vpc",
          "min_vpc",
          "var_vpc",
          "mean_diff_sec",
          "max_diff_sec",
          "min_diff_sec",
          "var_diff_sec",
          "mean_diff_price",
          "max_diff_price",
          "min_diff_price",
          "var_diff_price",
          "mean_diff_volume",
          "max_diff_volume",
          "min_diff_volume",
          "var_diff_volume",
          "mean_ask_price1",
          "max_ask_price1",
          "min_ask_price1",
          "var_ask_price1",
          "mean_ask_price2",
          "max_ask_price2",
          "min_ask_price2",
          "var_ask_price2",
          "mean_bid_price1",
          "max_bid_price1",
          "min_bid_price1",
          "var_bid_price1",
          "mean_bid_price2",
          "max_bid_price2",
          "min_bid_price2",
          "var_bid_price2",
          "mean_ask_size1",
          "max_ask_size1",
          "min_ask_size1",
          "var_ask_size1",
          "mean_ask_size2",
          "max_ask_size2",
          "min_ask_size2",
          "var_ask_size2",
          "mean_bid_size1",
          "max_bid_size1",
          "min_bid_size1",
          "var_bid_size1",
          "mean_bid_size2",
          "max_bid_size2",
          "min_bid_size2",
          "var_bid_size2",
          "mean_supply",
          "max_supply",
          "min_supply",
          "var_supply",
          "mean_pot_demand",
          "max_pot_demand",
          "min_pot_demand",
          "var_pot_demand",
          "mean_bid_price1_2",
          "max_bid_price1_2",
          "min_bid_price1_2",
          "var_bid_price1_2",
          "mean_ask_price1_2",
          "max_ask_price1_2",
          "min_ask_price1_2",
          "var_ask_price1_2",
          "mean_bid_size1_2",
          "max_bid_size1_2",
          "min_bid_size1_2",
          "var_bid_size1_2",
          "mean_ask_size1_2",
          "max_ask_size1_2",
          "min_ask_size1_2",
          "var_ask_size1_2",
          "mean_BidAskSpreadOpt",
          "max_BidAskSpreadOpt",
          "min_BidAskSpreadOpt",
          "var_BidAskSpreadOpt",
          "mean_wap",
          "max_wap",
          "min_wap",
          "var_wap",
          "current_realized_volatility",
          "mean_bid_diff1",
          "max_bid_diff1",
          "min_bid_diff1",
          "var_bid_diff1",
          "mean_bid_diff2",
          "max_bid_diff2",
          "min_bid_diff2",
          "var_bid_diff2",
          "mean_ask_diff1",
          "max_ask_diff1",
          "min_ask_diff1",
          "var_ask_diff1",
          "mean_bid_size_diff1",
          "max_bid_size_diff1",
          "min_bid_size_diff1",
          "var_bid_size_diff1",
          "mean_bid_size_diff2",
          "max_bid_size_diff2",
          "min_bid_size_diff2",
          "var_bid_size_diff2",
          "mean_ask_size_diff1",
          "max_ask_size_diff1",
          "min_ask_size_diff1",
          "var_ask_size_diff1",
          "mean_ask_size_diff2",
          "max_ask_size_diff2",
          "min_ask_size_diff2",
          "var_ask_size_diff2"
         ],
         "yaxis": "y"
        }
       ],
       "layout": {
        "barmode": "relative",
        "legend": {
         "tracegroupgap": 0
        },
        "margin": {
         "t": 60
        },
        "template": {
         "data": {
          "bar": [
           {
            "error_x": {
             "color": "#2a3f5f"
            },
            "error_y": {
             "color": "#2a3f5f"
            },
            "marker": {
             "line": {
              "color": "#E5ECF6",
              "width": 0.5
             },
             "pattern": {
              "fillmode": "overlay",
              "size": 10,
              "solidity": 0.2
             }
            },
            "type": "bar"
           }
          ],
          "barpolar": [
           {
            "marker": {
             "line": {
              "color": "#E5ECF6",
              "width": 0.5
             },
             "pattern": {
              "fillmode": "overlay",
              "size": 10,
              "solidity": 0.2
             }
            },
            "type": "barpolar"
           }
          ],
          "carpet": [
           {
            "aaxis": {
             "endlinecolor": "#2a3f5f",
             "gridcolor": "white",
             "linecolor": "white",
             "minorgridcolor": "white",
             "startlinecolor": "#2a3f5f"
            },
            "baxis": {
             "endlinecolor": "#2a3f5f",
             "gridcolor": "white",
             "linecolor": "white",
             "minorgridcolor": "white",
             "startlinecolor": "#2a3f5f"
            },
            "type": "carpet"
           }
          ],
          "choropleth": [
           {
            "colorbar": {
             "outlinewidth": 0,
             "ticks": ""
            },
            "type": "choropleth"
           }
          ],
          "contour": [
           {
            "colorbar": {
             "outlinewidth": 0,
             "ticks": ""
            },
            "colorscale": [
             [
              0,
              "#0d0887"
             ],
             [
              0.1111111111111111,
              "#46039f"
             ],
             [
              0.2222222222222222,
              "#7201a8"
             ],
             [
              0.3333333333333333,
              "#9c179e"
             ],
             [
              0.4444444444444444,
              "#bd3786"
             ],
             [
              0.5555555555555556,
              "#d8576b"
             ],
             [
              0.6666666666666666,
              "#ed7953"
             ],
             [
              0.7777777777777778,
              "#fb9f3a"
             ],
             [
              0.8888888888888888,
              "#fdca26"
             ],
             [
              1,
              "#f0f921"
             ]
            ],
            "type": "contour"
           }
          ],
          "contourcarpet": [
           {
            "colorbar": {
             "outlinewidth": 0,
             "ticks": ""
            },
            "type": "contourcarpet"
           }
          ],
          "heatmap": [
           {
            "colorbar": {
             "outlinewidth": 0,
             "ticks": ""
            },
            "colorscale": [
             [
              0,
              "#0d0887"
             ],
             [
              0.1111111111111111,
              "#46039f"
             ],
             [
              0.2222222222222222,
              "#7201a8"
             ],
             [
              0.3333333333333333,
              "#9c179e"
             ],
             [
              0.4444444444444444,
              "#bd3786"
             ],
             [
              0.5555555555555556,
              "#d8576b"
             ],
             [
              0.6666666666666666,
              "#ed7953"
             ],
             [
              0.7777777777777778,
              "#fb9f3a"
             ],
             [
              0.8888888888888888,
              "#fdca26"
             ],
             [
              1,
              "#f0f921"
             ]
            ],
            "type": "heatmap"
           }
          ],
          "heatmapgl": [
           {
            "colorbar": {
             "outlinewidth": 0,
             "ticks": ""
            },
            "colorscale": [
             [
              0,
              "#0d0887"
             ],
             [
              0.1111111111111111,
              "#46039f"
             ],
             [
              0.2222222222222222,
              "#7201a8"
             ],
             [
              0.3333333333333333,
              "#9c179e"
             ],
             [
              0.4444444444444444,
              "#bd3786"
             ],
             [
              0.5555555555555556,
              "#d8576b"
             ],
             [
              0.6666666666666666,
              "#ed7953"
             ],
             [
              0.7777777777777778,
              "#fb9f3a"
             ],
             [
              0.8888888888888888,
              "#fdca26"
             ],
             [
              1,
              "#f0f921"
             ]
            ],
            "type": "heatmapgl"
           }
          ],
          "histogram": [
           {
            "marker": {
             "pattern": {
              "fillmode": "overlay",
              "size": 10,
              "solidity": 0.2
             }
            },
            "type": "histogram"
           }
          ],
          "histogram2d": [
           {
            "colorbar": {
             "outlinewidth": 0,
             "ticks": ""
            },
            "colorscale": [
             [
              0,
              "#0d0887"
             ],
             [
              0.1111111111111111,
              "#46039f"
             ],
             [
              0.2222222222222222,
              "#7201a8"
             ],
             [
              0.3333333333333333,
              "#9c179e"
             ],
             [
              0.4444444444444444,
              "#bd3786"
             ],
             [
              0.5555555555555556,
              "#d8576b"
             ],
             [
              0.6666666666666666,
              "#ed7953"
             ],
             [
              0.7777777777777778,
              "#fb9f3a"
             ],
             [
              0.8888888888888888,
              "#fdca26"
             ],
             [
              1,
              "#f0f921"
             ]
            ],
            "type": "histogram2d"
           }
          ],
          "histogram2dcontour": [
           {
            "colorbar": {
             "outlinewidth": 0,
             "ticks": ""
            },
            "colorscale": [
             [
              0,
              "#0d0887"
             ],
             [
              0.1111111111111111,
              "#46039f"
             ],
             [
              0.2222222222222222,
              "#7201a8"
             ],
             [
              0.3333333333333333,
              "#9c179e"
             ],
             [
              0.4444444444444444,
              "#bd3786"
             ],
             [
              0.5555555555555556,
              "#d8576b"
             ],
             [
              0.6666666666666666,
              "#ed7953"
             ],
             [
              0.7777777777777778,
              "#fb9f3a"
             ],
             [
              0.8888888888888888,
              "#fdca26"
             ],
             [
              1,
              "#f0f921"
             ]
            ],
            "type": "histogram2dcontour"
           }
          ],
          "mesh3d": [
           {
            "colorbar": {
             "outlinewidth": 0,
             "ticks": ""
            },
            "type": "mesh3d"
           }
          ],
          "parcoords": [
           {
            "line": {
             "colorbar": {
              "outlinewidth": 0,
              "ticks": ""
             }
            },
            "type": "parcoords"
           }
          ],
          "pie": [
           {
            "automargin": true,
            "type": "pie"
           }
          ],
          "scatter": [
           {
            "fillpattern": {
             "fillmode": "overlay",
             "size": 10,
             "solidity": 0.2
            },
            "type": "scatter"
           }
          ],
          "scatter3d": [
           {
            "line": {
             "colorbar": {
              "outlinewidth": 0,
              "ticks": ""
             }
            },
            "marker": {
             "colorbar": {
              "outlinewidth": 0,
              "ticks": ""
             }
            },
            "type": "scatter3d"
           }
          ],
          "scattercarpet": [
           {
            "marker": {
             "colorbar": {
              "outlinewidth": 0,
              "ticks": ""
             }
            },
            "type": "scattercarpet"
           }
          ],
          "scattergeo": [
           {
            "marker": {
             "colorbar": {
              "outlinewidth": 0,
              "ticks": ""
             }
            },
            "type": "scattergeo"
           }
          ],
          "scattergl": [
           {
            "marker": {
             "colorbar": {
              "outlinewidth": 0,
              "ticks": ""
             }
            },
            "type": "scattergl"
           }
          ],
          "scattermapbox": [
           {
            "marker": {
             "colorbar": {
              "outlinewidth": 0,
              "ticks": ""
             }
            },
            "type": "scattermapbox"
           }
          ],
          "scatterpolar": [
           {
            "marker": {
             "colorbar": {
              "outlinewidth": 0,
              "ticks": ""
             }
            },
            "type": "scatterpolar"
           }
          ],
          "scatterpolargl": [
           {
            "marker": {
             "colorbar": {
              "outlinewidth": 0,
              "ticks": ""
             }
            },
            "type": "scatterpolargl"
           }
          ],
          "scatterternary": [
           {
            "marker": {
             "colorbar": {
              "outlinewidth": 0,
              "ticks": ""
             }
            },
            "type": "scatterternary"
           }
          ],
          "surface": [
           {
            "colorbar": {
             "outlinewidth": 0,
             "ticks": ""
            },
            "colorscale": [
             [
              0,
              "#0d0887"
             ],
             [
              0.1111111111111111,
              "#46039f"
             ],
             [
              0.2222222222222222,
              "#7201a8"
             ],
             [
              0.3333333333333333,
              "#9c179e"
             ],
             [
              0.4444444444444444,
              "#bd3786"
             ],
             [
              0.5555555555555556,
              "#d8576b"
             ],
             [
              0.6666666666666666,
              "#ed7953"
             ],
             [
              0.7777777777777778,
              "#fb9f3a"
             ],
             [
              0.8888888888888888,
              "#fdca26"
             ],
             [
              1,
              "#f0f921"
             ]
            ],
            "type": "surface"
           }
          ],
          "table": [
           {
            "cells": {
             "fill": {
              "color": "#EBF0F8"
             },
             "line": {
              "color": "white"
             }
            },
            "header": {
             "fill": {
              "color": "#C8D4E3"
             },
             "line": {
              "color": "white"
             }
            },
            "type": "table"
           }
          ]
         },
         "layout": {
          "annotationdefaults": {
           "arrowcolor": "#2a3f5f",
           "arrowhead": 0,
           "arrowwidth": 1
          },
          "autotypenumbers": "strict",
          "coloraxis": {
           "colorbar": {
            "outlinewidth": 0,
            "ticks": ""
           }
          },
          "colorscale": {
           "diverging": [
            [
             0,
             "#8e0152"
            ],
            [
             0.1,
             "#c51b7d"
            ],
            [
             0.2,
             "#de77ae"
            ],
            [
             0.3,
             "#f1b6da"
            ],
            [
             0.4,
             "#fde0ef"
            ],
            [
             0.5,
             "#f7f7f7"
            ],
            [
             0.6,
             "#e6f5d0"
            ],
            [
             0.7,
             "#b8e186"
            ],
            [
             0.8,
             "#7fbc41"
            ],
            [
             0.9,
             "#4d9221"
            ],
            [
             1,
             "#276419"
            ]
           ],
           "sequential": [
            [
             0,
             "#0d0887"
            ],
            [
             0.1111111111111111,
             "#46039f"
            ],
            [
             0.2222222222222222,
             "#7201a8"
            ],
            [
             0.3333333333333333,
             "#9c179e"
            ],
            [
             0.4444444444444444,
             "#bd3786"
            ],
            [
             0.5555555555555556,
             "#d8576b"
            ],
            [
             0.6666666666666666,
             "#ed7953"
            ],
            [
             0.7777777777777778,
             "#fb9f3a"
            ],
            [
             0.8888888888888888,
             "#fdca26"
            ],
            [
             1,
             "#f0f921"
            ]
           ],
           "sequentialminus": [
            [
             0,
             "#0d0887"
            ],
            [
             0.1111111111111111,
             "#46039f"
            ],
            [
             0.2222222222222222,
             "#7201a8"
            ],
            [
             0.3333333333333333,
             "#9c179e"
            ],
            [
             0.4444444444444444,
             "#bd3786"
            ],
            [
             0.5555555555555556,
             "#d8576b"
            ],
            [
             0.6666666666666666,
             "#ed7953"
            ],
            [
             0.7777777777777778,
             "#fb9f3a"
            ],
            [
             0.8888888888888888,
             "#fdca26"
            ],
            [
             1,
             "#f0f921"
            ]
           ]
          },
          "colorway": [
           "#636efa",
           "#EF553B",
           "#00cc96",
           "#ab63fa",
           "#FFA15A",
           "#19d3f3",
           "#FF6692",
           "#B6E880",
           "#FF97FF",
           "#FECB52"
          ],
          "font": {
           "color": "#2a3f5f"
          },
          "geo": {
           "bgcolor": "white",
           "lakecolor": "white",
           "landcolor": "#E5ECF6",
           "showlakes": true,
           "showland": true,
           "subunitcolor": "white"
          },
          "hoverlabel": {
           "align": "left"
          },
          "hovermode": "closest",
          "mapbox": {
           "style": "light"
          },
          "paper_bgcolor": "white",
          "plot_bgcolor": "#E5ECF6",
          "polar": {
           "angularaxis": {
            "gridcolor": "white",
            "linecolor": "white",
            "ticks": ""
           },
           "bgcolor": "#E5ECF6",
           "radialaxis": {
            "gridcolor": "white",
            "linecolor": "white",
            "ticks": ""
           }
          },
          "scene": {
           "xaxis": {
            "backgroundcolor": "#E5ECF6",
            "gridcolor": "white",
            "gridwidth": 2,
            "linecolor": "white",
            "showbackground": true,
            "ticks": "",
            "zerolinecolor": "white"
           },
           "yaxis": {
            "backgroundcolor": "#E5ECF6",
            "gridcolor": "white",
            "gridwidth": 2,
            "linecolor": "white",
            "showbackground": true,
            "ticks": "",
            "zerolinecolor": "white"
           },
           "zaxis": {
            "backgroundcolor": "#E5ECF6",
            "gridcolor": "white",
            "gridwidth": 2,
            "linecolor": "white",
            "showbackground": true,
            "ticks": "",
            "zerolinecolor": "white"
           }
          },
          "shapedefaults": {
           "line": {
            "color": "#2a3f5f"
           }
          },
          "ternary": {
           "aaxis": {
            "gridcolor": "white",
            "linecolor": "white",
            "ticks": ""
           },
           "baxis": {
            "gridcolor": "white",
            "linecolor": "white",
            "ticks": ""
           },
           "bgcolor": "#E5ECF6",
           "caxis": {
            "gridcolor": "white",
            "linecolor": "white",
            "ticks": ""
           }
          },
          "title": {
           "x": 0.05
          },
          "xaxis": {
           "automargin": true,
           "gridcolor": "white",
           "linecolor": "white",
           "ticks": "",
           "title": {
            "standoff": 15
           },
           "zerolinecolor": "white",
           "zerolinewidth": 2
          },
          "yaxis": {
           "automargin": true,
           "gridcolor": "white",
           "linecolor": "white",
           "ticks": "",
           "title": {
            "standoff": 15
           },
           "zerolinecolor": "white",
           "zerolinewidth": 2
          }
         }
        },
        "title": {
         "text": "Feature Importance Plot"
        },
        "xaxis": {
         "anchor": "y",
         "domain": [
          0,
          1
         ],
         "title": {
          "text": "Importance"
         }
        },
        "yaxis": {
         "anchor": "x",
         "domain": [
          0,
          1
         ],
         "title": {
          "text": "Feature"
         }
        }
       }
      },
      "text/html": [
       "<div>                            <div id=\"e0d5cb82-7637-4f4c-a809-55598f7cea48\" class=\"plotly-graph-div\" style=\"height:525px; width:100%;\"></div>            <script type=\"text/javascript\">                require([\"plotly\"], function(Plotly) {                    window.PLOTLYENV=window.PLOTLYENV || {};                                    if (document.getElementById(\"e0d5cb82-7637-4f4c-a809-55598f7cea48\")) {                    Plotly.newPlot(                        \"e0d5cb82-7637-4f4c-a809-55598f7cea48\",                        [{\"alignmentgroup\":\"True\",\"hovertemplate\":\"Importance=%{text}<br>Feature=%{y}<extra></extra>\",\"legendgroup\":\"\",\"marker\":{\"color\":\"#636efa\",\"pattern\":{\"shape\":\"\"}},\"name\":\"\",\"offsetgroup\":\"\",\"orientation\":\"h\",\"showlegend\":false,\"text\":[6.0239788581384346e-05,0.00016725799650885165,8.017205254873261e-05,3.32256022375077e-05,0.00016957010666374117,3.8854013837408274e-05,8.342596265720204e-05,6.750407192157581e-05,0.00021539664885494858,8.260395406978205e-05,0.00026515914942137897,4.900229396298528e-05,8.398655336350203e-05,0.0002654019626788795,0.00010075204772874713,7.495870522689074e-05,6.366198067553341e-05,9.436145046493039e-05,5.6987646530615166e-05,9.575934382155538e-05,7.638675015186891e-05,0.00013163397670723498,0.0001245973980985582,0.00010113553435076028,0.00017091326299123466,8.06649259175174e-05,0.0001504151150584221,7.434943836415187e-05,6.792126805521548e-05,8.077977690845728e-05,7.878098404034972e-05,0.0001234458904946223,9.25123313209042e-05,7.219100371003151e-05,0.00012829188199248165,7.429473771480843e-05,8.979539416031912e-05,8.730378613108769e-05,0.00011443659604992718,0.0001380546746077016,9.06420755200088e-05,0.00010316173575120047,0.00024122626928146929,8.169207285391167e-05,6.289903103606775e-05,9.049477375810966e-05,0.0001297823037020862,5.021790275350213e-05,6.082471736590378e-05,0.00010866540833376348,0.0003843531012535095,0.0001201612176373601,0.00010184894927078858,0.00010940311040030792,0.00011372807784937322,9.472931560594589e-05,8.1087629951071e-05,3.0744486139155924e-05,9.314314957009628e-05,9.948618389898911e-05,9.659791976446286e-05,0.00010359109728597105,0.00015642364451196045,0.00010496446338947862,3.939731323043816e-05,5.4558160627493635e-05,8.152933878591284e-05,8.576168329454958e-05,9.711592429084703e-05,7.390852988464758e-05,6.91070526954718e-05,8.724424696993083e-05,7.915610331110656e-05,0.00010421095066703856,0.00010941724030999467,0.00011488424934213981,0.0001279886782867834,0.00013379103620536625,0.00017537700477987528,0.00011628068750724196,0.00014221847231965512,0.00022386352065950632,0.00010359534644521773,7.57276065996848e-05,6.137996388133615e-05,7.808888040017337e-05,6.846080214018002e-05,7.676086534047499e-05,0.00011153691593790427,0.00015128969971556216,7.333950634347275e-05,0.00013458458124659956,0.00010170420864596963,0.0001709896168904379,0.00012910481018479913,0.00012779940152540803,7.858143362682313e-05,8.68563583935611e-05,0.00016902900824788958,0.015735875815153122,9.523522021481767e-05,8.369887655135244e-05,8.572058868594468e-05,7.021368219284341e-05,0.0001109581789933145,6.534276326419786e-05,0.00015874463133513927,8.306549716508016e-05,0.00010386233043391258,0.00012689203140325844,7.204964640550315e-05,6.286139250732958e-05,8.258914022007957e-05,8.480725227855146e-05,7.23009870853275e-05,6.065515844966285e-05,7.685121818212792e-05,0.0001151874748757109,7.47234225855209e-05,7.961938536027446e-05,8.237428846769035e-05,8.816603076411411e-05,8.928836905397475e-05,8.37231200421229e-05,8.440336387138814e-05,8.739891927689314e-05,0.00018529575027059764,0.00011109135812148452],\"textposition\":\"auto\",\"x\":[6.0239788581384346e-05,0.00016725799650885165,8.017205254873261e-05,3.32256022375077e-05,0.00016957010666374117,3.8854013837408274e-05,8.342596265720204e-05,6.750407192157581e-05,0.00021539664885494858,8.260395406978205e-05,0.00026515914942137897,4.900229396298528e-05,8.398655336350203e-05,0.0002654019626788795,0.00010075204772874713,7.495870522689074e-05,6.366198067553341e-05,9.436145046493039e-05,5.6987646530615166e-05,9.575934382155538e-05,7.638675015186891e-05,0.00013163397670723498,0.0001245973980985582,0.00010113553435076028,0.00017091326299123466,8.06649259175174e-05,0.0001504151150584221,7.434943836415187e-05,6.792126805521548e-05,8.077977690845728e-05,7.878098404034972e-05,0.0001234458904946223,9.25123313209042e-05,7.219100371003151e-05,0.00012829188199248165,7.429473771480843e-05,8.979539416031912e-05,8.730378613108769e-05,0.00011443659604992718,0.0001380546746077016,9.06420755200088e-05,0.00010316173575120047,0.00024122626928146929,8.169207285391167e-05,6.289903103606775e-05,9.049477375810966e-05,0.0001297823037020862,5.021790275350213e-05,6.082471736590378e-05,0.00010866540833376348,0.0003843531012535095,0.0001201612176373601,0.00010184894927078858,0.00010940311040030792,0.00011372807784937322,9.472931560594589e-05,8.1087629951071e-05,3.0744486139155924e-05,9.314314957009628e-05,9.948618389898911e-05,9.659791976446286e-05,0.00010359109728597105,0.00015642364451196045,0.00010496446338947862,3.939731323043816e-05,5.4558160627493635e-05,8.152933878591284e-05,8.576168329454958e-05,9.711592429084703e-05,7.390852988464758e-05,6.91070526954718e-05,8.724424696993083e-05,7.915610331110656e-05,0.00010421095066703856,0.00010941724030999467,0.00011488424934213981,0.0001279886782867834,0.00013379103620536625,0.00017537700477987528,0.00011628068750724196,0.00014221847231965512,0.00022386352065950632,0.00010359534644521773,7.57276065996848e-05,6.137996388133615e-05,7.808888040017337e-05,6.846080214018002e-05,7.676086534047499e-05,0.00011153691593790427,0.00015128969971556216,7.333950634347275e-05,0.00013458458124659956,0.00010170420864596963,0.0001709896168904379,0.00012910481018479913,0.00012779940152540803,7.858143362682313e-05,8.68563583935611e-05,0.00016902900824788958,0.015735875815153122,9.523522021481767e-05,8.369887655135244e-05,8.572058868594468e-05,7.021368219284341e-05,0.0001109581789933145,6.534276326419786e-05,0.00015874463133513927,8.306549716508016e-05,0.00010386233043391258,0.00012689203140325844,7.204964640550315e-05,6.286139250732958e-05,8.258914022007957e-05,8.480725227855146e-05,7.23009870853275e-05,6.065515844966285e-05,7.685121818212792e-05,0.0001151874748757109,7.47234225855209e-05,7.961938536027446e-05,8.237428846769035e-05,8.816603076411411e-05,8.928836905397475e-05,8.37231200421229e-05,8.440336387138814e-05,8.739891927689314e-05,0.00018529575027059764,0.00011109135812148452],\"xaxis\":\"x\",\"y\":[\"total_size\",\"mean_size\",\"max_size\",\"min_size\",\"var_size\",\"mean_price\",\"max_price\",\"min_price\",\"var_price\",\"total_volume\",\"mean_volume\",\"max_volume\",\"min_volume\",\"var_volume\",\"total_order_count\",\"mean_order_count\",\"max_order_count\",\"var_order_count\",\"vwap\",\"mean_vpc\",\"max_vpc\",\"min_vpc\",\"var_vpc\",\"mean_diff_sec\",\"max_diff_sec\",\"min_diff_sec\",\"var_diff_sec\",\"mean_diff_price\",\"max_diff_price\",\"min_diff_price\",\"var_diff_price\",\"mean_diff_volume\",\"max_diff_volume\",\"min_diff_volume\",\"var_diff_volume\",\"mean_ask_price1\",\"max_ask_price1\",\"min_ask_price1\",\"var_ask_price1\",\"mean_ask_price2\",\"max_ask_price2\",\"min_ask_price2\",\"var_ask_price2\",\"mean_bid_price1\",\"max_bid_price1\",\"min_bid_price1\",\"var_bid_price1\",\"mean_bid_price2\",\"max_bid_price2\",\"min_bid_price2\",\"var_bid_price2\",\"mean_ask_size1\",\"max_ask_size1\",\"min_ask_size1\",\"var_ask_size1\",\"mean_ask_size2\",\"max_ask_size2\",\"min_ask_size2\",\"var_ask_size2\",\"mean_bid_size1\",\"max_bid_size1\",\"min_bid_size1\",\"var_bid_size1\",\"mean_bid_size2\",\"max_bid_size2\",\"min_bid_size2\",\"var_bid_size2\",\"mean_supply\",\"max_supply\",\"min_supply\",\"var_supply\",\"mean_pot_demand\",\"max_pot_demand\",\"min_pot_demand\",\"var_pot_demand\",\"mean_bid_price1_2\",\"max_bid_price1_2\",\"min_bid_price1_2\",\"var_bid_price1_2\",\"mean_ask_price1_2\",\"max_ask_price1_2\",\"min_ask_price1_2\",\"var_ask_price1_2\",\"mean_bid_size1_2\",\"max_bid_size1_2\",\"min_bid_size1_2\",\"var_bid_size1_2\",\"mean_ask_size1_2\",\"max_ask_size1_2\",\"min_ask_size1_2\",\"var_ask_size1_2\",\"mean_BidAskSpreadOpt\",\"max_BidAskSpreadOpt\",\"min_BidAskSpreadOpt\",\"var_BidAskSpreadOpt\",\"mean_wap\",\"max_wap\",\"min_wap\",\"var_wap\",\"current_realized_volatility\",\"mean_bid_diff1\",\"max_bid_diff1\",\"min_bid_diff1\",\"var_bid_diff1\",\"mean_bid_diff2\",\"max_bid_diff2\",\"min_bid_diff2\",\"var_bid_diff2\",\"mean_ask_diff1\",\"max_ask_diff1\",\"min_ask_diff1\",\"var_ask_diff1\",\"mean_bid_size_diff1\",\"max_bid_size_diff1\",\"min_bid_size_diff1\",\"var_bid_size_diff1\",\"mean_bid_size_diff2\",\"max_bid_size_diff2\",\"min_bid_size_diff2\",\"var_bid_size_diff2\",\"mean_ask_size_diff1\",\"max_ask_size_diff1\",\"min_ask_size_diff1\",\"var_ask_size_diff1\",\"mean_ask_size_diff2\",\"max_ask_size_diff2\",\"min_ask_size_diff2\",\"var_ask_size_diff2\"],\"yaxis\":\"y\",\"type\":\"bar\"}],                        {\"template\":{\"data\":{\"histogram2dcontour\":[{\"type\":\"histogram2dcontour\",\"colorbar\":{\"outlinewidth\":0,\"ticks\":\"\"},\"colorscale\":[[0.0,\"#0d0887\"],[0.1111111111111111,\"#46039f\"],[0.2222222222222222,\"#7201a8\"],[0.3333333333333333,\"#9c179e\"],[0.4444444444444444,\"#bd3786\"],[0.5555555555555556,\"#d8576b\"],[0.6666666666666666,\"#ed7953\"],[0.7777777777777778,\"#fb9f3a\"],[0.8888888888888888,\"#fdca26\"],[1.0,\"#f0f921\"]]}],\"choropleth\":[{\"type\":\"choropleth\",\"colorbar\":{\"outlinewidth\":0,\"ticks\":\"\"}}],\"histogram2d\":[{\"type\":\"histogram2d\",\"colorbar\":{\"outlinewidth\":0,\"ticks\":\"\"},\"colorscale\":[[0.0,\"#0d0887\"],[0.1111111111111111,\"#46039f\"],[0.2222222222222222,\"#7201a8\"],[0.3333333333333333,\"#9c179e\"],[0.4444444444444444,\"#bd3786\"],[0.5555555555555556,\"#d8576b\"],[0.6666666666666666,\"#ed7953\"],[0.7777777777777778,\"#fb9f3a\"],[0.8888888888888888,\"#fdca26\"],[1.0,\"#f0f921\"]]}],\"heatmap\":[{\"type\":\"heatmap\",\"colorbar\":{\"outlinewidth\":0,\"ticks\":\"\"},\"colorscale\":[[0.0,\"#0d0887\"],[0.1111111111111111,\"#46039f\"],[0.2222222222222222,\"#7201a8\"],[0.3333333333333333,\"#9c179e\"],[0.4444444444444444,\"#bd3786\"],[0.5555555555555556,\"#d8576b\"],[0.6666666666666666,\"#ed7953\"],[0.7777777777777778,\"#fb9f3a\"],[0.8888888888888888,\"#fdca26\"],[1.0,\"#f0f921\"]]}],\"heatmapgl\":[{\"type\":\"heatmapgl\",\"colorbar\":{\"outlinewidth\":0,\"ticks\":\"\"},\"colorscale\":[[0.0,\"#0d0887\"],[0.1111111111111111,\"#46039f\"],[0.2222222222222222,\"#7201a8\"],[0.3333333333333333,\"#9c179e\"],[0.4444444444444444,\"#bd3786\"],[0.5555555555555556,\"#d8576b\"],[0.6666666666666666,\"#ed7953\"],[0.7777777777777778,\"#fb9f3a\"],[0.8888888888888888,\"#fdca26\"],[1.0,\"#f0f921\"]]}],\"contourcarpet\":[{\"type\":\"contourcarpet\",\"colorbar\":{\"outlinewidth\":0,\"ticks\":\"\"}}],\"contour\":[{\"type\":\"contour\",\"colorbar\":{\"outlinewidth\":0,\"ticks\":\"\"},\"colorscale\":[[0.0,\"#0d0887\"],[0.1111111111111111,\"#46039f\"],[0.2222222222222222,\"#7201a8\"],[0.3333333333333333,\"#9c179e\"],[0.4444444444444444,\"#bd3786\"],[0.5555555555555556,\"#d8576b\"],[0.6666666666666666,\"#ed7953\"],[0.7777777777777778,\"#fb9f3a\"],[0.8888888888888888,\"#fdca26\"],[1.0,\"#f0f921\"]]}],\"surface\":[{\"type\":\"surface\",\"colorbar\":{\"outlinewidth\":0,\"ticks\":\"\"},\"colorscale\":[[0.0,\"#0d0887\"],[0.1111111111111111,\"#46039f\"],[0.2222222222222222,\"#7201a8\"],[0.3333333333333333,\"#9c179e\"],[0.4444444444444444,\"#bd3786\"],[0.5555555555555556,\"#d8576b\"],[0.6666666666666666,\"#ed7953\"],[0.7777777777777778,\"#fb9f3a\"],[0.8888888888888888,\"#fdca26\"],[1.0,\"#f0f921\"]]}],\"mesh3d\":[{\"type\":\"mesh3d\",\"colorbar\":{\"outlinewidth\":0,\"ticks\":\"\"}}],\"scatter\":[{\"fillpattern\":{\"fillmode\":\"overlay\",\"size\":10,\"solidity\":0.2},\"type\":\"scatter\"}],\"parcoords\":[{\"type\":\"parcoords\",\"line\":{\"colorbar\":{\"outlinewidth\":0,\"ticks\":\"\"}}}],\"scatterpolargl\":[{\"type\":\"scatterpolargl\",\"marker\":{\"colorbar\":{\"outlinewidth\":0,\"ticks\":\"\"}}}],\"bar\":[{\"error_x\":{\"color\":\"#2a3f5f\"},\"error_y\":{\"color\":\"#2a3f5f\"},\"marker\":{\"line\":{\"color\":\"#E5ECF6\",\"width\":0.5},\"pattern\":{\"fillmode\":\"overlay\",\"size\":10,\"solidity\":0.2}},\"type\":\"bar\"}],\"scattergeo\":[{\"type\":\"scattergeo\",\"marker\":{\"colorbar\":{\"outlinewidth\":0,\"ticks\":\"\"}}}],\"scatterpolar\":[{\"type\":\"scatterpolar\",\"marker\":{\"colorbar\":{\"outlinewidth\":0,\"ticks\":\"\"}}}],\"histogram\":[{\"marker\":{\"pattern\":{\"fillmode\":\"overlay\",\"size\":10,\"solidity\":0.2}},\"type\":\"histogram\"}],\"scattergl\":[{\"type\":\"scattergl\",\"marker\":{\"colorbar\":{\"outlinewidth\":0,\"ticks\":\"\"}}}],\"scatter3d\":[{\"type\":\"scatter3d\",\"line\":{\"colorbar\":{\"outlinewidth\":0,\"ticks\":\"\"}},\"marker\":{\"colorbar\":{\"outlinewidth\":0,\"ticks\":\"\"}}}],\"scattermapbox\":[{\"type\":\"scattermapbox\",\"marker\":{\"colorbar\":{\"outlinewidth\":0,\"ticks\":\"\"}}}],\"scatterternary\":[{\"type\":\"scatterternary\",\"marker\":{\"colorbar\":{\"outlinewidth\":0,\"ticks\":\"\"}}}],\"scattercarpet\":[{\"type\":\"scattercarpet\",\"marker\":{\"colorbar\":{\"outlinewidth\":0,\"ticks\":\"\"}}}],\"carpet\":[{\"aaxis\":{\"endlinecolor\":\"#2a3f5f\",\"gridcolor\":\"white\",\"linecolor\":\"white\",\"minorgridcolor\":\"white\",\"startlinecolor\":\"#2a3f5f\"},\"baxis\":{\"endlinecolor\":\"#2a3f5f\",\"gridcolor\":\"white\",\"linecolor\":\"white\",\"minorgridcolor\":\"white\",\"startlinecolor\":\"#2a3f5f\"},\"type\":\"carpet\"}],\"table\":[{\"cells\":{\"fill\":{\"color\":\"#EBF0F8\"},\"line\":{\"color\":\"white\"}},\"header\":{\"fill\":{\"color\":\"#C8D4E3\"},\"line\":{\"color\":\"white\"}},\"type\":\"table\"}],\"barpolar\":[{\"marker\":{\"line\":{\"color\":\"#E5ECF6\",\"width\":0.5},\"pattern\":{\"fillmode\":\"overlay\",\"size\":10,\"solidity\":0.2}},\"type\":\"barpolar\"}],\"pie\":[{\"automargin\":true,\"type\":\"pie\"}]},\"layout\":{\"autotypenumbers\":\"strict\",\"colorway\":[\"#636efa\",\"#EF553B\",\"#00cc96\",\"#ab63fa\",\"#FFA15A\",\"#19d3f3\",\"#FF6692\",\"#B6E880\",\"#FF97FF\",\"#FECB52\"],\"font\":{\"color\":\"#2a3f5f\"},\"hovermode\":\"closest\",\"hoverlabel\":{\"align\":\"left\"},\"paper_bgcolor\":\"white\",\"plot_bgcolor\":\"#E5ECF6\",\"polar\":{\"bgcolor\":\"#E5ECF6\",\"angularaxis\":{\"gridcolor\":\"white\",\"linecolor\":\"white\",\"ticks\":\"\"},\"radialaxis\":{\"gridcolor\":\"white\",\"linecolor\":\"white\",\"ticks\":\"\"}},\"ternary\":{\"bgcolor\":\"#E5ECF6\",\"aaxis\":{\"gridcolor\":\"white\",\"linecolor\":\"white\",\"ticks\":\"\"},\"baxis\":{\"gridcolor\":\"white\",\"linecolor\":\"white\",\"ticks\":\"\"},\"caxis\":{\"gridcolor\":\"white\",\"linecolor\":\"white\",\"ticks\":\"\"}},\"coloraxis\":{\"colorbar\":{\"outlinewidth\":0,\"ticks\":\"\"}},\"colorscale\":{\"sequential\":[[0.0,\"#0d0887\"],[0.1111111111111111,\"#46039f\"],[0.2222222222222222,\"#7201a8\"],[0.3333333333333333,\"#9c179e\"],[0.4444444444444444,\"#bd3786\"],[0.5555555555555556,\"#d8576b\"],[0.6666666666666666,\"#ed7953\"],[0.7777777777777778,\"#fb9f3a\"],[0.8888888888888888,\"#fdca26\"],[1.0,\"#f0f921\"]],\"sequentialminus\":[[0.0,\"#0d0887\"],[0.1111111111111111,\"#46039f\"],[0.2222222222222222,\"#7201a8\"],[0.3333333333333333,\"#9c179e\"],[0.4444444444444444,\"#bd3786\"],[0.5555555555555556,\"#d8576b\"],[0.6666666666666666,\"#ed7953\"],[0.7777777777777778,\"#fb9f3a\"],[0.8888888888888888,\"#fdca26\"],[1.0,\"#f0f921\"]],\"diverging\":[[0,\"#8e0152\"],[0.1,\"#c51b7d\"],[0.2,\"#de77ae\"],[0.3,\"#f1b6da\"],[0.4,\"#fde0ef\"],[0.5,\"#f7f7f7\"],[0.6,\"#e6f5d0\"],[0.7,\"#b8e186\"],[0.8,\"#7fbc41\"],[0.9,\"#4d9221\"],[1,\"#276419\"]]},\"xaxis\":{\"gridcolor\":\"white\",\"linecolor\":\"white\",\"ticks\":\"\",\"title\":{\"standoff\":15},\"zerolinecolor\":\"white\",\"automargin\":true,\"zerolinewidth\":2},\"yaxis\":{\"gridcolor\":\"white\",\"linecolor\":\"white\",\"ticks\":\"\",\"title\":{\"standoff\":15},\"zerolinecolor\":\"white\",\"automargin\":true,\"zerolinewidth\":2},\"scene\":{\"xaxis\":{\"backgroundcolor\":\"#E5ECF6\",\"gridcolor\":\"white\",\"linecolor\":\"white\",\"showbackground\":true,\"ticks\":\"\",\"zerolinecolor\":\"white\",\"gridwidth\":2},\"yaxis\":{\"backgroundcolor\":\"#E5ECF6\",\"gridcolor\":\"white\",\"linecolor\":\"white\",\"showbackground\":true,\"ticks\":\"\",\"zerolinecolor\":\"white\",\"gridwidth\":2},\"zaxis\":{\"backgroundcolor\":\"#E5ECF6\",\"gridcolor\":\"white\",\"linecolor\":\"white\",\"showbackground\":true,\"ticks\":\"\",\"zerolinecolor\":\"white\",\"gridwidth\":2}},\"shapedefaults\":{\"line\":{\"color\":\"#2a3f5f\"}},\"annotationdefaults\":{\"arrowcolor\":\"#2a3f5f\",\"arrowhead\":0,\"arrowwidth\":1},\"geo\":{\"bgcolor\":\"white\",\"landcolor\":\"#E5ECF6\",\"subunitcolor\":\"white\",\"showland\":true,\"showlakes\":true,\"lakecolor\":\"white\"},\"title\":{\"x\":0.05},\"mapbox\":{\"style\":\"light\"}}},\"xaxis\":{\"anchor\":\"y\",\"domain\":[0.0,1.0],\"title\":{\"text\":\"Importance\"}},\"yaxis\":{\"anchor\":\"x\",\"domain\":[0.0,1.0],\"title\":{\"text\":\"Feature\"}},\"legend\":{\"tracegroupgap\":0},\"margin\":{\"t\":60},\"barmode\":\"relative\",\"title\":{\"text\":\"Feature Importance Plot\"}},                        {\"responsive\": true}                    ).then(function(){\n",
       "                            \n",
       "var gd = document.getElementById('e0d5cb82-7637-4f4c-a809-55598f7cea48');\n",
       "var x = new MutationObserver(function (mutations, observer) {{\n",
       "        var display = window.getComputedStyle(gd).display;\n",
       "        if (!display || display === 'none') {{\n",
       "            console.log([gd, 'removed!']);\n",
       "            Plotly.purge(gd);\n",
       "            observer.disconnect();\n",
       "        }}\n",
       "}});\n",
       "\n",
       "// Listen for the removal of the full notebook cells\n",
       "var notebookContainer = gd.closest('#notebook-container');\n",
       "if (notebookContainer) {{\n",
       "    x.observe(notebookContainer, {childList: true});\n",
       "}}\n",
       "\n",
       "// Listen for the clearing of the current output cell\n",
       "var outputEl = gd.closest('.output');\n",
       "if (outputEl) {{\n",
       "    x.observe(outputEl, {childList: true});\n",
       "}}\n",
       "\n",
       "                        })                };                });            </script>        </div>"
      ]
     },
     "metadata": {},
     "output_type": "display_data"
    }
   ],
   "source": [
    "importance_df = pd.DataFrame({'Feature': keys, 'Importance': values})\n",
    "fig = px.bar(importance_df, x='Importance', y='Feature', orientation='h', text='Importance')\n",
    "fig.update_layout(title='Feature Importance Plot', xaxis_title='Importance', yaxis_title='Feature')\n",
    "fig.show()"
   ]
  },
  {
   "cell_type": "markdown",
   "id": "3760222c",
   "metadata": {},
   "source": [
    "I extract the top 70% of the most important features based on the gain."
   ]
  },
  {
   "cell_type": "code",
   "execution_count": 41,
   "id": "5c80ecca",
   "metadata": {},
   "outputs": [],
   "source": [
    "top_features = list(pd.Series(values, index = keys).nlargest(round(len(keys_values)*0.7)).index)"
   ]
  },
  {
   "cell_type": "markdown",
   "id": "ffba38ae",
   "metadata": {},
   "source": [
    "# Implementing XGB with these features"
   ]
  },
  {
   "cell_type": "code",
   "execution_count": 45,
   "id": "d1b481cf",
   "metadata": {},
   "outputs": [
    {
     "data": {
      "text/plain": [
       "XGBRegressor(base_score=0.5, booster='gbtree', callbacks=None,\n",
       "             colsample_bylevel=1, colsample_bynode=1, colsample_bytree=1,\n",
       "             early_stopping_rounds=None, enable_categorical=False,\n",
       "             eval_metric=None, gamma=0, gpu_id=-1, grow_policy='depthwise',\n",
       "             importance_type=None, interaction_constraints='',\n",
       "             learning_rate=0.300000012, max_bin=256, max_cat_to_onehot=4,\n",
       "             max_delta_step=0, max_depth=6, max_leaves=0, min_child_weight=1,\n",
       "             missing=nan, monotone_constraints='()', n_estimators=100, n_jobs=0,\n",
       "             num_parallel_tree=1, predictor='auto', random_state=0, reg_alpha=0,\n",
       "             reg_lambda=1, ...)"
      ]
     },
     "execution_count": 45,
     "metadata": {},
     "output_type": "execute_result"
    }
   ],
   "source": [
    "model.fit(X_train[top_features],y_train)"
   ]
  },
  {
   "cell_type": "code",
   "execution_count": 47,
   "id": "fa559bc0",
   "metadata": {},
   "outputs": [],
   "source": [
    "y_pred_train = model.predict(X_train[top_features])"
   ]
  },
  {
   "cell_type": "markdown",
   "id": "34791def",
   "metadata": {},
   "source": [
    "# Training metrics"
   ]
  },
  {
   "cell_type": "code",
   "execution_count": 48,
   "id": "9640fbb2",
   "metadata": {},
   "outputs": [
    {
     "data": {
      "text/plain": [
       "0.8633451343700642"
      ]
     },
     "execution_count": 48,
     "metadata": {},
     "output_type": "execute_result"
    }
   ],
   "source": [
    "r2_score(y_train, y_pred_train)"
   ]
  },
  {
   "cell_type": "code",
   "execution_count": 49,
   "id": "00c4f163",
   "metadata": {},
   "outputs": [
    {
     "data": {
      "text/plain": [
       "0.2774265216286873"
      ]
     },
     "execution_count": 49,
     "metadata": {},
     "output_type": "execute_result"
    }
   ],
   "source": [
    "rmspe(y_train,y_pred_train)"
   ]
  },
  {
   "cell_type": "markdown",
   "id": "bb39865c",
   "metadata": {},
   "source": [
    "# Test metrics"
   ]
  },
  {
   "cell_type": "code",
   "execution_count": 51,
   "id": "251ab0ed",
   "metadata": {},
   "outputs": [],
   "source": [
    "y_pred_test = model.predict(X_test[top_features])"
   ]
  },
  {
   "cell_type": "code",
   "execution_count": 52,
   "id": "56b6f40c",
   "metadata": {},
   "outputs": [
    {
     "data": {
      "text/plain": [
       "0.7986592020064747"
      ]
     },
     "execution_count": 52,
     "metadata": {},
     "output_type": "execute_result"
    }
   ],
   "source": [
    "r2_score(y_test, y_pred_test)"
   ]
  },
  {
   "cell_type": "code",
   "execution_count": 53,
   "id": "f0d1e5b2",
   "metadata": {},
   "outputs": [
    {
     "data": {
      "text/plain": [
       "0.2762052006026019"
      ]
     },
     "execution_count": 53,
     "metadata": {},
     "output_type": "execute_result"
    }
   ],
   "source": [
    "rmspe(y_test,y_pred_test)"
   ]
  },
  {
   "cell_type": "markdown",
   "id": "8675056c",
   "metadata": {},
   "source": [
    "Reducing the model's complexity in this manner did not yield the expected results. In fact, the metrics on the training data remained unchanged, but the metrics on the test data worsened."
   ]
  },
  {
   "cell_type": "markdown",
   "id": "9a9f0720",
   "metadata": {},
   "source": [
    "# Conclusion"
   ]
  },
  {
   "cell_type": "markdown",
   "id": "f5dc00a6",
   "metadata": {},
   "source": [
    "I am satisfied with the achieved results, considering that the goal was to outperform a naive model. Further steps could include **hyperparameter tuning**, such as conducting a **grid search**, although computational constraints may limit this option. Additionally, model enhancement can be explored by **introducing** and **replacing** new variables. Alternatively, experimenting with different models or harnessing the power of neural networks could be considered.\n",
    "\n",
    "The ideal objective would be to mitigate overfitting and reduce the RMSPE to below 0.2."
   ]
  }
 ],
 "metadata": {
  "kernelspec": {
   "display_name": "Python 3 (ipykernel)",
   "language": "python",
   "name": "python3"
  },
  "language_info": {
   "codemirror_mode": {
    "name": "ipython",
    "version": 3
   },
   "file_extension": ".py",
   "mimetype": "text/x-python",
   "name": "python",
   "nbconvert_exporter": "python",
   "pygments_lexer": "ipython3",
   "version": "3.10.9"
  }
 },
 "nbformat": 4,
 "nbformat_minor": 5
}
